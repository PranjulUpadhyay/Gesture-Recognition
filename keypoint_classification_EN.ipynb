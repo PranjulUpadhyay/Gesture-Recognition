{
<<<<<<< HEAD
  "nbformat": 4,
  "nbformat_minor": 0,
  "metadata": {
    "kernelspec": {
      "display_name": "Python 3",
      "language": "python",
      "name": "python3"
    },
    "language_info": {
      "codemirror_mode": {
        "name": "ipython",
        "version": 3
      },
      "file_extension": ".py",
      "mimetype": "text/x-python",
      "name": "python",
      "nbconvert_exporter": "python",
      "pygments_lexer": "ipython3",
      "version": "3.8.5"
    },
    "colab": {
      "name": "keypoint_classification_EN.ipynb",
      "provenance": [],
      "collapsed_sections": [],
      "toc_visible": true
    },
    "accelerator": "GPU"
  },
  "cells": [
    {
      "cell_type": "code",
      "metadata": {
        "id": "igMyGnjE9hEp"
      },
=======
  "cells": [
    {
      "cell_type": "code",
      "execution_count": 67,
      "metadata": {
        "id": "igMyGnjE9hEp"
      },
      "outputs": [],
>>>>>>> 55a182f (improved model accuracy)
      "source": [
        "import csv\n",
        "\n",
        "import numpy as np\n",
        "import tensorflow as tf\n",
        "from sklearn.model_selection import train_test_split\n",
        "\n",
        "RANDOM_SEED = 42"
<<<<<<< HEAD
      ],
      "execution_count": null,
      "outputs": []
=======
      ]
>>>>>>> 55a182f (improved model accuracy)
    },
    {
      "cell_type": "markdown",
      "metadata": {
        "id": "t2HDvhIu9hEr"
      },
      "source": [
        "# Specify each path"
      ]
    },
    {
      "cell_type": "code",
<<<<<<< HEAD
      "metadata": {
        "id": "9NvZP2Zn9hEy"
      },
=======
      "execution_count": 68,
      "metadata": {
        "id": "9NvZP2Zn9hEy"
      },
      "outputs": [],
>>>>>>> 55a182f (improved model accuracy)
      "source": [
        "dataset = 'model/keypoint_classifier/keypoint.csv'\n",
        "model_save_path = 'model/keypoint_classifier/keypoint_classifier.hdf5'\n",
        "tflite_save_path = 'model/keypoint_classifier/keypoint_classifier.tflite'"
<<<<<<< HEAD
      ],
      "execution_count": null,
      "outputs": []
=======
      ]
>>>>>>> 55a182f (improved model accuracy)
    },
    {
      "cell_type": "markdown",
      "metadata": {
        "id": "s5oMH7x19hEz"
      },
      "source": [
        "# Set number of classes"
      ]
    },
    {
      "cell_type": "code",
<<<<<<< HEAD
      "metadata": {
        "id": "du4kodXL9hEz"
      },
      "source": [
        "NUM_CLASSES = 4"
      ],
      "execution_count": null,
      "outputs": []
=======
      "execution_count": 69,
      "metadata": {
        "id": "du4kodXL9hEz"
      },
      "outputs": [],
      "source": [
        "NUM_CLASSES = 4"
      ]
>>>>>>> 55a182f (improved model accuracy)
    },
    {
      "cell_type": "markdown",
      "metadata": {
        "id": "XjnL0uso9hEz"
      },
      "source": [
        "# Dataset reading"
      ]
    },
    {
      "cell_type": "code",
<<<<<<< HEAD
      "metadata": {
        "id": "QT5ZqtEz9hE0"
      },
      "source": [
        "X_dataset = np.loadtxt(dataset, delimiter=',', dtype='float32', usecols=list(range(1, (21 * 2) + 1)))"
      ],
      "execution_count": null,
      "outputs": []
    },
    {
      "cell_type": "code",
      "metadata": {
        "id": "QmoKFsp49hE0"
      },
      "source": [
        "y_dataset = np.loadtxt(dataset, delimiter=',', dtype='int32', usecols=(0))"
      ],
      "execution_count": null,
      "outputs": []
    },
    {
      "cell_type": "code",
      "metadata": {
        "id": "xQU7JTZ_9hE0"
      },
      "source": [
        "X_train, X_test, y_train, y_test = train_test_split(X_dataset, y_dataset, train_size=0.75, random_state=RANDOM_SEED)"
      ],
      "execution_count": null,
      "outputs": []
=======
      "execution_count": 70,
      "metadata": {
        "id": "QT5ZqtEz9hE0"
      },
      "outputs": [],
      "source": [
        "X_dataset = np.loadtxt(dataset, delimiter=',', dtype='float32', usecols=list(range(1, (21 * 2) + 1)))"
      ]
    },
    {
      "cell_type": "code",
      "execution_count": 71,
      "metadata": {
        "id": "QmoKFsp49hE0"
      },
      "outputs": [],
      "source": [
        "y_dataset = np.loadtxt(dataset, delimiter=',', dtype='int32', usecols=(0))"
      ]
    },
    {
      "cell_type": "code",
      "execution_count": 72,
      "metadata": {
        "id": "xQU7JTZ_9hE0"
      },
      "outputs": [],
      "source": [
        "X_train, X_test, y_train, y_test = train_test_split(X_dataset, y_dataset, train_size=0.75, random_state=RANDOM_SEED)"
      ]
>>>>>>> 55a182f (improved model accuracy)
    },
    {
      "cell_type": "markdown",
      "metadata": {
        "id": "mxK_lETT9hE0"
      },
      "source": [
        "# Model building"
      ]
    },
    {
      "cell_type": "code",
<<<<<<< HEAD
      "metadata": {
        "id": "vHBmUf1t9hE1"
      },
      "source": [
        "model = tf.keras.models.Sequential([\n",
        "    tf.keras.layers.Input((21 * 2, )),\n",
        "    tf.keras.layers.Dropout(0.2),\n",
        "    tf.keras.layers.Dense(20, activation='relu'),\n",
        "    tf.keras.layers.Dropout(0.4),\n",
        "    tf.keras.layers.Dense(10, activation='relu'),\n",
        "    tf.keras.layers.Dense(NUM_CLASSES, activation='softmax')\n",
        "])"
      ],
      "execution_count": null,
      "outputs": []
    },
    {
      "cell_type": "code",
      "metadata": {
        "id": "ypqky9tc9hE1",
        "colab": {
          "base_uri": "https://localhost:8080/"
        },
        "outputId": "5db082bb-30e3-4110-bf63-a1ee777ecd46"
      },
      "source": [
        "model.summary()  # tf.keras.utils.plot_model(model, show_shapes=True)"
      ],
      "execution_count": null,
      "outputs": [
        {
          "output_type": "stream",
          "text": [
            "Model: \"sequential\"\n",
            "_________________________________________________________________\n",
            "Layer (type)                 Output Shape              Param #   \n",
            "=================================================================\n",
            "dropout (Dropout)            (None, 42)                0         \n",
            "_________________________________________________________________\n",
            "dense (Dense)                (None, 20)                860       \n",
            "_________________________________________________________________\n",
            "dropout_1 (Dropout)          (None, 20)                0         \n",
            "_________________________________________________________________\n",
            "dense_1 (Dense)              (None, 10)                210       \n",
            "_________________________________________________________________\n",
            "dense_2 (Dense)              (None, 4)                 44        \n",
            "=================================================================\n",
            "Total params: 1,114\n",
            "Trainable params: 1,114\n",
            "Non-trainable params: 0\n",
            "_________________________________________________________________\n"
          ],
          "name": "stdout"
        }
=======
      "execution_count": 95,
      "metadata": {},
      "outputs": [],
      "source": [
        "model = tf.keras.models.Sequential([\n",
        "    tf.keras.layers.Input((21 * 2, )),\n",
        "    tf.keras.layers.BatchNormalization(),\n",
        "    tf.keras.layers.Dropout(0.3),  # Adjust dropout rate\n",
        "    tf.keras.layers.Dense(50, activation='relu'),\n",
        "    tf.keras.layers.BatchNormalization(),\n",
        "    tf.keras.layers.Dropout(0.5),  # Adjust dropout rate\n",
        "    tf.keras.layers.Dense(30, activation='relu'),\n",
        "    tf.keras.layers.Dense(NUM_CLASSES, activation='softmax')\n",
        "])\n"
>>>>>>> 55a182f (improved model accuracy)
      ]
    },
    {
      "cell_type": "code",
<<<<<<< HEAD
      "metadata": {
        "id": "MbMjOflQ9hE1"
      },
=======
      "execution_count": 96,
      "metadata": {
        "colab": {
          "base_uri": "https://localhost:8080/"
        },
        "id": "ypqky9tc9hE1",
        "outputId": "5db082bb-30e3-4110-bf63-a1ee777ecd46"
      },
      "outputs": [
        {
          "name": "stdout",
          "output_type": "stream",
          "text": [
            "Model: \"sequential_5\"\n",
            "_________________________________________________________________\n",
            " Layer (type)                Output Shape              Param #   \n",
            "=================================================================\n",
            " batch_normalization_4 (Bat  (None, 42)                168       \n",
            " chNormalization)                                                \n",
            "                                                                 \n",
            " dropout_10 (Dropout)        (None, 42)                0         \n",
            "                                                                 \n",
            " dense_16 (Dense)            (None, 50)                2150      \n",
            "                                                                 \n",
            " batch_normalization_5 (Bat  (None, 50)                200       \n",
            " chNormalization)                                                \n",
            "                                                                 \n",
            " dropout_11 (Dropout)        (None, 50)                0         \n",
            "                                                                 \n",
            " dense_17 (Dense)            (None, 30)                1530      \n",
            "                                                                 \n",
            " dense_18 (Dense)            (None, 4)                 124       \n",
            "                                                                 \n",
            "=================================================================\n",
            "Total params: 4172 (16.30 KB)\n",
            "Trainable params: 3988 (15.58 KB)\n",
            "Non-trainable params: 184 (736.00 Byte)\n",
            "_________________________________________________________________\n"
          ]
        }
      ],
      "source": [
        "model.summary()  # tf.keras.utils.plot_model(model, show_shapes=True)"
      ]
    },
    {
      "cell_type": "code",
      "execution_count": 97,
      "metadata": {
        "id": "MbMjOflQ9hE1"
      },
      "outputs": [],
>>>>>>> 55a182f (improved model accuracy)
      "source": [
        "# Model checkpoint callback\n",
        "cp_callback = tf.keras.callbacks.ModelCheckpoint(\n",
        "    model_save_path, verbose=1, save_weights_only=False)\n",
        "# Callback for early stopping\n",
        "es_callback = tf.keras.callbacks.EarlyStopping(patience=20, verbose=1)"
<<<<<<< HEAD
      ],
      "execution_count": null,
      "outputs": []
    },
    {
      "cell_type": "code",
      "metadata": {
        "id": "c3Dac0M_9hE2"
      },
=======
      ]
    },
    {
      "cell_type": "code",
      "execution_count": 98,
      "metadata": {
        "id": "c3Dac0M_9hE2"
      },
      "outputs": [],
>>>>>>> 55a182f (improved model accuracy)
      "source": [
        "# Model compilation\n",
        "model.compile(\n",
        "    optimizer='adam',\n",
        "    loss='sparse_categorical_crossentropy',\n",
        "    metrics=['accuracy']\n",
        ")"
<<<<<<< HEAD
      ],
      "execution_count": null,
      "outputs": []
=======
      ]
>>>>>>> 55a182f (improved model accuracy)
    },
    {
      "cell_type": "markdown",
      "metadata": {
        "id": "7XI0j1Iu9hE2"
      },
      "source": [
        "# Model training"
      ]
    },
    {
      "cell_type": "code",
<<<<<<< HEAD
      "metadata": {
        "scrolled": true,
        "id": "WirBl-JE9hE3",
        "colab": {
          "base_uri": "https://localhost:8080/"
        },
        "outputId": "71b30ca2-8294-4d9d-8aa2-800d90d399de"
      },
=======
      "execution_count": 99,
      "metadata": {
        "colab": {
          "base_uri": "https://localhost:8080/"
        },
        "id": "WirBl-JE9hE3",
        "outputId": "71b30ca2-8294-4d9d-8aa2-800d90d399de",
        "scrolled": true
      },
      "outputs": [
        {
          "name": "stdout",
          "output_type": "stream",
          "text": [
            "Epoch 1/1000\n"
          ]
        },
        {
          "name": "stderr",
          "output_type": "stream",
          "text": [
            "2024-01-31 19:53:25.506860: I tensorflow/core/grappler/optimizers/custom_graph_optimizer_registry.cc:114] Plugin optimizer for device_type GPU is enabled.\n"
          ]
        },
        {
          "name": "stdout",
          "output_type": "stream",
          "text": [
            "2/2 [==============================] - ETA: 0s - loss: 2.5052 - accuracy: 0.2061\n",
            "Epoch 1: saving model to model/keypoint_classifier/keypoint_classifier.hdf5\n",
            "2/2 [==============================] - 1s 388ms/step - loss: 2.5052 - accuracy: 0.2061 - val_loss: 1.3818 - val_accuracy: 0.4107\n",
            "Epoch 2/1000\n",
            "1/2 [==============>...............] - ETA: 0s - loss: 2.2664 - accuracy: 0.2109"
          ]
        },
        {
          "name": "stderr",
          "output_type": "stream",
          "text": [
            "2024-01-31 19:53:26.222479: I tensorflow/core/grappler/optimizers/custom_graph_optimizer_registry.cc:114] Plugin optimizer for device_type GPU is enabled.\n"
          ]
        },
        {
          "name": "stdout",
          "output_type": "stream",
          "text": [
            "\n",
            "Epoch 2: saving model to model/keypoint_classifier/keypoint_classifier.hdf5\n",
            "2/2 [==============================] - 0s 71ms/step - loss: 2.3710 - accuracy: 0.2061 - val_loss: 1.3423 - val_accuracy: 0.4286\n",
            "Epoch 3/1000\n",
            "1/2 [==============>...............] - ETA: 0s - loss: 2.3944 - accuracy: 0.2031\n",
            "Epoch 3: saving model to model/keypoint_classifier/keypoint_classifier.hdf5\n",
            "2/2 [==============================] - 0s 75ms/step - loss: 2.3278 - accuracy: 0.2242 - val_loss: 1.3079 - val_accuracy: 0.4286\n",
            "Epoch 4/1000\n",
            "1/2 [==============>...............] - ETA: 0s - loss: 2.1254 - accuracy: 0.2656\n",
            "Epoch 4: saving model to model/keypoint_classifier/keypoint_classifier.hdf5\n",
            "2/2 [==============================] - 0s 66ms/step - loss: 2.1898 - accuracy: 0.2485 - val_loss: 1.2781 - val_accuracy: 0.4286\n",
            "Epoch 5/1000\n",
            "1/2 [==============>...............] - ETA: 0s - loss: 2.2253 - accuracy: 0.2266\n",
            "Epoch 5: saving model to model/keypoint_classifier/keypoint_classifier.hdf5\n",
            "2/2 [==============================] - 0s 63ms/step - loss: 2.2561 - accuracy: 0.2182 - val_loss: 1.2513 - val_accuracy: 0.4286\n",
            "Epoch 6/1000\n",
            "1/2 [==============>...............] - ETA: 0s - loss: 1.9035 - accuracy: 0.2578\n",
            "Epoch 6: saving model to model/keypoint_classifier/keypoint_classifier.hdf5\n",
            "2/2 [==============================] - 0s 68ms/step - loss: 1.8704 - accuracy: 0.2727 - val_loss: 1.2262 - val_accuracy: 0.4643\n",
            "Epoch 7/1000\n",
            "1/2 [==============>...............] - ETA: 0s - loss: 1.8865 - accuracy: 0.2969\n",
            "Epoch 7: saving model to model/keypoint_classifier/keypoint_classifier.hdf5\n",
            "2/2 [==============================] - 0s 64ms/step - loss: 1.7959 - accuracy: 0.3091 - val_loss: 1.2044 - val_accuracy: 0.5000\n",
            "Epoch 8/1000\n",
            "1/2 [==============>...............] - ETA: 0s - loss: 1.8405 - accuracy: 0.3750\n",
            "Epoch 8: saving model to model/keypoint_classifier/keypoint_classifier.hdf5\n",
            "2/2 [==============================] - 0s 88ms/step - loss: 1.8589 - accuracy: 0.3636 - val_loss: 1.1861 - val_accuracy: 0.4821\n",
            "Epoch 9/1000\n",
            "1/2 [==============>...............] - ETA: 0s - loss: 1.6044 - accuracy: 0.3594\n",
            "Epoch 9: saving model to model/keypoint_classifier/keypoint_classifier.hdf5\n",
            "2/2 [==============================] - 0s 63ms/step - loss: 1.5028 - accuracy: 0.3818 - val_loss: 1.1700 - val_accuracy: 0.4821\n",
            "Epoch 10/1000\n",
            "1/2 [==============>...............] - ETA: 0s - loss: 1.5962 - accuracy: 0.3750\n",
            "Epoch 10: saving model to model/keypoint_classifier/keypoint_classifier.hdf5\n",
            "2/2 [==============================] - 0s 70ms/step - loss: 1.5230 - accuracy: 0.4000 - val_loss: 1.1549 - val_accuracy: 0.5179\n",
            "Epoch 11/1000\n",
            "1/2 [==============>...............] - ETA: 0s - loss: 1.4534 - accuracy: 0.4922\n",
            "Epoch 11: saving model to model/keypoint_classifier/keypoint_classifier.hdf5\n",
            "2/2 [==============================] - 0s 62ms/step - loss: 1.5390 - accuracy: 0.4606 - val_loss: 1.1410 - val_accuracy: 0.5357\n",
            "Epoch 12/1000\n",
            "1/2 [==============>...............] - ETA: 0s - loss: 1.4917 - accuracy: 0.4219\n",
            "Epoch 12: saving model to model/keypoint_classifier/keypoint_classifier.hdf5\n",
            "2/2 [==============================] - 0s 61ms/step - loss: 1.4252 - accuracy: 0.4121 - val_loss: 1.1274 - val_accuracy: 0.5893\n",
            "Epoch 13/1000\n",
            "1/2 [==============>...............] - ETA: 0s - loss: 1.2963 - accuracy: 0.5078\n",
            "Epoch 13: saving model to model/keypoint_classifier/keypoint_classifier.hdf5\n",
            "2/2 [==============================] - 0s 66ms/step - loss: 1.4246 - accuracy: 0.4424 - val_loss: 1.1148 - val_accuracy: 0.6250\n",
            "Epoch 14/1000\n",
            "1/2 [==============>...............] - ETA: 0s - loss: 1.4491 - accuracy: 0.3984\n",
            "Epoch 14: saving model to model/keypoint_classifier/keypoint_classifier.hdf5\n",
            "2/2 [==============================] - 0s 60ms/step - loss: 1.4233 - accuracy: 0.4000 - val_loss: 1.1025 - val_accuracy: 0.6964\n",
            "Epoch 15/1000\n",
            "1/2 [==============>...............] - ETA: 0s - loss: 1.3253 - accuracy: 0.5078\n",
            "Epoch 15: saving model to model/keypoint_classifier/keypoint_classifier.hdf5\n",
            "2/2 [==============================] - 0s 59ms/step - loss: 1.3332 - accuracy: 0.5212 - val_loss: 1.0894 - val_accuracy: 0.6964\n",
            "Epoch 16/1000\n",
            "1/2 [==============>...............] - ETA: 0s - loss: 1.3330 - accuracy: 0.5000\n",
            "Epoch 16: saving model to model/keypoint_classifier/keypoint_classifier.hdf5\n",
            "2/2 [==============================] - 0s 60ms/step - loss: 1.3877 - accuracy: 0.5091 - val_loss: 1.0761 - val_accuracy: 0.6964\n",
            "Epoch 17/1000\n",
            "1/2 [==============>...............] - ETA: 0s - loss: 1.2266 - accuracy: 0.5469\n",
            "Epoch 17: saving model to model/keypoint_classifier/keypoint_classifier.hdf5\n",
            "2/2 [==============================] - 0s 59ms/step - loss: 1.2107 - accuracy: 0.5515 - val_loss: 1.0639 - val_accuracy: 0.7500\n",
            "Epoch 18/1000\n",
            "1/2 [==============>...............] - ETA: 0s - loss: 1.2189 - accuracy: 0.5391\n",
            "Epoch 18: saving model to model/keypoint_classifier/keypoint_classifier.hdf5\n",
            "2/2 [==============================] - 0s 60ms/step - loss: 1.2591 - accuracy: 0.5333 - val_loss: 1.0530 - val_accuracy: 0.7679\n",
            "Epoch 19/1000\n",
            "1/2 [==============>...............] - ETA: 0s - loss: 1.1585 - accuracy: 0.5781\n",
            "Epoch 19: saving model to model/keypoint_classifier/keypoint_classifier.hdf5\n",
            "2/2 [==============================] - 0s 58ms/step - loss: 1.2273 - accuracy: 0.5697 - val_loss: 1.0425 - val_accuracy: 0.7857\n",
            "Epoch 20/1000\n",
            "1/2 [==============>...............] - ETA: 0s - loss: 1.2351 - accuracy: 0.5156\n",
            "Epoch 20: saving model to model/keypoint_classifier/keypoint_classifier.hdf5\n",
            "2/2 [==============================] - 0s 59ms/step - loss: 1.2332 - accuracy: 0.5091 - val_loss: 1.0329 - val_accuracy: 0.8036\n",
            "Epoch 21/1000\n",
            "1/2 [==============>...............] - ETA: 0s - loss: 0.9862 - accuracy: 0.6406\n",
            "Epoch 21: saving model to model/keypoint_classifier/keypoint_classifier.hdf5\n",
            "2/2 [==============================] - 0s 61ms/step - loss: 1.0684 - accuracy: 0.6242 - val_loss: 1.0231 - val_accuracy: 0.8214\n",
            "Epoch 22/1000\n",
            "1/2 [==============>...............] - ETA: 0s - loss: 1.0898 - accuracy: 0.6172\n",
            "Epoch 22: saving model to model/keypoint_classifier/keypoint_classifier.hdf5\n",
            "2/2 [==============================] - 0s 60ms/step - loss: 1.0309 - accuracy: 0.6424 - val_loss: 1.0134 - val_accuracy: 0.8214\n",
            "Epoch 23/1000\n",
            "1/2 [==============>...............] - ETA: 0s - loss: 0.9900 - accuracy: 0.6641\n",
            "Epoch 23: saving model to model/keypoint_classifier/keypoint_classifier.hdf5\n",
            "2/2 [==============================] - 0s 62ms/step - loss: 0.9436 - accuracy: 0.6788 - val_loss: 1.0040 - val_accuracy: 0.8214\n",
            "Epoch 24/1000\n",
            "1/2 [==============>...............] - ETA: 0s - loss: 1.1465 - accuracy: 0.5625\n",
            "Epoch 24: saving model to model/keypoint_classifier/keypoint_classifier.hdf5\n",
            "2/2 [==============================] - 0s 84ms/step - loss: 1.1529 - accuracy: 0.5515 - val_loss: 0.9949 - val_accuracy: 0.8214\n",
            "Epoch 25/1000\n",
            "1/2 [==============>...............] - ETA: 0s - loss: 0.9741 - accuracy: 0.6719\n",
            "Epoch 25: saving model to model/keypoint_classifier/keypoint_classifier.hdf5\n",
            "2/2 [==============================] - 0s 61ms/step - loss: 1.0601 - accuracy: 0.6364 - val_loss: 0.9860 - val_accuracy: 0.8214\n",
            "Epoch 26/1000\n",
            "1/2 [==============>...............] - ETA: 0s - loss: 1.0592 - accuracy: 0.6172\n",
            "Epoch 26: saving model to model/keypoint_classifier/keypoint_classifier.hdf5\n",
            "2/2 [==============================] - 0s 61ms/step - loss: 1.0552 - accuracy: 0.6182 - val_loss: 0.9774 - val_accuracy: 0.8214\n",
            "Epoch 27/1000\n",
            "1/2 [==============>...............] - ETA: 0s - loss: 1.0542 - accuracy: 0.6172\n",
            "Epoch 27: saving model to model/keypoint_classifier/keypoint_classifier.hdf5\n",
            "2/2 [==============================] - 0s 58ms/step - loss: 1.0281 - accuracy: 0.6242 - val_loss: 0.9698 - val_accuracy: 0.8036\n",
            "Epoch 28/1000\n",
            "1/2 [==============>...............] - ETA: 0s - loss: 1.1144 - accuracy: 0.6172\n",
            "Epoch 28: saving model to model/keypoint_classifier/keypoint_classifier.hdf5\n",
            "2/2 [==============================] - 0s 60ms/step - loss: 1.1611 - accuracy: 0.6000 - val_loss: 0.9620 - val_accuracy: 0.8036\n",
            "Epoch 29/1000\n",
            "1/2 [==============>...............] - ETA: 0s - loss: 1.0736 - accuracy: 0.6484\n",
            "Epoch 29: saving model to model/keypoint_classifier/keypoint_classifier.hdf5\n",
            "2/2 [==============================] - 0s 60ms/step - loss: 1.0977 - accuracy: 0.6303 - val_loss: 0.9544 - val_accuracy: 0.8036\n",
            "Epoch 30/1000\n",
            "1/2 [==============>...............] - ETA: 0s - loss: 0.9749 - accuracy: 0.7266\n",
            "Epoch 30: saving model to model/keypoint_classifier/keypoint_classifier.hdf5\n",
            "2/2 [==============================] - 0s 61ms/step - loss: 0.9384 - accuracy: 0.6970 - val_loss: 0.9467 - val_accuracy: 0.8036\n",
            "Epoch 31/1000\n",
            "1/2 [==============>...............] - ETA: 0s - loss: 0.9883 - accuracy: 0.6406\n",
            "Epoch 31: saving model to model/keypoint_classifier/keypoint_classifier.hdf5\n",
            "2/2 [==============================] - 0s 60ms/step - loss: 0.9551 - accuracy: 0.6424 - val_loss: 0.9382 - val_accuracy: 0.8036\n",
            "Epoch 32/1000\n",
            "1/2 [==============>...............] - ETA: 0s - loss: 0.9540 - accuracy: 0.6797\n",
            "Epoch 32: saving model to model/keypoint_classifier/keypoint_classifier.hdf5\n",
            "2/2 [==============================] - 0s 61ms/step - loss: 0.9036 - accuracy: 0.6727 - val_loss: 0.9305 - val_accuracy: 0.8036\n",
            "Epoch 33/1000\n",
            "1/2 [==============>...............] - ETA: 0s - loss: 0.9908 - accuracy: 0.6562\n",
            "Epoch 33: saving model to model/keypoint_classifier/keypoint_classifier.hdf5\n",
            "2/2 [==============================] - 0s 58ms/step - loss: 1.0839 - accuracy: 0.6667 - val_loss: 0.9227 - val_accuracy: 0.8036\n",
            "Epoch 34/1000\n",
            "1/2 [==============>...............] - ETA: 0s - loss: 0.9614 - accuracy: 0.6953\n",
            "Epoch 34: saving model to model/keypoint_classifier/keypoint_classifier.hdf5\n",
            "2/2 [==============================] - 0s 60ms/step - loss: 0.9509 - accuracy: 0.6848 - val_loss: 0.9144 - val_accuracy: 0.8036\n",
            "Epoch 35/1000\n",
            "1/2 [==============>...............] - ETA: 0s - loss: 0.9654 - accuracy: 0.6328\n",
            "Epoch 35: saving model to model/keypoint_classifier/keypoint_classifier.hdf5\n",
            "2/2 [==============================] - 0s 58ms/step - loss: 0.9340 - accuracy: 0.6485 - val_loss: 0.9078 - val_accuracy: 0.8036\n",
            "Epoch 36/1000\n",
            "1/2 [==============>...............] - ETA: 0s - loss: 1.0414 - accuracy: 0.6484\n",
            "Epoch 36: saving model to model/keypoint_classifier/keypoint_classifier.hdf5\n",
            "2/2 [==============================] - 0s 57ms/step - loss: 1.0325 - accuracy: 0.6788 - val_loss: 0.9021 - val_accuracy: 0.8036\n",
            "Epoch 37/1000\n",
            "1/2 [==============>...............] - ETA: 0s - loss: 0.7373 - accuracy: 0.7656\n",
            "Epoch 37: saving model to model/keypoint_classifier/keypoint_classifier.hdf5\n",
            "2/2 [==============================] - 0s 64ms/step - loss: 0.7525 - accuracy: 0.7455 - val_loss: 0.8964 - val_accuracy: 0.8036\n",
            "Epoch 38/1000\n",
            "1/2 [==============>...............] - ETA: 0s - loss: 0.8995 - accuracy: 0.7344\n",
            "Epoch 38: saving model to model/keypoint_classifier/keypoint_classifier.hdf5\n",
            "2/2 [==============================] - 0s 81ms/step - loss: 0.8423 - accuracy: 0.7515 - val_loss: 0.8916 - val_accuracy: 0.8036\n",
            "Epoch 39/1000\n",
            "1/2 [==============>...............] - ETA: 0s - loss: 0.9500 - accuracy: 0.7109\n",
            "Epoch 39: saving model to model/keypoint_classifier/keypoint_classifier.hdf5\n",
            "2/2 [==============================] - 0s 57ms/step - loss: 0.8760 - accuracy: 0.7333 - val_loss: 0.8867 - val_accuracy: 0.8036\n",
            "Epoch 40/1000\n",
            "1/2 [==============>...............] - ETA: 0s - loss: 0.9237 - accuracy: 0.7266\n",
            "Epoch 40: saving model to model/keypoint_classifier/keypoint_classifier.hdf5\n",
            "2/2 [==============================] - 0s 57ms/step - loss: 0.8670 - accuracy: 0.7394 - val_loss: 0.8822 - val_accuracy: 0.7857\n",
            "Epoch 41/1000\n",
            "1/2 [==============>...............] - ETA: 0s - loss: 0.8235 - accuracy: 0.7422\n",
            "Epoch 41: saving model to model/keypoint_classifier/keypoint_classifier.hdf5\n",
            "2/2 [==============================] - 0s 56ms/step - loss: 0.8480 - accuracy: 0.7273 - val_loss: 0.8779 - val_accuracy: 0.7679\n",
            "Epoch 42/1000\n",
            "1/2 [==============>...............] - ETA: 0s - loss: 0.9793 - accuracy: 0.6641\n",
            "Epoch 42: saving model to model/keypoint_classifier/keypoint_classifier.hdf5\n",
            "2/2 [==============================] - 0s 59ms/step - loss: 0.8799 - accuracy: 0.7030 - val_loss: 0.8727 - val_accuracy: 0.7679\n",
            "Epoch 43/1000\n",
            "1/2 [==============>...............] - ETA: 0s - loss: 0.8709 - accuracy: 0.7188\n",
            "Epoch 43: saving model to model/keypoint_classifier/keypoint_classifier.hdf5\n",
            "2/2 [==============================] - 0s 58ms/step - loss: 0.8242 - accuracy: 0.7394 - val_loss: 0.8679 - val_accuracy: 0.7857\n",
            "Epoch 44/1000\n",
            "1/2 [==============>...............] - ETA: 0s - loss: 0.8410 - accuracy: 0.7188\n",
            "Epoch 44: saving model to model/keypoint_classifier/keypoint_classifier.hdf5\n",
            "2/2 [==============================] - 0s 57ms/step - loss: 0.8495 - accuracy: 0.7333 - val_loss: 0.8647 - val_accuracy: 0.7857\n",
            "Epoch 45/1000\n",
            "1/2 [==============>...............] - ETA: 0s - loss: 0.8719 - accuracy: 0.7109\n",
            "Epoch 45: saving model to model/keypoint_classifier/keypoint_classifier.hdf5\n",
            "2/2 [==============================] - 0s 58ms/step - loss: 0.8068 - accuracy: 0.7455 - val_loss: 0.8605 - val_accuracy: 0.7857\n",
            "Epoch 46/1000\n",
            "1/2 [==============>...............] - ETA: 0s - loss: 0.7218 - accuracy: 0.7734\n",
            "Epoch 46: saving model to model/keypoint_classifier/keypoint_classifier.hdf5\n",
            "2/2 [==============================] - 0s 59ms/step - loss: 0.7566 - accuracy: 0.7818 - val_loss: 0.8563 - val_accuracy: 0.7857\n",
            "Epoch 47/1000\n",
            "1/2 [==============>...............] - ETA: 0s - loss: 0.8539 - accuracy: 0.7266\n",
            "Epoch 47: saving model to model/keypoint_classifier/keypoint_classifier.hdf5\n",
            "2/2 [==============================] - 0s 57ms/step - loss: 0.8020 - accuracy: 0.7333 - val_loss: 0.8515 - val_accuracy: 0.7857\n",
            "Epoch 48/1000\n",
            "1/2 [==============>...............] - ETA: 0s - loss: 0.8210 - accuracy: 0.7109\n",
            "Epoch 48: saving model to model/keypoint_classifier/keypoint_classifier.hdf5\n",
            "2/2 [==============================] - 0s 58ms/step - loss: 0.7589 - accuracy: 0.7394 - val_loss: 0.8472 - val_accuracy: 0.7857\n",
            "Epoch 49/1000\n",
            "1/2 [==============>...............] - ETA: 0s - loss: 0.8759 - accuracy: 0.6875\n",
            "Epoch 49: saving model to model/keypoint_classifier/keypoint_classifier.hdf5\n",
            "2/2 [==============================] - 0s 58ms/step - loss: 0.7953 - accuracy: 0.7091 - val_loss: 0.8418 - val_accuracy: 0.8036\n",
            "Epoch 50/1000\n",
            "1/2 [==============>...............] - ETA: 0s - loss: 0.6632 - accuracy: 0.7578\n",
            "Epoch 50: saving model to model/keypoint_classifier/keypoint_classifier.hdf5\n",
            "2/2 [==============================] - 0s 57ms/step - loss: 0.6854 - accuracy: 0.7636 - val_loss: 0.8363 - val_accuracy: 0.8036\n",
            "Epoch 51/1000\n",
            "1/2 [==============>...............] - ETA: 0s - loss: 0.7553 - accuracy: 0.7969\n",
            "Epoch 51: saving model to model/keypoint_classifier/keypoint_classifier.hdf5\n",
            "2/2 [==============================] - 0s 59ms/step - loss: 0.6851 - accuracy: 0.8061 - val_loss: 0.8312 - val_accuracy: 0.8036\n",
            "Epoch 52/1000\n",
            "1/2 [==============>...............] - ETA: 0s - loss: 0.7713 - accuracy: 0.7578\n",
            "Epoch 52: saving model to model/keypoint_classifier/keypoint_classifier.hdf5\n",
            "2/2 [==============================] - 0s 83ms/step - loss: 0.7506 - accuracy: 0.7515 - val_loss: 0.8262 - val_accuracy: 0.8036\n",
            "Epoch 53/1000\n",
            "1/2 [==============>...............] - ETA: 0s - loss: 0.6952 - accuracy: 0.7812\n",
            "Epoch 53: saving model to model/keypoint_classifier/keypoint_classifier.hdf5\n",
            "2/2 [==============================] - 0s 55ms/step - loss: 0.6634 - accuracy: 0.8121 - val_loss: 0.8209 - val_accuracy: 0.8036\n",
            "Epoch 54/1000\n",
            "1/2 [==============>...............] - ETA: 0s - loss: 0.8885 - accuracy: 0.7656\n",
            "Epoch 54: saving model to model/keypoint_classifier/keypoint_classifier.hdf5\n",
            "2/2 [==============================] - 0s 58ms/step - loss: 0.8384 - accuracy: 0.7697 - val_loss: 0.8174 - val_accuracy: 0.8036\n",
            "Epoch 55/1000\n",
            "1/2 [==============>...............] - ETA: 0s - loss: 0.7284 - accuracy: 0.7188\n",
            "Epoch 55: saving model to model/keypoint_classifier/keypoint_classifier.hdf5\n",
            "2/2 [==============================] - 0s 58ms/step - loss: 0.7081 - accuracy: 0.7333 - val_loss: 0.8145 - val_accuracy: 0.8036\n",
            "Epoch 56/1000\n",
            "1/2 [==============>...............] - ETA: 0s - loss: 0.6793 - accuracy: 0.8125\n",
            "Epoch 56: saving model to model/keypoint_classifier/keypoint_classifier.hdf5\n",
            "2/2 [==============================] - 0s 58ms/step - loss: 0.6316 - accuracy: 0.8182 - val_loss: 0.8116 - val_accuracy: 0.8036\n",
            "Epoch 57/1000\n",
            "1/2 [==============>...............] - ETA: 0s - loss: 0.6565 - accuracy: 0.7891\n",
            "Epoch 57: saving model to model/keypoint_classifier/keypoint_classifier.hdf5\n",
            "2/2 [==============================] - 0s 58ms/step - loss: 0.6709 - accuracy: 0.7939 - val_loss: 0.8094 - val_accuracy: 0.8036\n",
            "Epoch 58/1000\n",
            "1/2 [==============>...............] - ETA: 0s - loss: 0.7901 - accuracy: 0.7188\n",
            "Epoch 58: saving model to model/keypoint_classifier/keypoint_classifier.hdf5\n",
            "2/2 [==============================] - 0s 58ms/step - loss: 0.7711 - accuracy: 0.7394 - val_loss: 0.8071 - val_accuracy: 0.8036\n",
            "Epoch 59/1000\n",
            "1/2 [==============>...............] - ETA: 0s - loss: 0.6208 - accuracy: 0.7656\n",
            "Epoch 59: saving model to model/keypoint_classifier/keypoint_classifier.hdf5\n",
            "2/2 [==============================] - 0s 56ms/step - loss: 0.6657 - accuracy: 0.7697 - val_loss: 0.8045 - val_accuracy: 0.8393\n",
            "Epoch 60/1000\n",
            "1/2 [==============>...............] - ETA: 0s - loss: 0.7518 - accuracy: 0.7812\n",
            "Epoch 60: saving model to model/keypoint_classifier/keypoint_classifier.hdf5\n",
            "2/2 [==============================] - 0s 58ms/step - loss: 0.7053 - accuracy: 0.8061 - val_loss: 0.8034 - val_accuracy: 0.8393\n",
            "Epoch 61/1000\n",
            "1/2 [==============>...............] - ETA: 0s - loss: 0.7353 - accuracy: 0.7891\n",
            "Epoch 61: saving model to model/keypoint_classifier/keypoint_classifier.hdf5\n",
            "2/2 [==============================] - 0s 58ms/step - loss: 0.7494 - accuracy: 0.8061 - val_loss: 0.8034 - val_accuracy: 0.8393\n",
            "Epoch 62/1000\n",
            "1/2 [==============>...............] - ETA: 0s - loss: 0.6065 - accuracy: 0.7656\n",
            "Epoch 62: saving model to model/keypoint_classifier/keypoint_classifier.hdf5\n",
            "2/2 [==============================] - 0s 58ms/step - loss: 0.6019 - accuracy: 0.7758 - val_loss: 0.8022 - val_accuracy: 0.8393\n",
            "Epoch 63/1000\n",
            "1/2 [==============>...............] - ETA: 0s - loss: 0.7751 - accuracy: 0.7734\n",
            "Epoch 63: saving model to model/keypoint_classifier/keypoint_classifier.hdf5\n",
            "2/2 [==============================] - 0s 60ms/step - loss: 0.7509 - accuracy: 0.7636 - val_loss: 0.8005 - val_accuracy: 0.8393\n",
            "Epoch 64/1000\n",
            "1/2 [==============>...............] - ETA: 0s - loss: 0.7291 - accuracy: 0.7891\n",
            "Epoch 64: saving model to model/keypoint_classifier/keypoint_classifier.hdf5\n",
            "2/2 [==============================] - 0s 58ms/step - loss: 0.6932 - accuracy: 0.7939 - val_loss: 0.7981 - val_accuracy: 0.8393\n",
            "Epoch 65/1000\n",
            "1/2 [==============>...............] - ETA: 0s - loss: 0.6909 - accuracy: 0.7734\n",
            "Epoch 65: saving model to model/keypoint_classifier/keypoint_classifier.hdf5\n",
            "2/2 [==============================] - 0s 58ms/step - loss: 0.7172 - accuracy: 0.7879 - val_loss: 0.7948 - val_accuracy: 0.8393\n",
            "Epoch 66/1000\n",
            "1/2 [==============>...............] - ETA: 0s - loss: 0.6476 - accuracy: 0.8047\n",
            "Epoch 66: saving model to model/keypoint_classifier/keypoint_classifier.hdf5\n",
            "2/2 [==============================] - 0s 62ms/step - loss: 0.7472 - accuracy: 0.7818 - val_loss: 0.7881 - val_accuracy: 0.8393\n",
            "Epoch 67/1000\n",
            "1/2 [==============>...............] - ETA: 0s - loss: 0.8720 - accuracy: 0.7266\n",
            "Epoch 67: saving model to model/keypoint_classifier/keypoint_classifier.hdf5\n",
            "2/2 [==============================] - 0s 75ms/step - loss: 0.8382 - accuracy: 0.7455 - val_loss: 0.7803 - val_accuracy: 0.8393\n",
            "Epoch 68/1000\n",
            "1/2 [==============>...............] - ETA: 0s - loss: 0.6543 - accuracy: 0.8125\n",
            "Epoch 68: saving model to model/keypoint_classifier/keypoint_classifier.hdf5\n",
            "2/2 [==============================] - 0s 57ms/step - loss: 0.6404 - accuracy: 0.8182 - val_loss: 0.7718 - val_accuracy: 0.8393\n",
            "Epoch 69/1000\n",
            "1/2 [==============>...............] - ETA: 0s - loss: 0.6967 - accuracy: 0.8203\n",
            "Epoch 69: saving model to model/keypoint_classifier/keypoint_classifier.hdf5\n",
            "2/2 [==============================] - 0s 57ms/step - loss: 0.6700 - accuracy: 0.8182 - val_loss: 0.7647 - val_accuracy: 0.8393\n",
            "Epoch 70/1000\n",
            "1/2 [==============>...............] - ETA: 0s - loss: 0.6577 - accuracy: 0.7891\n",
            "Epoch 70: saving model to model/keypoint_classifier/keypoint_classifier.hdf5\n",
            "2/2 [==============================] - 0s 57ms/step - loss: 0.6620 - accuracy: 0.8000 - val_loss: 0.7582 - val_accuracy: 0.8393\n",
            "Epoch 71/1000\n",
            "1/2 [==============>...............] - ETA: 0s - loss: 0.6303 - accuracy: 0.7656\n",
            "Epoch 71: saving model to model/keypoint_classifier/keypoint_classifier.hdf5\n",
            "2/2 [==============================] - 0s 57ms/step - loss: 0.6329 - accuracy: 0.7758 - val_loss: 0.7523 - val_accuracy: 0.8393\n",
            "Epoch 72/1000\n",
            "1/2 [==============>...............] - ETA: 0s - loss: 0.7001 - accuracy: 0.7891\n",
            "Epoch 72: saving model to model/keypoint_classifier/keypoint_classifier.hdf5\n",
            "2/2 [==============================] - 0s 57ms/step - loss: 0.6424 - accuracy: 0.8061 - val_loss: 0.7473 - val_accuracy: 0.8393\n",
            "Epoch 73/1000\n",
            "1/2 [==============>...............] - ETA: 0s - loss: 0.8020 - accuracy: 0.7656\n",
            "Epoch 73: saving model to model/keypoint_classifier/keypoint_classifier.hdf5\n",
            "2/2 [==============================] - 0s 57ms/step - loss: 0.7082 - accuracy: 0.8000 - val_loss: 0.7431 - val_accuracy: 0.8393\n",
            "Epoch 74/1000\n",
            "1/2 [==============>...............] - ETA: 0s - loss: 0.6800 - accuracy: 0.7422\n",
            "Epoch 74: saving model to model/keypoint_classifier/keypoint_classifier.hdf5\n",
            "2/2 [==============================] - 0s 57ms/step - loss: 0.7299 - accuracy: 0.7515 - val_loss: 0.7376 - val_accuracy: 0.8393\n",
            "Epoch 75/1000\n",
            "1/2 [==============>...............] - ETA: 0s - loss: 0.6702 - accuracy: 0.8203\n",
            "Epoch 75: saving model to model/keypoint_classifier/keypoint_classifier.hdf5\n",
            "2/2 [==============================] - 0s 57ms/step - loss: 0.6839 - accuracy: 0.8121 - val_loss: 0.7331 - val_accuracy: 0.8393\n",
            "Epoch 76/1000\n",
            "1/2 [==============>...............] - ETA: 0s - loss: 0.6386 - accuracy: 0.8203\n",
            "Epoch 76: saving model to model/keypoint_classifier/keypoint_classifier.hdf5\n",
            "2/2 [==============================] - 0s 58ms/step - loss: 0.6137 - accuracy: 0.8061 - val_loss: 0.7295 - val_accuracy: 0.8214\n",
            "Epoch 77/1000\n",
            "1/2 [==============>...............] - ETA: 0s - loss: 0.6544 - accuracy: 0.8516\n",
            "Epoch 77: saving model to model/keypoint_classifier/keypoint_classifier.hdf5\n",
            "2/2 [==============================] - 0s 57ms/step - loss: 0.6023 - accuracy: 0.8606 - val_loss: 0.7263 - val_accuracy: 0.8214\n",
            "Epoch 78/1000\n",
            "1/2 [==============>...............] - ETA: 0s - loss: 0.5989 - accuracy: 0.8047\n",
            "Epoch 78: saving model to model/keypoint_classifier/keypoint_classifier.hdf5\n",
            "2/2 [==============================] - 0s 57ms/step - loss: 0.6131 - accuracy: 0.8121 - val_loss: 0.7249 - val_accuracy: 0.8214\n",
            "Epoch 79/1000\n",
            "1/2 [==============>...............] - ETA: 0s - loss: 0.7488 - accuracy: 0.7891\n",
            "Epoch 79: saving model to model/keypoint_classifier/keypoint_classifier.hdf5\n",
            "2/2 [==============================] - 0s 58ms/step - loss: 0.7885 - accuracy: 0.7939 - val_loss: 0.7226 - val_accuracy: 0.8214\n",
            "Epoch 80/1000\n",
            "1/2 [==============>...............] - ETA: 0s - loss: 0.5120 - accuracy: 0.8516\n",
            "Epoch 80: saving model to model/keypoint_classifier/keypoint_classifier.hdf5\n",
            "2/2 [==============================] - 0s 58ms/step - loss: 0.5543 - accuracy: 0.8424 - val_loss: 0.7171 - val_accuracy: 0.8214\n",
            "Epoch 81/1000\n",
            "1/2 [==============>...............] - ETA: 0s - loss: 0.7949 - accuracy: 0.7656\n",
            "Epoch 81: saving model to model/keypoint_classifier/keypoint_classifier.hdf5\n",
            "2/2 [==============================] - 0s 72ms/step - loss: 0.7235 - accuracy: 0.7939 - val_loss: 0.7144 - val_accuracy: 0.8214\n",
            "Epoch 82/1000\n",
            "1/2 [==============>...............] - ETA: 0s - loss: 0.7106 - accuracy: 0.8047\n",
            "Epoch 82: saving model to model/keypoint_classifier/keypoint_classifier.hdf5\n",
            "2/2 [==============================] - 0s 58ms/step - loss: 0.7305 - accuracy: 0.8000 - val_loss: 0.7110 - val_accuracy: 0.8214\n",
            "Epoch 83/1000\n",
            "1/2 [==============>...............] - ETA: 0s - loss: 0.6043 - accuracy: 0.8125\n",
            "Epoch 83: saving model to model/keypoint_classifier/keypoint_classifier.hdf5\n",
            "2/2 [==============================] - 0s 58ms/step - loss: 0.5886 - accuracy: 0.8303 - val_loss: 0.7063 - val_accuracy: 0.8214\n",
            "Epoch 84/1000\n",
            "1/2 [==============>...............] - ETA: 0s - loss: 0.7221 - accuracy: 0.8125\n",
            "Epoch 84: saving model to model/keypoint_classifier/keypoint_classifier.hdf5\n",
            "2/2 [==============================] - 0s 57ms/step - loss: 0.6693 - accuracy: 0.8121 - val_loss: 0.7017 - val_accuracy: 0.8214\n",
            "Epoch 85/1000\n",
            "1/2 [==============>...............] - ETA: 0s - loss: 0.7361 - accuracy: 0.7891\n",
            "Epoch 85: saving model to model/keypoint_classifier/keypoint_classifier.hdf5\n",
            "2/2 [==============================] - 0s 58ms/step - loss: 0.7002 - accuracy: 0.8000 - val_loss: 0.6990 - val_accuracy: 0.8214\n",
            "Epoch 86/1000\n",
            "1/2 [==============>...............] - ETA: 0s - loss: 0.6977 - accuracy: 0.7656\n",
            "Epoch 86: saving model to model/keypoint_classifier/keypoint_classifier.hdf5\n",
            "2/2 [==============================] - 0s 58ms/step - loss: 0.6640 - accuracy: 0.7879 - val_loss: 0.6987 - val_accuracy: 0.8393\n",
            "Epoch 87/1000\n",
            "1/2 [==============>...............] - ETA: 0s - loss: 0.5803 - accuracy: 0.8594\n",
            "Epoch 87: saving model to model/keypoint_classifier/keypoint_classifier.hdf5\n",
            "2/2 [==============================] - 0s 58ms/step - loss: 0.5573 - accuracy: 0.8545 - val_loss: 0.7027 - val_accuracy: 0.8393\n",
            "Epoch 88/1000\n",
            "1/2 [==============>...............] - ETA: 0s - loss: 0.7169 - accuracy: 0.8594\n",
            "Epoch 88: saving model to model/keypoint_classifier/keypoint_classifier.hdf5\n",
            "2/2 [==============================] - 0s 58ms/step - loss: 0.6895 - accuracy: 0.8606 - val_loss: 0.7067 - val_accuracy: 0.8393\n",
            "Epoch 89/1000\n",
            "1/2 [==============>...............] - ETA: 0s - loss: 0.7008 - accuracy: 0.8281\n",
            "Epoch 89: saving model to model/keypoint_classifier/keypoint_classifier.hdf5\n",
            "2/2 [==============================] - 0s 60ms/step - loss: 0.6450 - accuracy: 0.8364 - val_loss: 0.7104 - val_accuracy: 0.8393\n",
            "Epoch 90/1000\n",
            "1/2 [==============>...............] - ETA: 0s - loss: 0.8665 - accuracy: 0.7500\n",
            "Epoch 90: saving model to model/keypoint_classifier/keypoint_classifier.hdf5\n",
            "2/2 [==============================] - 0s 56ms/step - loss: 0.7784 - accuracy: 0.7758 - val_loss: 0.7122 - val_accuracy: 0.8393\n",
            "Epoch 91/1000\n",
            "1/2 [==============>...............] - ETA: 0s - loss: 0.6034 - accuracy: 0.8203\n",
            "Epoch 91: saving model to model/keypoint_classifier/keypoint_classifier.hdf5\n",
            "2/2 [==============================] - 0s 61ms/step - loss: 0.6521 - accuracy: 0.8061 - val_loss: 0.7164 - val_accuracy: 0.8393\n",
            "Epoch 92/1000\n",
            "1/2 [==============>...............] - ETA: 0s - loss: 0.5612 - accuracy: 0.7969\n",
            "Epoch 92: saving model to model/keypoint_classifier/keypoint_classifier.hdf5\n",
            "2/2 [==============================] - 0s 57ms/step - loss: 0.5493 - accuracy: 0.7939 - val_loss: 0.7206 - val_accuracy: 0.8393\n",
            "Epoch 93/1000\n",
            "1/2 [==============>...............] - ETA: 0s - loss: 0.6974 - accuracy: 0.7969\n",
            "Epoch 93: saving model to model/keypoint_classifier/keypoint_classifier.hdf5\n",
            "2/2 [==============================] - 0s 79ms/step - loss: 0.6369 - accuracy: 0.8000 - val_loss: 0.7242 - val_accuracy: 0.8393\n",
            "Epoch 94/1000\n",
            "1/2 [==============>...............] - ETA: 0s - loss: 0.7191 - accuracy: 0.7812\n",
            "Epoch 94: saving model to model/keypoint_classifier/keypoint_classifier.hdf5\n",
            "2/2 [==============================] - 0s 59ms/step - loss: 0.6479 - accuracy: 0.8000 - val_loss: 0.7250 - val_accuracy: 0.8393\n",
            "Epoch 95/1000\n",
            "1/2 [==============>...............] - ETA: 0s - loss: 0.7657 - accuracy: 0.8125\n",
            "Epoch 95: saving model to model/keypoint_classifier/keypoint_classifier.hdf5\n",
            "2/2 [==============================] - 0s 58ms/step - loss: 0.7410 - accuracy: 0.8182 - val_loss: 0.7268 - val_accuracy: 0.8393\n",
            "Epoch 96/1000\n",
            "1/2 [==============>...............] - ETA: 0s - loss: 0.7472 - accuracy: 0.7578\n",
            "Epoch 96: saving model to model/keypoint_classifier/keypoint_classifier.hdf5\n",
            "2/2 [==============================] - 0s 58ms/step - loss: 0.7286 - accuracy: 0.7758 - val_loss: 0.7255 - val_accuracy: 0.8393\n",
            "Epoch 97/1000\n",
            "1/2 [==============>...............] - ETA: 0s - loss: 0.6668 - accuracy: 0.7656\n",
            "Epoch 97: saving model to model/keypoint_classifier/keypoint_classifier.hdf5\n",
            "2/2 [==============================] - 0s 58ms/step - loss: 0.6320 - accuracy: 0.7636 - val_loss: 0.7249 - val_accuracy: 0.8393\n",
            "Epoch 98/1000\n",
            "1/2 [==============>...............] - ETA: 0s - loss: 0.4696 - accuracy: 0.8359\n",
            "Epoch 98: saving model to model/keypoint_classifier/keypoint_classifier.hdf5\n",
            "2/2 [==============================] - 0s 58ms/step - loss: 0.5368 - accuracy: 0.8061 - val_loss: 0.7218 - val_accuracy: 0.8393\n",
            "Epoch 99/1000\n",
            "1/2 [==============>...............] - ETA: 0s - loss: 0.5703 - accuracy: 0.7734\n",
            "Epoch 99: saving model to model/keypoint_classifier/keypoint_classifier.hdf5\n",
            "2/2 [==============================] - 0s 59ms/step - loss: 0.6048 - accuracy: 0.7879 - val_loss: 0.7153 - val_accuracy: 0.8393\n",
            "Epoch 100/1000\n",
            "1/2 [==============>...............] - ETA: 0s - loss: 0.7235 - accuracy: 0.7188\n",
            "Epoch 100: saving model to model/keypoint_classifier/keypoint_classifier.hdf5\n",
            "2/2 [==============================] - 0s 58ms/step - loss: 0.7157 - accuracy: 0.7515 - val_loss: 0.7057 - val_accuracy: 0.8393\n",
            "Epoch 101/1000\n",
            "1/2 [==============>...............] - ETA: 0s - loss: 0.6926 - accuracy: 0.7578\n",
            "Epoch 101: saving model to model/keypoint_classifier/keypoint_classifier.hdf5\n",
            "2/2 [==============================] - 0s 57ms/step - loss: 0.6276 - accuracy: 0.7818 - val_loss: 0.6974 - val_accuracy: 0.8393\n",
            "Epoch 102/1000\n",
            "1/2 [==============>...............] - ETA: 0s - loss: 0.6676 - accuracy: 0.7969\n",
            "Epoch 102: saving model to model/keypoint_classifier/keypoint_classifier.hdf5\n",
            "2/2 [==============================] - 0s 58ms/step - loss: 0.5956 - accuracy: 0.8182 - val_loss: 0.6929 - val_accuracy: 0.8571\n",
            "Epoch 103/1000\n",
            "1/2 [==============>...............] - ETA: 0s - loss: 0.5586 - accuracy: 0.8203\n",
            "Epoch 103: saving model to model/keypoint_classifier/keypoint_classifier.hdf5\n",
            "2/2 [==============================] - 0s 57ms/step - loss: 0.5303 - accuracy: 0.8485 - val_loss: 0.6893 - val_accuracy: 0.8571\n",
            "Epoch 104/1000\n",
            "1/2 [==============>...............] - ETA: 0s - loss: 0.7108 - accuracy: 0.7812\n",
            "Epoch 104: saving model to model/keypoint_classifier/keypoint_classifier.hdf5\n",
            "2/2 [==============================] - 0s 58ms/step - loss: 0.6866 - accuracy: 0.7879 - val_loss: 0.6883 - val_accuracy: 0.8571\n",
            "Epoch 105/1000\n",
            "1/2 [==============>...............] - ETA: 0s - loss: 0.6659 - accuracy: 0.7969\n",
            "Epoch 105: saving model to model/keypoint_classifier/keypoint_classifier.hdf5\n",
            "2/2 [==============================] - 0s 59ms/step - loss: 0.6464 - accuracy: 0.8121 - val_loss: 0.6907 - val_accuracy: 0.8571\n",
            "Epoch 106/1000\n",
            "1/2 [==============>...............] - ETA: 0s - loss: 0.7113 - accuracy: 0.7734\n",
            "Epoch 106: saving model to model/keypoint_classifier/keypoint_classifier.hdf5\n",
            "2/2 [==============================] - 0s 57ms/step - loss: 0.6732 - accuracy: 0.7879 - val_loss: 0.6951 - val_accuracy: 0.8571\n",
            "Epoch 107/1000\n",
            "1/2 [==============>...............] - ETA: 0s - loss: 0.6782 - accuracy: 0.8203\n",
            "Epoch 107: saving model to model/keypoint_classifier/keypoint_classifier.hdf5\n",
            "2/2 [==============================] - 0s 57ms/step - loss: 0.7559 - accuracy: 0.7818 - val_loss: 0.6974 - val_accuracy: 0.8571\n",
            "Epoch 108/1000\n",
            "1/2 [==============>...............] - ETA: 0s - loss: 0.6686 - accuracy: 0.8047\n",
            "Epoch 108: saving model to model/keypoint_classifier/keypoint_classifier.hdf5\n",
            "2/2 [==============================] - 0s 58ms/step - loss: 0.6436 - accuracy: 0.8182 - val_loss: 0.6992 - val_accuracy: 0.8571\n",
            "Epoch 109/1000\n",
            "1/2 [==============>...............] - ETA: 0s - loss: 0.6910 - accuracy: 0.8047\n",
            "Epoch 109: saving model to model/keypoint_classifier/keypoint_classifier.hdf5\n",
            "2/2 [==============================] - 0s 57ms/step - loss: 0.5969 - accuracy: 0.8364 - val_loss: 0.7015 - val_accuracy: 0.8571\n",
            "Epoch 110/1000\n",
            "1/2 [==============>...............] - ETA: 0s - loss: 0.6098 - accuracy: 0.8203\n",
            "Epoch 110: saving model to model/keypoint_classifier/keypoint_classifier.hdf5\n",
            "2/2 [==============================] - 0s 58ms/step - loss: 0.7221 - accuracy: 0.8000 - val_loss: 0.7012 - val_accuracy: 0.8393\n",
            "Epoch 111/1000\n",
            "1/2 [==============>...............] - ETA: 0s - loss: 0.6453 - accuracy: 0.8359\n",
            "Epoch 111: saving model to model/keypoint_classifier/keypoint_classifier.hdf5\n",
            "2/2 [==============================] - 0s 58ms/step - loss: 0.5748 - accuracy: 0.8545 - val_loss: 0.6964 - val_accuracy: 0.8393\n",
            "Epoch 112/1000\n",
            "1/2 [==============>...............] - ETA: 0s - loss: 0.7292 - accuracy: 0.7891\n",
            "Epoch 112: saving model to model/keypoint_classifier/keypoint_classifier.hdf5\n",
            "2/2 [==============================] - 0s 58ms/step - loss: 0.6324 - accuracy: 0.8121 - val_loss: 0.6924 - val_accuracy: 0.8393\n",
            "Epoch 113/1000\n",
            "1/2 [==============>...............] - ETA: 0s - loss: 0.5119 - accuracy: 0.8516\n",
            "Epoch 113: saving model to model/keypoint_classifier/keypoint_classifier.hdf5\n",
            "2/2 [==============================] - 0s 111ms/step - loss: 0.4799 - accuracy: 0.8606 - val_loss: 0.6870 - val_accuracy: 0.8393\n",
            "Epoch 114/1000\n",
            "1/2 [==============>...............] - ETA: 0s - loss: 0.8325 - accuracy: 0.8125\n",
            "Epoch 114: saving model to model/keypoint_classifier/keypoint_classifier.hdf5\n",
            "2/2 [==============================] - 0s 57ms/step - loss: 0.7175 - accuracy: 0.8303 - val_loss: 0.6842 - val_accuracy: 0.8393\n",
            "Epoch 115/1000\n",
            "1/2 [==============>...............] - ETA: 0s - loss: 0.5661 - accuracy: 0.8359\n",
            "Epoch 115: saving model to model/keypoint_classifier/keypoint_classifier.hdf5\n",
            "2/2 [==============================] - 0s 57ms/step - loss: 0.6248 - accuracy: 0.8364 - val_loss: 0.6792 - val_accuracy: 0.8571\n",
            "Epoch 116/1000\n",
            "1/2 [==============>...............] - ETA: 0s - loss: 0.7297 - accuracy: 0.8125\n",
            "Epoch 116: saving model to model/keypoint_classifier/keypoint_classifier.hdf5\n",
            "2/2 [==============================] - 0s 58ms/step - loss: 0.6360 - accuracy: 0.8364 - val_loss: 0.6733 - val_accuracy: 0.8571\n",
            "Epoch 117/1000\n",
            "1/2 [==============>...............] - ETA: 0s - loss: 0.6607 - accuracy: 0.8750\n",
            "Epoch 117: saving model to model/keypoint_classifier/keypoint_classifier.hdf5\n",
            "2/2 [==============================] - 0s 74ms/step - loss: 0.5932 - accuracy: 0.8727 - val_loss: 0.6670 - val_accuracy: 0.8571\n",
            "Epoch 118/1000\n",
            "1/2 [==============>...............] - ETA: 0s - loss: 0.5131 - accuracy: 0.8281\n",
            "Epoch 118: saving model to model/keypoint_classifier/keypoint_classifier.hdf5\n",
            "2/2 [==============================] - 0s 58ms/step - loss: 0.5564 - accuracy: 0.8061 - val_loss: 0.6641 - val_accuracy: 0.8571\n",
            "Epoch 119/1000\n",
            "1/2 [==============>...............] - ETA: 0s - loss: 0.6346 - accuracy: 0.8438\n",
            "Epoch 119: saving model to model/keypoint_classifier/keypoint_classifier.hdf5\n",
            "2/2 [==============================] - 0s 57ms/step - loss: 0.5689 - accuracy: 0.8545 - val_loss: 0.6625 - val_accuracy: 0.8571\n",
            "Epoch 120/1000\n",
            "1/2 [==============>...............] - ETA: 0s - loss: 0.6540 - accuracy: 0.8359\n",
            "Epoch 120: saving model to model/keypoint_classifier/keypoint_classifier.hdf5\n",
            "2/2 [==============================] - 0s 60ms/step - loss: 0.6004 - accuracy: 0.8424 - val_loss: 0.6611 - val_accuracy: 0.8571\n",
            "Epoch 121/1000\n",
            "1/2 [==============>...............] - ETA: 0s - loss: 0.7383 - accuracy: 0.8125\n",
            "Epoch 121: saving model to model/keypoint_classifier/keypoint_classifier.hdf5\n",
            "2/2 [==============================] - 0s 66ms/step - loss: 0.6537 - accuracy: 0.8303 - val_loss: 0.6641 - val_accuracy: 0.8571\n",
            "Epoch 122/1000\n",
            "1/2 [==============>...............] - ETA: 0s - loss: 0.5576 - accuracy: 0.8047\n",
            "Epoch 122: saving model to model/keypoint_classifier/keypoint_classifier.hdf5\n",
            "2/2 [==============================] - 0s 93ms/step - loss: 0.5574 - accuracy: 0.8121 - val_loss: 0.6655 - val_accuracy: 0.8571\n",
            "Epoch 123/1000\n",
            "1/2 [==============>...............] - ETA: 0s - loss: 0.7357 - accuracy: 0.8438\n",
            "Epoch 123: saving model to model/keypoint_classifier/keypoint_classifier.hdf5\n",
            "2/2 [==============================] - 0s 59ms/step - loss: 0.7104 - accuracy: 0.8182 - val_loss: 0.6682 - val_accuracy: 0.8571\n",
            "Epoch 124/1000\n",
            "1/2 [==============>...............] - ETA: 0s - loss: 0.5148 - accuracy: 0.8672\n",
            "Epoch 124: saving model to model/keypoint_classifier/keypoint_classifier.hdf5\n",
            "2/2 [==============================] - 0s 58ms/step - loss: 0.5149 - accuracy: 0.8485 - val_loss: 0.6705 - val_accuracy: 0.8571\n",
            "Epoch 125/1000\n",
            "1/2 [==============>...............] - ETA: 0s - loss: 0.4642 - accuracy: 0.8516\n",
            "Epoch 125: saving model to model/keypoint_classifier/keypoint_classifier.hdf5\n",
            "2/2 [==============================] - 0s 58ms/step - loss: 0.5050 - accuracy: 0.8485 - val_loss: 0.6724 - val_accuracy: 0.8750\n",
            "Epoch 126/1000\n",
            "1/2 [==============>...............] - ETA: 0s - loss: 0.5354 - accuracy: 0.8516\n",
            "Epoch 126: saving model to model/keypoint_classifier/keypoint_classifier.hdf5\n",
            "2/2 [==============================] - 0s 57ms/step - loss: 0.5532 - accuracy: 0.8424 - val_loss: 0.6728 - val_accuracy: 0.8750\n",
            "Epoch 127/1000\n",
            "1/2 [==============>...............] - ETA: 0s - loss: 0.5338 - accuracy: 0.8281\n",
            "Epoch 127: saving model to model/keypoint_classifier/keypoint_classifier.hdf5\n",
            "2/2 [==============================] - 0s 56ms/step - loss: 0.5875 - accuracy: 0.8485 - val_loss: 0.6731 - val_accuracy: 0.8929\n",
            "Epoch 128/1000\n",
            "1/2 [==============>...............] - ETA: 0s - loss: 0.6916 - accuracy: 0.7969\n",
            "Epoch 128: saving model to model/keypoint_classifier/keypoint_classifier.hdf5\n",
            "2/2 [==============================] - 0s 58ms/step - loss: 0.6091 - accuracy: 0.8242 - val_loss: 0.6741 - val_accuracy: 0.8929\n",
            "Epoch 129/1000\n",
            "1/2 [==============>...............] - ETA: 0s - loss: 0.7058 - accuracy: 0.8125\n",
            "Epoch 129: saving model to model/keypoint_classifier/keypoint_classifier.hdf5\n",
            "2/2 [==============================] - 0s 75ms/step - loss: 0.6038 - accuracy: 0.8424 - val_loss: 0.6766 - val_accuracy: 0.8929\n",
            "Epoch 130/1000\n",
            "1/2 [==============>...............] - ETA: 0s - loss: 0.6317 - accuracy: 0.8203\n",
            "Epoch 130: saving model to model/keypoint_classifier/keypoint_classifier.hdf5\n",
            "2/2 [==============================] - 0s 93ms/step - loss: 0.6291 - accuracy: 0.8061 - val_loss: 0.6774 - val_accuracy: 0.8929\n",
            "Epoch 131/1000\n",
            "1/2 [==============>...............] - ETA: 0s - loss: 0.5908 - accuracy: 0.8203\n",
            "Epoch 131: saving model to model/keypoint_classifier/keypoint_classifier.hdf5\n",
            "2/2 [==============================] - 0s 57ms/step - loss: 0.5391 - accuracy: 0.8424 - val_loss: 0.6757 - val_accuracy: 0.8929\n",
            "Epoch 132/1000\n",
            "1/2 [==============>...............] - ETA: 0s - loss: 0.7136 - accuracy: 0.7969\n",
            "Epoch 132: saving model to model/keypoint_classifier/keypoint_classifier.hdf5\n",
            "2/2 [==============================] - 0s 58ms/step - loss: 0.6716 - accuracy: 0.8121 - val_loss: 0.6791 - val_accuracy: 0.8929\n",
            "Epoch 133/1000\n",
            "1/2 [==============>...............] - ETA: 0s - loss: 0.6080 - accuracy: 0.7812\n",
            "Epoch 133: saving model to model/keypoint_classifier/keypoint_classifier.hdf5\n",
            "2/2 [==============================] - 0s 57ms/step - loss: 0.6622 - accuracy: 0.7818 - val_loss: 0.6805 - val_accuracy: 0.8929\n",
            "Epoch 134/1000\n",
            "1/2 [==============>...............] - ETA: 0s - loss: 0.4233 - accuracy: 0.8516\n",
            "Epoch 134: saving model to model/keypoint_classifier/keypoint_classifier.hdf5\n",
            "2/2 [==============================] - 0s 58ms/step - loss: 0.4839 - accuracy: 0.8364 - val_loss: 0.6759 - val_accuracy: 0.8750\n",
            "Epoch 135/1000\n",
            "1/2 [==============>...............] - ETA: 0s - loss: 0.5631 - accuracy: 0.8516\n",
            "Epoch 135: saving model to model/keypoint_classifier/keypoint_classifier.hdf5\n",
            "2/2 [==============================] - 0s 57ms/step - loss: 0.5477 - accuracy: 0.8485 - val_loss: 0.6719 - val_accuracy: 0.8750\n",
            "Epoch 136/1000\n",
            "1/2 [==============>...............] - ETA: 0s - loss: 0.7586 - accuracy: 0.8281\n",
            "Epoch 136: saving model to model/keypoint_classifier/keypoint_classifier.hdf5\n",
            "2/2 [==============================] - 0s 57ms/step - loss: 0.7016 - accuracy: 0.8424 - val_loss: 0.6708 - val_accuracy: 0.8750\n",
            "Epoch 137/1000\n",
            "1/2 [==============>...............] - ETA: 0s - loss: 0.5584 - accuracy: 0.7969\n",
            "Epoch 137: saving model to model/keypoint_classifier/keypoint_classifier.hdf5\n",
            "2/2 [==============================] - 0s 59ms/step - loss: 0.5645 - accuracy: 0.8061 - val_loss: 0.6687 - val_accuracy: 0.8750\n",
            "Epoch 138/1000\n",
            "1/2 [==============>...............] - ETA: 0s - loss: 0.4568 - accuracy: 0.8438\n",
            "Epoch 138: saving model to model/keypoint_classifier/keypoint_classifier.hdf5\n",
            "2/2 [==============================] - 0s 58ms/step - loss: 0.4595 - accuracy: 0.8485 - val_loss: 0.6646 - val_accuracy: 0.8750\n",
            "Epoch 139/1000\n",
            "1/2 [==============>...............] - ETA: 0s - loss: 0.5656 - accuracy: 0.8516\n",
            "Epoch 139: saving model to model/keypoint_classifier/keypoint_classifier.hdf5\n",
            "2/2 [==============================] - 0s 57ms/step - loss: 0.6129 - accuracy: 0.8424 - val_loss: 0.6583 - val_accuracy: 0.8750\n",
            "Epoch 140/1000\n",
            "1/2 [==============>...............] - ETA: 0s - loss: 0.6594 - accuracy: 0.8672\n",
            "Epoch 140: saving model to model/keypoint_classifier/keypoint_classifier.hdf5\n",
            "2/2 [==============================] - 0s 57ms/step - loss: 0.6110 - accuracy: 0.8727 - val_loss: 0.6548 - val_accuracy: 0.8750\n",
            "Epoch 141/1000\n",
            "1/2 [==============>...............] - ETA: 0s - loss: 0.5418 - accuracy: 0.8203\n",
            "Epoch 141: saving model to model/keypoint_classifier/keypoint_classifier.hdf5\n",
            "2/2 [==============================] - 0s 56ms/step - loss: 0.5814 - accuracy: 0.8424 - val_loss: 0.6482 - val_accuracy: 0.8750\n",
            "Epoch 142/1000\n",
            "1/2 [==============>...............] - ETA: 0s - loss: 0.7074 - accuracy: 0.8516\n",
            "Epoch 142: saving model to model/keypoint_classifier/keypoint_classifier.hdf5\n",
            "2/2 [==============================] - 0s 56ms/step - loss: 0.6129 - accuracy: 0.8667 - val_loss: 0.6406 - val_accuracy: 0.8750\n",
            "Epoch 143/1000\n",
            "1/2 [==============>...............] - ETA: 0s - loss: 0.5617 - accuracy: 0.8203\n",
            "Epoch 143: saving model to model/keypoint_classifier/keypoint_classifier.hdf5\n",
            "2/2 [==============================] - 0s 58ms/step - loss: 0.5796 - accuracy: 0.8242 - val_loss: 0.6363 - val_accuracy: 0.8750\n",
            "Epoch 144/1000\n",
            "1/2 [==============>...............] - ETA: 0s - loss: 0.6542 - accuracy: 0.8125\n",
            "Epoch 144: saving model to model/keypoint_classifier/keypoint_classifier.hdf5\n",
            "2/2 [==============================] - 0s 57ms/step - loss: 0.6074 - accuracy: 0.8364 - val_loss: 0.6335 - val_accuracy: 0.8929\n",
            "Epoch 145/1000\n",
            "1/2 [==============>...............] - ETA: 0s - loss: 0.7005 - accuracy: 0.7812\n",
            "Epoch 145: saving model to model/keypoint_classifier/keypoint_classifier.hdf5\n",
            "2/2 [==============================] - 0s 57ms/step - loss: 0.6543 - accuracy: 0.7879 - val_loss: 0.6317 - val_accuracy: 0.8929\n",
            "Epoch 146/1000\n",
            "1/2 [==============>...............] - ETA: 0s - loss: 0.5033 - accuracy: 0.8359\n",
            "Epoch 146: saving model to model/keypoint_classifier/keypoint_classifier.hdf5\n",
            "2/2 [==============================] - 0s 56ms/step - loss: 0.5023 - accuracy: 0.8606 - val_loss: 0.6273 - val_accuracy: 0.8929\n",
            "Epoch 147/1000\n",
            "1/2 [==============>...............] - ETA: 0s - loss: 0.5916 - accuracy: 0.8516\n",
            "Epoch 147: saving model to model/keypoint_classifier/keypoint_classifier.hdf5\n",
            "2/2 [==============================] - 0s 58ms/step - loss: 0.5678 - accuracy: 0.8485 - val_loss: 0.6228 - val_accuracy: 0.8750\n",
            "Epoch 148/1000\n",
            "1/2 [==============>...............] - ETA: 0s - loss: 0.6065 - accuracy: 0.8203\n",
            "Epoch 148: saving model to model/keypoint_classifier/keypoint_classifier.hdf5\n",
            "2/2 [==============================] - 0s 59ms/step - loss: 0.5638 - accuracy: 0.8303 - val_loss: 0.6213 - val_accuracy: 0.8750\n",
            "Epoch 149/1000\n",
            "1/2 [==============>...............] - ETA: 0s - loss: 0.6814 - accuracy: 0.7969\n",
            "Epoch 149: saving model to model/keypoint_classifier/keypoint_classifier.hdf5\n",
            "2/2 [==============================] - 0s 59ms/step - loss: 0.6650 - accuracy: 0.8182 - val_loss: 0.6183 - val_accuracy: 0.8750\n",
            "Epoch 150/1000\n",
            "1/2 [==============>...............] - ETA: 0s - loss: 0.5714 - accuracy: 0.8281\n",
            "Epoch 150: saving model to model/keypoint_classifier/keypoint_classifier.hdf5\n",
            "2/2 [==============================] - 0s 60ms/step - loss: 0.5388 - accuracy: 0.8364 - val_loss: 0.6147 - val_accuracy: 0.8750\n",
            "Epoch 151/1000\n",
            "1/2 [==============>...............] - ETA: 0s - loss: 0.5895 - accuracy: 0.8281\n",
            "Epoch 151: saving model to model/keypoint_classifier/keypoint_classifier.hdf5\n",
            "2/2 [==============================] - 0s 81ms/step - loss: 0.6071 - accuracy: 0.8364 - val_loss: 0.6119 - val_accuracy: 0.8750\n",
            "Epoch 152/1000\n",
            "1/2 [==============>...............] - ETA: 0s - loss: 0.6668 - accuracy: 0.8516\n",
            "Epoch 152: saving model to model/keypoint_classifier/keypoint_classifier.hdf5\n",
            "2/2 [==============================] - 0s 58ms/step - loss: 0.5994 - accuracy: 0.8727 - val_loss: 0.6105 - val_accuracy: 0.8750\n",
            "Epoch 153/1000\n",
            "1/2 [==============>...............] - ETA: 0s - loss: 0.5831 - accuracy: 0.8281\n",
            "Epoch 153: saving model to model/keypoint_classifier/keypoint_classifier.hdf5\n",
            "2/2 [==============================] - 0s 57ms/step - loss: 0.5761 - accuracy: 0.8303 - val_loss: 0.6088 - val_accuracy: 0.8750\n",
            "Epoch 154/1000\n",
            "1/2 [==============>...............] - ETA: 0s - loss: 0.6129 - accuracy: 0.8359\n",
            "Epoch 154: saving model to model/keypoint_classifier/keypoint_classifier.hdf5\n",
            "2/2 [==============================] - 0s 56ms/step - loss: 0.5356 - accuracy: 0.8606 - val_loss: 0.6100 - val_accuracy: 0.8750\n",
            "Epoch 155/1000\n",
            "1/2 [==============>...............] - ETA: 0s - loss: 0.4759 - accuracy: 0.8516\n",
            "Epoch 155: saving model to model/keypoint_classifier/keypoint_classifier.hdf5\n",
            "2/2 [==============================] - 0s 57ms/step - loss: 0.4882 - accuracy: 0.8485 - val_loss: 0.6152 - val_accuracy: 0.8750\n",
            "Epoch 156/1000\n",
            "1/2 [==============>...............] - ETA: 0s - loss: 0.5991 - accuracy: 0.8672\n",
            "Epoch 156: saving model to model/keypoint_classifier/keypoint_classifier.hdf5\n",
            "2/2 [==============================] - 0s 58ms/step - loss: 0.6582 - accuracy: 0.8545 - val_loss: 0.6212 - val_accuracy: 0.8571\n",
            "Epoch 157/1000\n",
            "1/2 [==============>...............] - ETA: 0s - loss: 0.6939 - accuracy: 0.8516\n",
            "Epoch 157: saving model to model/keypoint_classifier/keypoint_classifier.hdf5\n",
            "2/2 [==============================] - 0s 56ms/step - loss: 0.5772 - accuracy: 0.8848 - val_loss: 0.6213 - val_accuracy: 0.8750\n",
            "Epoch 158/1000\n",
            "1/2 [==============>...............] - ETA: 0s - loss: 0.5553 - accuracy: 0.8203\n",
            "Epoch 158: saving model to model/keypoint_classifier/keypoint_classifier.hdf5\n",
            "2/2 [==============================] - 0s 58ms/step - loss: 0.5425 - accuracy: 0.8303 - val_loss: 0.6208 - val_accuracy: 0.8750\n",
            "Epoch 159/1000\n",
            "1/2 [==============>...............] - ETA: 0s - loss: 0.5535 - accuracy: 0.7891\n",
            "Epoch 159: saving model to model/keypoint_classifier/keypoint_classifier.hdf5\n",
            "2/2 [==============================] - 0s 57ms/step - loss: 0.5607 - accuracy: 0.7939 - val_loss: 0.6221 - val_accuracy: 0.8750\n",
            "Epoch 160/1000\n",
            "1/2 [==============>...............] - ETA: 0s - loss: 0.6766 - accuracy: 0.8203\n",
            "Epoch 160: saving model to model/keypoint_classifier/keypoint_classifier.hdf5\n",
            "2/2 [==============================] - 0s 58ms/step - loss: 0.6096 - accuracy: 0.8364 - val_loss: 0.6186 - val_accuracy: 0.8750\n",
            "Epoch 161/1000\n",
            "1/2 [==============>...............] - ETA: 0s - loss: 0.5420 - accuracy: 0.8281\n",
            "Epoch 161: saving model to model/keypoint_classifier/keypoint_classifier.hdf5\n",
            "2/2 [==============================] - 0s 57ms/step - loss: 0.5411 - accuracy: 0.8364 - val_loss: 0.6133 - val_accuracy: 0.8750\n",
            "Epoch 162/1000\n",
            "1/2 [==============>...............] - ETA: 0s - loss: 0.5891 - accuracy: 0.8047\n",
            "Epoch 162: saving model to model/keypoint_classifier/keypoint_classifier.hdf5\n",
            "2/2 [==============================] - 0s 62ms/step - loss: 0.5192 - accuracy: 0.8303 - val_loss: 0.6122 - val_accuracy: 0.8750\n",
            "Epoch 163/1000\n",
            "1/2 [==============>...............] - ETA: 0s - loss: 0.5919 - accuracy: 0.8359\n",
            "Epoch 163: saving model to model/keypoint_classifier/keypoint_classifier.hdf5\n",
            "2/2 [==============================] - 0s 59ms/step - loss: 0.6016 - accuracy: 0.8364 - val_loss: 0.6121 - val_accuracy: 0.8750\n",
            "Epoch 164/1000\n",
            "1/2 [==============>...............] - ETA: 0s - loss: 0.5796 - accuracy: 0.7812\n",
            "Epoch 164: saving model to model/keypoint_classifier/keypoint_classifier.hdf5\n",
            "2/2 [==============================] - 0s 57ms/step - loss: 0.6007 - accuracy: 0.7939 - val_loss: 0.6123 - val_accuracy: 0.8750\n",
            "Epoch 165/1000\n",
            "1/2 [==============>...............] - ETA: 0s - loss: 0.4845 - accuracy: 0.8516\n",
            "Epoch 165: saving model to model/keypoint_classifier/keypoint_classifier.hdf5\n",
            "2/2 [==============================] - 0s 57ms/step - loss: 0.4753 - accuracy: 0.8667 - val_loss: 0.6080 - val_accuracy: 0.8750\n",
            "Epoch 166/1000\n",
            "1/2 [==============>...............] - ETA: 0s - loss: 0.5419 - accuracy: 0.8906\n",
            "Epoch 166: saving model to model/keypoint_classifier/keypoint_classifier.hdf5\n",
            "2/2 [==============================] - 0s 57ms/step - loss: 0.5378 - accuracy: 0.8727 - val_loss: 0.6058 - val_accuracy: 0.8750\n",
            "Epoch 167/1000\n",
            "1/2 [==============>...............] - ETA: 0s - loss: 0.6032 - accuracy: 0.7656\n",
            "Epoch 167: saving model to model/keypoint_classifier/keypoint_classifier.hdf5\n",
            "2/2 [==============================] - 0s 58ms/step - loss: 0.5453 - accuracy: 0.7879 - val_loss: 0.6078 - val_accuracy: 0.8750\n",
            "Epoch 168/1000\n",
            "1/2 [==============>...............] - ETA: 0s - loss: 0.5352 - accuracy: 0.8438\n",
            "Epoch 168: saving model to model/keypoint_classifier/keypoint_classifier.hdf5\n",
            "2/2 [==============================] - 0s 57ms/step - loss: 0.5018 - accuracy: 0.8606 - val_loss: 0.6117 - val_accuracy: 0.8750\n",
            "Epoch 169/1000\n",
            "1/2 [==============>...............] - ETA: 0s - loss: 0.6525 - accuracy: 0.8281\n",
            "Epoch 169: saving model to model/keypoint_classifier/keypoint_classifier.hdf5\n",
            "2/2 [==============================] - 0s 58ms/step - loss: 0.5869 - accuracy: 0.8424 - val_loss: 0.6203 - val_accuracy: 0.8750\n",
            "Epoch 170/1000\n",
            "1/2 [==============>...............] - ETA: 0s - loss: 0.6122 - accuracy: 0.8125\n",
            "Epoch 170: saving model to model/keypoint_classifier/keypoint_classifier.hdf5\n",
            "2/2 [==============================] - 0s 58ms/step - loss: 0.5977 - accuracy: 0.8242 - val_loss: 0.6299 - val_accuracy: 0.8750\n",
            "Epoch 171/1000\n",
            "1/2 [==============>...............] - ETA: 0s - loss: 0.5023 - accuracy: 0.8516\n",
            "Epoch 171: saving model to model/keypoint_classifier/keypoint_classifier.hdf5\n",
            "2/2 [==============================] - 0s 56ms/step - loss: 0.4660 - accuracy: 0.8485 - val_loss: 0.6355 - val_accuracy: 0.8750\n",
            "Epoch 172/1000\n",
            "1/2 [==============>...............] - ETA: 0s - loss: 0.5919 - accuracy: 0.8516\n",
            "Epoch 172: saving model to model/keypoint_classifier/keypoint_classifier.hdf5\n",
            "2/2 [==============================] - 0s 77ms/step - loss: 0.5236 - accuracy: 0.8727 - val_loss: 0.6425 - val_accuracy: 0.8750\n",
            "Epoch 173/1000\n",
            "1/2 [==============>...............] - ETA: 0s - loss: 0.6363 - accuracy: 0.8203\n",
            "Epoch 173: saving model to model/keypoint_classifier/keypoint_classifier.hdf5\n",
            "2/2 [==============================] - 0s 57ms/step - loss: 0.6589 - accuracy: 0.8061 - val_loss: 0.6494 - val_accuracy: 0.8750\n",
            "Epoch 174/1000\n",
            "1/2 [==============>...............] - ETA: 0s - loss: 0.6469 - accuracy: 0.8125\n",
            "Epoch 174: saving model to model/keypoint_classifier/keypoint_classifier.hdf5\n",
            "2/2 [==============================] - 0s 123ms/step - loss: 0.5652 - accuracy: 0.8485 - val_loss: 0.6507 - val_accuracy: 0.8393\n",
            "Epoch 175/1000\n",
            "1/2 [==============>...............] - ETA: 0s - loss: 0.5537 - accuracy: 0.8516\n",
            "Epoch 175: saving model to model/keypoint_classifier/keypoint_classifier.hdf5\n",
            "2/2 [==============================] - 0s 59ms/step - loss: 0.4776 - accuracy: 0.8788 - val_loss: 0.6549 - val_accuracy: 0.8393\n",
            "Epoch 176/1000\n",
            "1/2 [==============>...............] - ETA: 0s - loss: 0.5684 - accuracy: 0.8203\n",
            "Epoch 176: saving model to model/keypoint_classifier/keypoint_classifier.hdf5\n",
            "2/2 [==============================] - 0s 68ms/step - loss: 0.5867 - accuracy: 0.8182 - val_loss: 0.6585 - val_accuracy: 0.8393\n",
            "Epoch 177/1000\n",
            "1/2 [==============>...............] - ETA: 0s - loss: 0.4235 - accuracy: 0.8828\n",
            "Epoch 177: saving model to model/keypoint_classifier/keypoint_classifier.hdf5\n",
            "2/2 [==============================] - 0s 60ms/step - loss: 0.4604 - accuracy: 0.8788 - val_loss: 0.6561 - val_accuracy: 0.8393\n",
            "Epoch 178/1000\n",
            "1/2 [==============>...............] - ETA: 0s - loss: 0.5603 - accuracy: 0.7969\n",
            "Epoch 178: saving model to model/keypoint_classifier/keypoint_classifier.hdf5\n",
            "2/2 [==============================] - 0s 58ms/step - loss: 0.5666 - accuracy: 0.8000 - val_loss: 0.6487 - val_accuracy: 0.8750\n",
            "Epoch 179/1000\n",
            "1/2 [==============>...............] - ETA: 0s - loss: 0.5872 - accuracy: 0.8672\n",
            "Epoch 179: saving model to model/keypoint_classifier/keypoint_classifier.hdf5\n",
            "2/2 [==============================] - 0s 58ms/step - loss: 0.5578 - accuracy: 0.8606 - val_loss: 0.6396 - val_accuracy: 0.8750\n",
            "Epoch 180/1000\n",
            "1/2 [==============>...............] - ETA: 0s - loss: 0.6563 - accuracy: 0.8047\n",
            "Epoch 180: saving model to model/keypoint_classifier/keypoint_classifier.hdf5\n",
            "2/2 [==============================] - 0s 61ms/step - loss: 0.6077 - accuracy: 0.8121 - val_loss: 0.6278 - val_accuracy: 0.8750\n",
            "Epoch 181/1000\n",
            "1/2 [==============>...............] - ETA: 0s - loss: 0.5786 - accuracy: 0.7578\n",
            "Epoch 181: saving model to model/keypoint_classifier/keypoint_classifier.hdf5\n",
            "2/2 [==============================] - 0s 60ms/step - loss: 0.5143 - accuracy: 0.8000 - val_loss: 0.6200 - val_accuracy: 0.8750\n",
            "Epoch 182/1000\n",
            "1/2 [==============>...............] - ETA: 0s - loss: 0.5469 - accuracy: 0.8516\n",
            "Epoch 182: saving model to model/keypoint_classifier/keypoint_classifier.hdf5\n",
            "2/2 [==============================] - 0s 113ms/step - loss: 0.5848 - accuracy: 0.8545 - val_loss: 0.6175 - val_accuracy: 0.8750\n",
            "Epoch 183/1000\n",
            "1/2 [==============>...............] - ETA: 0s - loss: 0.4363 - accuracy: 0.8906\n",
            "Epoch 183: saving model to model/keypoint_classifier/keypoint_classifier.hdf5\n",
            "2/2 [==============================] - 0s 62ms/step - loss: 0.4861 - accuracy: 0.8788 - val_loss: 0.6161 - val_accuracy: 0.8750\n",
            "Epoch 184/1000\n",
            "1/2 [==============>...............] - ETA: 0s - loss: 0.6032 - accuracy: 0.8359\n",
            "Epoch 184: saving model to model/keypoint_classifier/keypoint_classifier.hdf5\n",
            "2/2 [==============================] - 0s 68ms/step - loss: 0.5666 - accuracy: 0.8364 - val_loss: 0.6143 - val_accuracy: 0.8750\n",
            "Epoch 185/1000\n",
            "1/2 [==============>...............] - ETA: 0s - loss: 0.6551 - accuracy: 0.7891\n",
            "Epoch 185: saving model to model/keypoint_classifier/keypoint_classifier.hdf5\n",
            "2/2 [==============================] - 0s 67ms/step - loss: 0.5663 - accuracy: 0.8242 - val_loss: 0.6162 - val_accuracy: 0.8750\n",
            "Epoch 186/1000\n",
            "1/2 [==============>...............] - ETA: 0s - loss: 0.6051 - accuracy: 0.8359\n",
            "Epoch 186: saving model to model/keypoint_classifier/keypoint_classifier.hdf5\n",
            "2/2 [==============================] - 0s 62ms/step - loss: 0.5546 - accuracy: 0.8485 - val_loss: 0.6235 - val_accuracy: 0.8750\n",
            "Epoch 186: early stopping\n"
          ]
        },
        {
          "data": {
            "text/plain": [
              "<keras.src.callbacks.History at 0x2c49f5d00>"
            ]
          },
          "execution_count": 99,
          "metadata": {},
          "output_type": "execute_result"
        }
      ],
>>>>>>> 55a182f (improved model accuracy)
      "source": [
        "model.fit(\n",
        "    X_train,\n",
        "    y_train,\n",
        "    epochs=1000,\n",
        "    batch_size=128,\n",
        "    validation_data=(X_test, y_test),\n",
        "    callbacks=[cp_callback, es_callback]\n",
        ")"
<<<<<<< HEAD
      ],
      "execution_count": null,
      "outputs": [
        {
          "output_type": "stream",
          "text": [
            "Epoch 1/1000\n",
            "29/29 [==============================] - 2s 15ms/step - loss: 1.3853 - accuracy: 0.3360 - val_loss: 1.2779 - val_accuracy: 0.4244\n",
            "\n",
            "Epoch 00001: saving model to model/keypoint_classifier/keypoint_classifier.hdf5\n",
            "Epoch 2/1000\n",
            "29/29 [==============================] - 0s 4ms/step - loss: 1.2943 - accuracy: 0.3780 - val_loss: 1.2151 - val_accuracy: 0.4703\n",
            "\n",
            "Epoch 00002: saving model to model/keypoint_classifier/keypoint_classifier.hdf5\n",
            "Epoch 3/1000\n",
            "29/29 [==============================] - 0s 4ms/step - loss: 1.2524 - accuracy: 0.3749 - val_loss: 1.1472 - val_accuracy: 0.5572\n",
            "\n",
            "Epoch 00003: saving model to model/keypoint_classifier/keypoint_classifier.hdf5\n",
            "Epoch 4/1000\n",
            "29/29 [==============================] - 0s 4ms/step - loss: 1.1989 - accuracy: 0.4251 - val_loss: 1.0682 - val_accuracy: 0.6374\n",
            "\n",
            "Epoch 00004: saving model to model/keypoint_classifier/keypoint_classifier.hdf5\n",
            "Epoch 5/1000\n",
            "29/29 [==============================] - 0s 4ms/step - loss: 1.1363 - accuracy: 0.4733 - val_loss: 1.0027 - val_accuracy: 0.6608\n",
            "\n",
            "Epoch 00005: saving model to model/keypoint_classifier/keypoint_classifier.hdf5\n",
            "Epoch 6/1000\n",
            "29/29 [==============================] - 0s 4ms/step - loss: 1.0938 - accuracy: 0.5107 - val_loss: 0.9416 - val_accuracy: 0.6717\n",
            "\n",
            "Epoch 00006: saving model to model/keypoint_classifier/keypoint_classifier.hdf5\n",
            "Epoch 7/1000\n",
            "29/29 [==============================] - 0s 4ms/step - loss: 1.0426 - accuracy: 0.5351 - val_loss: 0.8775 - val_accuracy: 0.7043\n",
            "\n",
            "Epoch 00007: saving model to model/keypoint_classifier/keypoint_classifier.hdf5\n",
            "Epoch 8/1000\n",
            "29/29 [==============================] - 0s 4ms/step - loss: 1.0024 - accuracy: 0.5597 - val_loss: 0.8238 - val_accuracy: 0.7243\n",
            "\n",
            "Epoch 00008: saving model to model/keypoint_classifier/keypoint_classifier.hdf5\n",
            "Epoch 9/1000\n",
            "29/29 [==============================] - 0s 4ms/step - loss: 0.9845 - accuracy: 0.5475 - val_loss: 0.7726 - val_accuracy: 0.7444\n",
            "\n",
            "Epoch 00009: saving model to model/keypoint_classifier/keypoint_classifier.hdf5\n",
            "Epoch 10/1000\n",
            "29/29 [==============================] - 0s 4ms/step - loss: 0.9527 - accuracy: 0.5661 - val_loss: 0.7256 - val_accuracy: 0.7602\n",
            "\n",
            "Epoch 00010: saving model to model/keypoint_classifier/keypoint_classifier.hdf5\n",
            "Epoch 11/1000\n",
            "29/29 [==============================] - 0s 4ms/step - loss: 0.9066 - accuracy: 0.5915 - val_loss: 0.6922 - val_accuracy: 0.7886\n",
            "\n",
            "Epoch 00011: saving model to model/keypoint_classifier/keypoint_classifier.hdf5\n",
            "Epoch 12/1000\n",
            "29/29 [==============================] - 0s 4ms/step - loss: 0.8825 - accuracy: 0.6094 - val_loss: 0.6512 - val_accuracy: 0.8087\n",
            "\n",
            "Epoch 00012: saving model to model/keypoint_classifier/keypoint_classifier.hdf5\n",
            "Epoch 13/1000\n",
            "29/29 [==============================] - 0s 3ms/step - loss: 0.8901 - accuracy: 0.6124 - val_loss: 0.6228 - val_accuracy: 0.8246\n",
            "\n",
            "Epoch 00013: saving model to model/keypoint_classifier/keypoint_classifier.hdf5\n",
            "Epoch 14/1000\n",
            "29/29 [==============================] - 0s 3ms/step - loss: 0.8616 - accuracy: 0.6238 - val_loss: 0.5969 - val_accuracy: 0.8688\n",
            "\n",
            "Epoch 00014: saving model to model/keypoint_classifier/keypoint_classifier.hdf5\n",
            "Epoch 15/1000\n",
            "29/29 [==============================] - 0s 3ms/step - loss: 0.8060 - accuracy: 0.6412 - val_loss: 0.5634 - val_accuracy: 0.8780\n",
            "\n",
            "Epoch 00015: saving model to model/keypoint_classifier/keypoint_classifier.hdf5\n",
            "Epoch 16/1000\n",
            "29/29 [==============================] - 0s 3ms/step - loss: 0.8036 - accuracy: 0.6573 - val_loss: 0.5445 - val_accuracy: 0.8897\n",
            "\n",
            "Epoch 00016: saving model to model/keypoint_classifier/keypoint_classifier.hdf5\n",
            "Epoch 17/1000\n",
            "29/29 [==============================] - 0s 6ms/step - loss: 0.7658 - accuracy: 0.6752 - val_loss: 0.5247 - val_accuracy: 0.9056\n",
            "\n",
            "Epoch 00017: saving model to model/keypoint_classifier/keypoint_classifier.hdf5\n",
            "Epoch 18/1000\n",
            "29/29 [==============================] - 0s 3ms/step - loss: 0.7816 - accuracy: 0.6566 - val_loss: 0.5061 - val_accuracy: 0.9073\n",
            "\n",
            "Epoch 00018: saving model to model/keypoint_classifier/keypoint_classifier.hdf5\n",
            "Epoch 19/1000\n",
            "29/29 [==============================] - 0s 4ms/step - loss: 0.7564 - accuracy: 0.6842 - val_loss: 0.4910 - val_accuracy: 0.9039\n",
            "\n",
            "Epoch 00019: saving model to model/keypoint_classifier/keypoint_classifier.hdf5\n",
            "Epoch 20/1000\n",
            "29/29 [==============================] - 0s 3ms/step - loss: 0.7531 - accuracy: 0.6800 - val_loss: 0.4742 - val_accuracy: 0.9098\n",
            "\n",
            "Epoch 00020: saving model to model/keypoint_classifier/keypoint_classifier.hdf5\n",
            "Epoch 21/1000\n",
            "29/29 [==============================] - 0s 3ms/step - loss: 0.7271 - accuracy: 0.6952 - val_loss: 0.4619 - val_accuracy: 0.9190\n",
            "\n",
            "Epoch 00021: saving model to model/keypoint_classifier/keypoint_classifier.hdf5\n",
            "Epoch 22/1000\n",
            "29/29 [==============================] - 0s 3ms/step - loss: 0.7392 - accuracy: 0.6969 - val_loss: 0.4552 - val_accuracy: 0.9240\n",
            "\n",
            "Epoch 00022: saving model to model/keypoint_classifier/keypoint_classifier.hdf5\n",
            "Epoch 23/1000\n",
            "29/29 [==============================] - 0s 3ms/step - loss: 0.7169 - accuracy: 0.6980 - val_loss: 0.4407 - val_accuracy: 0.9190\n",
            "\n",
            "Epoch 00023: saving model to model/keypoint_classifier/keypoint_classifier.hdf5\n",
            "Epoch 24/1000\n",
            "29/29 [==============================] - 0s 3ms/step - loss: 0.7228 - accuracy: 0.6844 - val_loss: 0.4299 - val_accuracy: 0.9348\n",
            "\n",
            "Epoch 00024: saving model to model/keypoint_classifier/keypoint_classifier.hdf5\n",
            "Epoch 25/1000\n",
            "29/29 [==============================] - 0s 3ms/step - loss: 0.7076 - accuracy: 0.6995 - val_loss: 0.4208 - val_accuracy: 0.9273\n",
            "\n",
            "Epoch 00025: saving model to model/keypoint_classifier/keypoint_classifier.hdf5\n",
            "Epoch 26/1000\n",
            "29/29 [==============================] - 0s 4ms/step - loss: 0.7026 - accuracy: 0.7094 - val_loss: 0.4089 - val_accuracy: 0.9340\n",
            "\n",
            "Epoch 00026: saving model to model/keypoint_classifier/keypoint_classifier.hdf5\n",
            "Epoch 27/1000\n",
            "29/29 [==============================] - 0s 3ms/step - loss: 0.6647 - accuracy: 0.7284 - val_loss: 0.4033 - val_accuracy: 0.9307\n",
            "\n",
            "Epoch 00027: saving model to model/keypoint_classifier/keypoint_classifier.hdf5\n",
            "Epoch 28/1000\n",
            "29/29 [==============================] - 0s 3ms/step - loss: 0.7012 - accuracy: 0.7009 - val_loss: 0.4048 - val_accuracy: 0.9282\n",
            "\n",
            "Epoch 00028: saving model to model/keypoint_classifier/keypoint_classifier.hdf5\n",
            "Epoch 29/1000\n",
            "29/29 [==============================] - 0s 3ms/step - loss: 0.6833 - accuracy: 0.7196 - val_loss: 0.3877 - val_accuracy: 0.9390\n",
            "\n",
            "Epoch 00029: saving model to model/keypoint_classifier/keypoint_classifier.hdf5\n",
            "Epoch 30/1000\n",
            "29/29 [==============================] - 0s 3ms/step - loss: 0.6934 - accuracy: 0.7080 - val_loss: 0.3753 - val_accuracy: 0.9465\n",
            "\n",
            "Epoch 00030: saving model to model/keypoint_classifier/keypoint_classifier.hdf5\n",
            "Epoch 31/1000\n",
            "29/29 [==============================] - 0s 3ms/step - loss: 0.6482 - accuracy: 0.7330 - val_loss: 0.3744 - val_accuracy: 0.9407\n",
            "\n",
            "Epoch 00031: saving model to model/keypoint_classifier/keypoint_classifier.hdf5\n",
            "Epoch 32/1000\n",
            "29/29 [==============================] - 0s 3ms/step - loss: 0.6765 - accuracy: 0.7150 - val_loss: 0.3752 - val_accuracy: 0.9465\n",
            "\n",
            "Epoch 00032: saving model to model/keypoint_classifier/keypoint_classifier.hdf5\n",
            "Epoch 33/1000\n",
            "29/29 [==============================] - 0s 3ms/step - loss: 0.6690 - accuracy: 0.7229 - val_loss: 0.3627 - val_accuracy: 0.9490\n",
            "\n",
            "Epoch 00033: saving model to model/keypoint_classifier/keypoint_classifier.hdf5\n",
            "Epoch 34/1000\n",
            "29/29 [==============================] - 0s 3ms/step - loss: 0.6609 - accuracy: 0.7177 - val_loss: 0.3601 - val_accuracy: 0.9415\n",
            "\n",
            "Epoch 00034: saving model to model/keypoint_classifier/keypoint_classifier.hdf5\n",
            "Epoch 35/1000\n",
            "29/29 [==============================] - 0s 4ms/step - loss: 0.6472 - accuracy: 0.7369 - val_loss: 0.3538 - val_accuracy: 0.9357\n",
            "\n",
            "Epoch 00035: saving model to model/keypoint_classifier/keypoint_classifier.hdf5\n",
            "Epoch 36/1000\n",
            "29/29 [==============================] - 0s 3ms/step - loss: 0.6448 - accuracy: 0.7398 - val_loss: 0.3439 - val_accuracy: 0.9482\n",
            "\n",
            "Epoch 00036: saving model to model/keypoint_classifier/keypoint_classifier.hdf5\n",
            "Epoch 37/1000\n",
            "29/29 [==============================] - 0s 4ms/step - loss: 0.6417 - accuracy: 0.7341 - val_loss: 0.3454 - val_accuracy: 0.9482\n",
            "\n",
            "Epoch 00037: saving model to model/keypoint_classifier/keypoint_classifier.hdf5\n",
            "Epoch 38/1000\n",
            "29/29 [==============================] - 0s 3ms/step - loss: 0.6605 - accuracy: 0.7270 - val_loss: 0.3479 - val_accuracy: 0.9507\n",
            "\n",
            "Epoch 00038: saving model to model/keypoint_classifier/keypoint_classifier.hdf5\n",
            "Epoch 39/1000\n",
            "29/29 [==============================] - 0s 3ms/step - loss: 0.6306 - accuracy: 0.7349 - val_loss: 0.3439 - val_accuracy: 0.9499\n",
            "\n",
            "Epoch 00039: saving model to model/keypoint_classifier/keypoint_classifier.hdf5\n",
            "Epoch 40/1000\n",
            "29/29 [==============================] - 0s 3ms/step - loss: 0.6719 - accuracy: 0.7174 - val_loss: 0.3491 - val_accuracy: 0.9490\n",
            "\n",
            "Epoch 00040: saving model to model/keypoint_classifier/keypoint_classifier.hdf5\n",
            "Epoch 41/1000\n",
            "29/29 [==============================] - 0s 3ms/step - loss: 0.6213 - accuracy: 0.7391 - val_loss: 0.3326 - val_accuracy: 0.9465\n",
            "\n",
            "Epoch 00041: saving model to model/keypoint_classifier/keypoint_classifier.hdf5\n",
            "Epoch 42/1000\n",
            "29/29 [==============================] - 0s 3ms/step - loss: 0.6397 - accuracy: 0.7397 - val_loss: 0.3294 - val_accuracy: 0.9499\n",
            "\n",
            "Epoch 00042: saving model to model/keypoint_classifier/keypoint_classifier.hdf5\n",
            "Epoch 43/1000\n",
            "29/29 [==============================] - 0s 3ms/step - loss: 0.6255 - accuracy: 0.7534 - val_loss: 0.3269 - val_accuracy: 0.9515\n",
            "\n",
            "Epoch 00043: saving model to model/keypoint_classifier/keypoint_classifier.hdf5\n",
            "Epoch 44/1000\n",
            "29/29 [==============================] - 0s 4ms/step - loss: 0.6403 - accuracy: 0.7363 - val_loss: 0.3300 - val_accuracy: 0.9507\n",
            "\n",
            "Epoch 00044: saving model to model/keypoint_classifier/keypoint_classifier.hdf5\n",
            "Epoch 45/1000\n",
            "29/29 [==============================] - 0s 4ms/step - loss: 0.6105 - accuracy: 0.7541 - val_loss: 0.3156 - val_accuracy: 0.9574\n",
            "\n",
            "Epoch 00045: saving model to model/keypoint_classifier/keypoint_classifier.hdf5\n",
            "Epoch 46/1000\n",
            "29/29 [==============================] - 0s 3ms/step - loss: 0.6065 - accuracy: 0.7611 - val_loss: 0.3083 - val_accuracy: 0.9582\n",
            "\n",
            "Epoch 00046: saving model to model/keypoint_classifier/keypoint_classifier.hdf5\n",
            "Epoch 47/1000\n",
            "29/29 [==============================] - 0s 3ms/step - loss: 0.5970 - accuracy: 0.7595 - val_loss: 0.3147 - val_accuracy: 0.9432\n",
            "\n",
            "Epoch 00047: saving model to model/keypoint_classifier/keypoint_classifier.hdf5\n",
            "Epoch 48/1000\n",
            "29/29 [==============================] - 0s 4ms/step - loss: 0.5949 - accuracy: 0.7490 - val_loss: 0.3119 - val_accuracy: 0.9524\n",
            "\n",
            "Epoch 00048: saving model to model/keypoint_classifier/keypoint_classifier.hdf5\n",
            "Epoch 49/1000\n",
            "29/29 [==============================] - 0s 4ms/step - loss: 0.6136 - accuracy: 0.7447 - val_loss: 0.3049 - val_accuracy: 0.9591\n",
            "\n",
            "Epoch 00049: saving model to model/keypoint_classifier/keypoint_classifier.hdf5\n",
            "Epoch 50/1000\n",
            "29/29 [==============================] - 0s 4ms/step - loss: 0.6021 - accuracy: 0.7487 - val_loss: 0.3109 - val_accuracy: 0.9591\n",
            "\n",
            "Epoch 00050: saving model to model/keypoint_classifier/keypoint_classifier.hdf5\n",
            "Epoch 51/1000\n",
            "29/29 [==============================] - 0s 4ms/step - loss: 0.5964 - accuracy: 0.7519 - val_loss: 0.3073 - val_accuracy: 0.9607\n",
            "\n",
            "Epoch 00051: saving model to model/keypoint_classifier/keypoint_classifier.hdf5\n",
            "Epoch 52/1000\n",
            "29/29 [==============================] - 0s 4ms/step - loss: 0.6201 - accuracy: 0.7530 - val_loss: 0.3005 - val_accuracy: 0.9657\n",
            "\n",
            "Epoch 00052: saving model to model/keypoint_classifier/keypoint_classifier.hdf5\n",
            "Epoch 53/1000\n",
            "29/29 [==============================] - 0s 4ms/step - loss: 0.5830 - accuracy: 0.7675 - val_loss: 0.2952 - val_accuracy: 0.9641\n",
            "\n",
            "Epoch 00053: saving model to model/keypoint_classifier/keypoint_classifier.hdf5\n",
            "Epoch 54/1000\n",
            "29/29 [==============================] - 0s 4ms/step - loss: 0.5810 - accuracy: 0.7717 - val_loss: 0.2938 - val_accuracy: 0.9624\n",
            "\n",
            "Epoch 00054: saving model to model/keypoint_classifier/keypoint_classifier.hdf5\n",
            "Epoch 55/1000\n",
            "29/29 [==============================] - 0s 4ms/step - loss: 0.5772 - accuracy: 0.7629 - val_loss: 0.2909 - val_accuracy: 0.9616\n",
            "\n",
            "Epoch 00055: saving model to model/keypoint_classifier/keypoint_classifier.hdf5\n",
            "Epoch 56/1000\n",
            "29/29 [==============================] - 0s 4ms/step - loss: 0.5697 - accuracy: 0.7671 - val_loss: 0.2858 - val_accuracy: 0.9616\n",
            "\n",
            "Epoch 00056: saving model to model/keypoint_classifier/keypoint_classifier.hdf5\n",
            "Epoch 57/1000\n",
            "29/29 [==============================] - 0s 4ms/step - loss: 0.6045 - accuracy: 0.7662 - val_loss: 0.2897 - val_accuracy: 0.9607\n",
            "\n",
            "Epoch 00057: saving model to model/keypoint_classifier/keypoint_classifier.hdf5\n",
            "Epoch 58/1000\n",
            "29/29 [==============================] - 0s 4ms/step - loss: 0.5758 - accuracy: 0.7605 - val_loss: 0.2866 - val_accuracy: 0.9649\n",
            "\n",
            "Epoch 00058: saving model to model/keypoint_classifier/keypoint_classifier.hdf5\n",
            "Epoch 59/1000\n",
            "29/29 [==============================] - 0s 4ms/step - loss: 0.5680 - accuracy: 0.7674 - val_loss: 0.2823 - val_accuracy: 0.9666\n",
            "\n",
            "Epoch 00059: saving model to model/keypoint_classifier/keypoint_classifier.hdf5\n",
            "Epoch 60/1000\n",
            "29/29 [==============================] - 0s 4ms/step - loss: 0.6012 - accuracy: 0.7609 - val_loss: 0.2797 - val_accuracy: 0.9632\n",
            "\n",
            "Epoch 00060: saving model to model/keypoint_classifier/keypoint_classifier.hdf5\n",
            "Epoch 61/1000\n",
            "29/29 [==============================] - 0s 7ms/step - loss: 0.5754 - accuracy: 0.7716 - val_loss: 0.2738 - val_accuracy: 0.9657\n",
            "\n",
            "Epoch 00061: saving model to model/keypoint_classifier/keypoint_classifier.hdf5\n",
            "Epoch 62/1000\n",
            "29/29 [==============================] - 0s 3ms/step - loss: 0.5867 - accuracy: 0.7662 - val_loss: 0.2681 - val_accuracy: 0.9641\n",
            "\n",
            "Epoch 00062: saving model to model/keypoint_classifier/keypoint_classifier.hdf5\n",
            "Epoch 63/1000\n",
            "29/29 [==============================] - 0s 4ms/step - loss: 0.5659 - accuracy: 0.7775 - val_loss: 0.2679 - val_accuracy: 0.9624\n",
            "\n",
            "Epoch 00063: saving model to model/keypoint_classifier/keypoint_classifier.hdf5\n",
            "Epoch 64/1000\n",
            "29/29 [==============================] - 0s 3ms/step - loss: 0.5809 - accuracy: 0.7579 - val_loss: 0.2676 - val_accuracy: 0.9616\n",
            "\n",
            "Epoch 00064: saving model to model/keypoint_classifier/keypoint_classifier.hdf5\n",
            "Epoch 65/1000\n",
            "29/29 [==============================] - 0s 3ms/step - loss: 0.5411 - accuracy: 0.7946 - val_loss: 0.2597 - val_accuracy: 0.9657\n",
            "\n",
            "Epoch 00065: saving model to model/keypoint_classifier/keypoint_classifier.hdf5\n",
            "Epoch 66/1000\n",
            "29/29 [==============================] - 0s 3ms/step - loss: 0.5708 - accuracy: 0.7580 - val_loss: 0.2605 - val_accuracy: 0.9683\n",
            "\n",
            "Epoch 00066: saving model to model/keypoint_classifier/keypoint_classifier.hdf5\n",
            "Epoch 67/1000\n",
            "29/29 [==============================] - 0s 3ms/step - loss: 0.5758 - accuracy: 0.7743 - val_loss: 0.2610 - val_accuracy: 0.9666\n",
            "\n",
            "Epoch 00067: saving model to model/keypoint_classifier/keypoint_classifier.hdf5\n",
            "Epoch 68/1000\n",
            "29/29 [==============================] - 0s 4ms/step - loss: 0.5817 - accuracy: 0.7755 - val_loss: 0.2627 - val_accuracy: 0.9649\n",
            "\n",
            "Epoch 00068: saving model to model/keypoint_classifier/keypoint_classifier.hdf5\n",
            "Epoch 69/1000\n",
            "29/29 [==============================] - 0s 4ms/step - loss: 0.5433 - accuracy: 0.7961 - val_loss: 0.2506 - val_accuracy: 0.9691\n",
            "\n",
            "Epoch 00069: saving model to model/keypoint_classifier/keypoint_classifier.hdf5\n",
            "Epoch 70/1000\n",
            "29/29 [==============================] - 0s 3ms/step - loss: 0.5277 - accuracy: 0.7969 - val_loss: 0.2515 - val_accuracy: 0.9674\n",
            "\n",
            "Epoch 00070: saving model to model/keypoint_classifier/keypoint_classifier.hdf5\n",
            "Epoch 71/1000\n",
            "29/29 [==============================] - 0s 3ms/step - loss: 0.5326 - accuracy: 0.7916 - val_loss: 0.2523 - val_accuracy: 0.9657\n",
            "\n",
            "Epoch 00071: saving model to model/keypoint_classifier/keypoint_classifier.hdf5\n",
            "Epoch 72/1000\n",
            "29/29 [==============================] - 0s 3ms/step - loss: 0.5366 - accuracy: 0.7858 - val_loss: 0.2503 - val_accuracy: 0.9632\n",
            "\n",
            "Epoch 00072: saving model to model/keypoint_classifier/keypoint_classifier.hdf5\n",
            "Epoch 73/1000\n",
            "29/29 [==============================] - 0s 3ms/step - loss: 0.5365 - accuracy: 0.7923 - val_loss: 0.2454 - val_accuracy: 0.9674\n",
            "\n",
            "Epoch 00073: saving model to model/keypoint_classifier/keypoint_classifier.hdf5\n",
            "Epoch 74/1000\n",
            "29/29 [==============================] - 0s 4ms/step - loss: 0.5308 - accuracy: 0.7907 - val_loss: 0.2477 - val_accuracy: 0.9666\n",
            "\n",
            "Epoch 00074: saving model to model/keypoint_classifier/keypoint_classifier.hdf5\n",
            "Epoch 75/1000\n",
            "29/29 [==============================] - 0s 3ms/step - loss: 0.5484 - accuracy: 0.7893 - val_loss: 0.2423 - val_accuracy: 0.9666\n",
            "\n",
            "Epoch 00075: saving model to model/keypoint_classifier/keypoint_classifier.hdf5\n",
            "Epoch 76/1000\n",
            "29/29 [==============================] - 0s 3ms/step - loss: 0.5486 - accuracy: 0.7919 - val_loss: 0.2460 - val_accuracy: 0.9657\n",
            "\n",
            "Epoch 00076: saving model to model/keypoint_classifier/keypoint_classifier.hdf5\n",
            "Epoch 77/1000\n",
            "29/29 [==============================] - 0s 3ms/step - loss: 0.5641 - accuracy: 0.7737 - val_loss: 0.2504 - val_accuracy: 0.9674\n",
            "\n",
            "Epoch 00077: saving model to model/keypoint_classifier/keypoint_classifier.hdf5\n",
            "Epoch 78/1000\n",
            "29/29 [==============================] - 0s 4ms/step - loss: 0.5293 - accuracy: 0.7988 - val_loss: 0.2358 - val_accuracy: 0.9691\n",
            "\n",
            "Epoch 00078: saving model to model/keypoint_classifier/keypoint_classifier.hdf5\n",
            "Epoch 79/1000\n",
            "29/29 [==============================] - 0s 3ms/step - loss: 0.5279 - accuracy: 0.8004 - val_loss: 0.2314 - val_accuracy: 0.9699\n",
            "\n",
            "Epoch 00079: saving model to model/keypoint_classifier/keypoint_classifier.hdf5\n",
            "Epoch 80/1000\n",
            "29/29 [==============================] - 0s 4ms/step - loss: 0.5228 - accuracy: 0.7923 - val_loss: 0.2357 - val_accuracy: 0.9708\n",
            "\n",
            "Epoch 00080: saving model to model/keypoint_classifier/keypoint_classifier.hdf5\n",
            "Epoch 81/1000\n",
            "29/29 [==============================] - 0s 3ms/step - loss: 0.5105 - accuracy: 0.8039 - val_loss: 0.2433 - val_accuracy: 0.9699\n",
            "\n",
            "Epoch 00081: saving model to model/keypoint_classifier/keypoint_classifier.hdf5\n",
            "Epoch 82/1000\n",
            "29/29 [==============================] - 0s 4ms/step - loss: 0.5105 - accuracy: 0.7994 - val_loss: 0.2415 - val_accuracy: 0.9699\n",
            "\n",
            "Epoch 00082: saving model to model/keypoint_classifier/keypoint_classifier.hdf5\n",
            "Epoch 83/1000\n",
            "29/29 [==============================] - 0s 3ms/step - loss: 0.5323 - accuracy: 0.7907 - val_loss: 0.2395 - val_accuracy: 0.9674\n",
            "\n",
            "Epoch 00083: saving model to model/keypoint_classifier/keypoint_classifier.hdf5\n",
            "Epoch 84/1000\n",
            "29/29 [==============================] - 0s 3ms/step - loss: 0.5423 - accuracy: 0.7904 - val_loss: 0.2396 - val_accuracy: 0.9691\n",
            "\n",
            "Epoch 00084: saving model to model/keypoint_classifier/keypoint_classifier.hdf5\n",
            "Epoch 85/1000\n",
            "29/29 [==============================] - 0s 4ms/step - loss: 0.5419 - accuracy: 0.7913 - val_loss: 0.2335 - val_accuracy: 0.9683\n",
            "\n",
            "Epoch 00085: saving model to model/keypoint_classifier/keypoint_classifier.hdf5\n",
            "Epoch 86/1000\n",
            "29/29 [==============================] - 0s 3ms/step - loss: 0.5259 - accuracy: 0.8041 - val_loss: 0.2351 - val_accuracy: 0.9666\n",
            "\n",
            "Epoch 00086: saving model to model/keypoint_classifier/keypoint_classifier.hdf5\n",
            "Epoch 87/1000\n",
            "29/29 [==============================] - 0s 3ms/step - loss: 0.5282 - accuracy: 0.7899 - val_loss: 0.2285 - val_accuracy: 0.9708\n",
            "\n",
            "Epoch 00087: saving model to model/keypoint_classifier/keypoint_classifier.hdf5\n",
            "Epoch 88/1000\n",
            "29/29 [==============================] - 0s 3ms/step - loss: 0.5117 - accuracy: 0.7977 - val_loss: 0.2334 - val_accuracy: 0.9699\n",
            "\n",
            "Epoch 00088: saving model to model/keypoint_classifier/keypoint_classifier.hdf5\n",
            "Epoch 89/1000\n",
            "29/29 [==============================] - 0s 3ms/step - loss: 0.5065 - accuracy: 0.8034 - val_loss: 0.2389 - val_accuracy: 0.9657\n",
            "\n",
            "Epoch 00089: saving model to model/keypoint_classifier/keypoint_classifier.hdf5\n",
            "Epoch 90/1000\n",
            "29/29 [==============================] - 0s 4ms/step - loss: 0.5209 - accuracy: 0.7974 - val_loss: 0.2391 - val_accuracy: 0.9632\n",
            "\n",
            "Epoch 00090: saving model to model/keypoint_classifier/keypoint_classifier.hdf5\n",
            "Epoch 91/1000\n",
            "29/29 [==============================] - 0s 3ms/step - loss: 0.5023 - accuracy: 0.8022 - val_loss: 0.2242 - val_accuracy: 0.9699\n",
            "\n",
            "Epoch 00091: saving model to model/keypoint_classifier/keypoint_classifier.hdf5\n",
            "Epoch 92/1000\n",
            "29/29 [==============================] - 0s 4ms/step - loss: 0.5345 - accuracy: 0.7989 - val_loss: 0.2257 - val_accuracy: 0.9699\n",
            "\n",
            "Epoch 00092: saving model to model/keypoint_classifier/keypoint_classifier.hdf5\n",
            "Epoch 93/1000\n",
            "29/29 [==============================] - 0s 4ms/step - loss: 0.5404 - accuracy: 0.7961 - val_loss: 0.2314 - val_accuracy: 0.9699\n",
            "\n",
            "Epoch 00093: saving model to model/keypoint_classifier/keypoint_classifier.hdf5\n",
            "Epoch 94/1000\n",
            "29/29 [==============================] - 0s 4ms/step - loss: 0.5065 - accuracy: 0.8004 - val_loss: 0.2324 - val_accuracy: 0.9691\n",
            "\n",
            "Epoch 00094: saving model to model/keypoint_classifier/keypoint_classifier.hdf5\n",
            "Epoch 95/1000\n",
            "29/29 [==============================] - 0s 4ms/step - loss: 0.5292 - accuracy: 0.8023 - val_loss: 0.2263 - val_accuracy: 0.9733\n",
            "\n",
            "Epoch 00095: saving model to model/keypoint_classifier/keypoint_classifier.hdf5\n",
            "Epoch 96/1000\n",
            "29/29 [==============================] - 0s 4ms/step - loss: 0.5031 - accuracy: 0.8069 - val_loss: 0.2243 - val_accuracy: 0.9724\n",
            "\n",
            "Epoch 00096: saving model to model/keypoint_classifier/keypoint_classifier.hdf5\n",
            "Epoch 97/1000\n",
            "29/29 [==============================] - 0s 4ms/step - loss: 0.4866 - accuracy: 0.8238 - val_loss: 0.2188 - val_accuracy: 0.9691\n",
            "\n",
            "Epoch 00097: saving model to model/keypoint_classifier/keypoint_classifier.hdf5\n",
            "Epoch 98/1000\n",
            "29/29 [==============================] - 0s 4ms/step - loss: 0.5235 - accuracy: 0.8082 - val_loss: 0.2216 - val_accuracy: 0.9741\n",
            "\n",
            "Epoch 00098: saving model to model/keypoint_classifier/keypoint_classifier.hdf5\n",
            "Epoch 99/1000\n",
            "29/29 [==============================] - 0s 4ms/step - loss: 0.5103 - accuracy: 0.8040 - val_loss: 0.2309 - val_accuracy: 0.9699\n",
            "\n",
            "Epoch 00099: saving model to model/keypoint_classifier/keypoint_classifier.hdf5\n",
            "Epoch 100/1000\n",
            "29/29 [==============================] - 0s 4ms/step - loss: 0.4986 - accuracy: 0.8049 - val_loss: 0.2237 - val_accuracy: 0.9733\n",
            "\n",
            "Epoch 00100: saving model to model/keypoint_classifier/keypoint_classifier.hdf5\n",
            "Epoch 101/1000\n",
            "29/29 [==============================] - 0s 4ms/step - loss: 0.4859 - accuracy: 0.8137 - val_loss: 0.2149 - val_accuracy: 0.9724\n",
            "\n",
            "Epoch 00101: saving model to model/keypoint_classifier/keypoint_classifier.hdf5\n",
            "Epoch 102/1000\n",
            "29/29 [==============================] - 0s 3ms/step - loss: 0.5011 - accuracy: 0.8068 - val_loss: 0.2196 - val_accuracy: 0.9724\n",
            "\n",
            "Epoch 00102: saving model to model/keypoint_classifier/keypoint_classifier.hdf5\n",
            "Epoch 103/1000\n",
            "29/29 [==============================] - 0s 3ms/step - loss: 0.4784 - accuracy: 0.8216 - val_loss: 0.2194 - val_accuracy: 0.9733\n",
            "\n",
            "Epoch 00103: saving model to model/keypoint_classifier/keypoint_classifier.hdf5\n",
            "Epoch 104/1000\n",
            "29/29 [==============================] - 0s 3ms/step - loss: 0.4757 - accuracy: 0.8298 - val_loss: 0.2195 - val_accuracy: 0.9749\n",
            "\n",
            "Epoch 00104: saving model to model/keypoint_classifier/keypoint_classifier.hdf5\n",
            "Epoch 105/1000\n",
            "29/29 [==============================] - 0s 6ms/step - loss: 0.5101 - accuracy: 0.7992 - val_loss: 0.2342 - val_accuracy: 0.9632\n",
            "\n",
            "Epoch 00105: saving model to model/keypoint_classifier/keypoint_classifier.hdf5\n",
            "Epoch 106/1000\n",
            "29/29 [==============================] - 0s 3ms/step - loss: 0.4907 - accuracy: 0.8168 - val_loss: 0.2276 - val_accuracy: 0.9641\n",
            "\n",
            "Epoch 00106: saving model to model/keypoint_classifier/keypoint_classifier.hdf5\n",
            "Epoch 107/1000\n",
            "29/29 [==============================] - 0s 3ms/step - loss: 0.5035 - accuracy: 0.8050 - val_loss: 0.2187 - val_accuracy: 0.9691\n",
            "\n",
            "Epoch 00107: saving model to model/keypoint_classifier/keypoint_classifier.hdf5\n",
            "Epoch 108/1000\n",
            "29/29 [==============================] - 0s 4ms/step - loss: 0.5085 - accuracy: 0.7979 - val_loss: 0.2091 - val_accuracy: 0.9724\n",
            "\n",
            "Epoch 00108: saving model to model/keypoint_classifier/keypoint_classifier.hdf5\n",
            "Epoch 109/1000\n",
            "29/29 [==============================] - 0s 3ms/step - loss: 0.4948 - accuracy: 0.8134 - val_loss: 0.2169 - val_accuracy: 0.9699\n",
            "\n",
            "Epoch 00109: saving model to model/keypoint_classifier/keypoint_classifier.hdf5\n",
            "Epoch 110/1000\n",
            "29/29 [==============================] - 0s 3ms/step - loss: 0.4943 - accuracy: 0.8085 - val_loss: 0.2115 - val_accuracy: 0.9657\n",
            "\n",
            "Epoch 00110: saving model to model/keypoint_classifier/keypoint_classifier.hdf5\n",
            "Epoch 111/1000\n",
            "29/29 [==============================] - 0s 3ms/step - loss: 0.5165 - accuracy: 0.8106 - val_loss: 0.2226 - val_accuracy: 0.9657\n",
            "\n",
            "Epoch 00111: saving model to model/keypoint_classifier/keypoint_classifier.hdf5\n",
            "Epoch 112/1000\n",
            "29/29 [==============================] - 0s 4ms/step - loss: 0.4962 - accuracy: 0.8136 - val_loss: 0.2235 - val_accuracy: 0.9666\n",
            "\n",
            "Epoch 00112: saving model to model/keypoint_classifier/keypoint_classifier.hdf5\n",
            "Epoch 113/1000\n",
            "29/29 [==============================] - 0s 3ms/step - loss: 0.5203 - accuracy: 0.8059 - val_loss: 0.2215 - val_accuracy: 0.9691\n",
            "\n",
            "Epoch 00113: saving model to model/keypoint_classifier/keypoint_classifier.hdf5\n",
            "Epoch 114/1000\n",
            "29/29 [==============================] - 0s 4ms/step - loss: 0.5095 - accuracy: 0.8011 - val_loss: 0.2207 - val_accuracy: 0.9724\n",
            "\n",
            "Epoch 00114: saving model to model/keypoint_classifier/keypoint_classifier.hdf5\n",
            "Epoch 115/1000\n",
            "29/29 [==============================] - 0s 3ms/step - loss: 0.4947 - accuracy: 0.8178 - val_loss: 0.2101 - val_accuracy: 0.9683\n",
            "\n",
            "Epoch 00115: saving model to model/keypoint_classifier/keypoint_classifier.hdf5\n",
            "Epoch 116/1000\n",
            "29/29 [==============================] - 0s 3ms/step - loss: 0.5079 - accuracy: 0.8116 - val_loss: 0.2172 - val_accuracy: 0.9699\n",
            "\n",
            "Epoch 00116: saving model to model/keypoint_classifier/keypoint_classifier.hdf5\n",
            "Epoch 117/1000\n",
            "29/29 [==============================] - 0s 4ms/step - loss: 0.5056 - accuracy: 0.8056 - val_loss: 0.2236 - val_accuracy: 0.9691\n",
            "\n",
            "Epoch 00117: saving model to model/keypoint_classifier/keypoint_classifier.hdf5\n",
            "Epoch 118/1000\n",
            "29/29 [==============================] - 0s 4ms/step - loss: 0.5451 - accuracy: 0.7969 - val_loss: 0.2210 - val_accuracy: 0.9649\n",
            "\n",
            "Epoch 00118: saving model to model/keypoint_classifier/keypoint_classifier.hdf5\n",
            "Epoch 119/1000\n",
            "29/29 [==============================] - 0s 4ms/step - loss: 0.5005 - accuracy: 0.8192 - val_loss: 0.2220 - val_accuracy: 0.9733\n",
            "\n",
            "Epoch 00119: saving model to model/keypoint_classifier/keypoint_classifier.hdf5\n",
            "Epoch 120/1000\n",
            "29/29 [==============================] - 0s 4ms/step - loss: 0.5130 - accuracy: 0.8043 - val_loss: 0.2170 - val_accuracy: 0.9716\n",
            "\n",
            "Epoch 00120: saving model to model/keypoint_classifier/keypoint_classifier.hdf5\n",
            "Epoch 121/1000\n",
            "29/29 [==============================] - 0s 4ms/step - loss: 0.4874 - accuracy: 0.8132 - val_loss: 0.2177 - val_accuracy: 0.9724\n",
            "\n",
            "Epoch 00121: saving model to model/keypoint_classifier/keypoint_classifier.hdf5\n",
            "Epoch 122/1000\n",
            "29/29 [==============================] - 0s 4ms/step - loss: 0.4863 - accuracy: 0.8106 - val_loss: 0.2247 - val_accuracy: 0.9716\n",
            "\n",
            "Epoch 00122: saving model to model/keypoint_classifier/keypoint_classifier.hdf5\n",
            "Epoch 123/1000\n",
            "29/29 [==============================] - 0s 4ms/step - loss: 0.4867 - accuracy: 0.8101 - val_loss: 0.2138 - val_accuracy: 0.9699\n",
            "\n",
            "Epoch 00123: saving model to model/keypoint_classifier/keypoint_classifier.hdf5\n",
            "Epoch 124/1000\n",
            "29/29 [==============================] - 0s 4ms/step - loss: 0.4550 - accuracy: 0.8279 - val_loss: 0.2110 - val_accuracy: 0.9724\n",
            "\n",
            "Epoch 00124: saving model to model/keypoint_classifier/keypoint_classifier.hdf5\n",
            "Epoch 125/1000\n",
            "29/29 [==============================] - 0s 4ms/step - loss: 0.4908 - accuracy: 0.8152 - val_loss: 0.2088 - val_accuracy: 0.9716\n",
            "\n",
            "Epoch 00125: saving model to model/keypoint_classifier/keypoint_classifier.hdf5\n",
            "Epoch 126/1000\n",
            "29/29 [==============================] - 0s 3ms/step - loss: 0.5095 - accuracy: 0.8085 - val_loss: 0.2052 - val_accuracy: 0.9749\n",
            "\n",
            "Epoch 00126: saving model to model/keypoint_classifier/keypoint_classifier.hdf5\n",
            "Epoch 127/1000\n",
            "29/29 [==============================] - 0s 3ms/step - loss: 0.4814 - accuracy: 0.8096 - val_loss: 0.2055 - val_accuracy: 0.9733\n",
            "\n",
            "Epoch 00127: saving model to model/keypoint_classifier/keypoint_classifier.hdf5\n",
            "Epoch 128/1000\n",
            "29/29 [==============================] - 0s 3ms/step - loss: 0.4960 - accuracy: 0.8126 - val_loss: 0.2153 - val_accuracy: 0.9699\n",
            "\n",
            "Epoch 00128: saving model to model/keypoint_classifier/keypoint_classifier.hdf5\n",
            "Epoch 129/1000\n",
            "29/29 [==============================] - 0s 3ms/step - loss: 0.4922 - accuracy: 0.8236 - val_loss: 0.2169 - val_accuracy: 0.9699\n",
            "\n",
            "Epoch 00129: saving model to model/keypoint_classifier/keypoint_classifier.hdf5\n",
            "Epoch 130/1000\n",
            "29/29 [==============================] - 0s 4ms/step - loss: 0.4516 - accuracy: 0.8311 - val_loss: 0.2098 - val_accuracy: 0.9666\n",
            "\n",
            "Epoch 00130: saving model to model/keypoint_classifier/keypoint_classifier.hdf5\n",
            "Epoch 131/1000\n",
            "29/29 [==============================] - 0s 3ms/step - loss: 0.4596 - accuracy: 0.8147 - val_loss: 0.2010 - val_accuracy: 0.9758\n",
            "\n",
            "Epoch 00131: saving model to model/keypoint_classifier/keypoint_classifier.hdf5\n",
            "Epoch 132/1000\n",
            "29/29 [==============================] - 0s 4ms/step - loss: 0.4641 - accuracy: 0.8284 - val_loss: 0.1976 - val_accuracy: 0.9733\n",
            "\n",
            "Epoch 00132: saving model to model/keypoint_classifier/keypoint_classifier.hdf5\n",
            "Epoch 133/1000\n",
            "29/29 [==============================] - 0s 4ms/step - loss: 0.4831 - accuracy: 0.8071 - val_loss: 0.2037 - val_accuracy: 0.9766\n",
            "\n",
            "Epoch 00133: saving model to model/keypoint_classifier/keypoint_classifier.hdf5\n",
            "Epoch 134/1000\n",
            "29/29 [==============================] - 0s 3ms/step - loss: 0.4643 - accuracy: 0.8149 - val_loss: 0.2157 - val_accuracy: 0.9699\n",
            "\n",
            "Epoch 00134: saving model to model/keypoint_classifier/keypoint_classifier.hdf5\n",
            "Epoch 135/1000\n",
            "29/29 [==============================] - 0s 3ms/step - loss: 0.4682 - accuracy: 0.8230 - val_loss: 0.2119 - val_accuracy: 0.9699\n",
            "\n",
            "Epoch 00135: saving model to model/keypoint_classifier/keypoint_classifier.hdf5\n",
            "Epoch 136/1000\n",
            "29/29 [==============================] - 0s 4ms/step - loss: 0.4986 - accuracy: 0.8085 - val_loss: 0.2093 - val_accuracy: 0.9724\n",
            "\n",
            "Epoch 00136: saving model to model/keypoint_classifier/keypoint_classifier.hdf5\n",
            "Epoch 137/1000\n",
            "29/29 [==============================] - 0s 3ms/step - loss: 0.4729 - accuracy: 0.8226 - val_loss: 0.1992 - val_accuracy: 0.9741\n",
            "\n",
            "Epoch 00137: saving model to model/keypoint_classifier/keypoint_classifier.hdf5\n",
            "Epoch 138/1000\n",
            "29/29 [==============================] - 0s 3ms/step - loss: 0.5082 - accuracy: 0.8100 - val_loss: 0.2034 - val_accuracy: 0.9724\n",
            "\n",
            "Epoch 00138: saving model to model/keypoint_classifier/keypoint_classifier.hdf5\n",
            "Epoch 139/1000\n",
            "29/29 [==============================] - 0s 4ms/step - loss: 0.4770 - accuracy: 0.8159 - val_loss: 0.2011 - val_accuracy: 0.9691\n",
            "\n",
            "Epoch 00139: saving model to model/keypoint_classifier/keypoint_classifier.hdf5\n",
            "Epoch 140/1000\n",
            "29/29 [==============================] - 0s 3ms/step - loss: 0.4842 - accuracy: 0.8167 - val_loss: 0.2040 - val_accuracy: 0.9733\n",
            "\n",
            "Epoch 00140: saving model to model/keypoint_classifier/keypoint_classifier.hdf5\n",
            "Epoch 141/1000\n",
            "29/29 [==============================] - 0s 4ms/step - loss: 0.4895 - accuracy: 0.8208 - val_loss: 0.2113 - val_accuracy: 0.9657\n",
            "\n",
            "Epoch 00141: saving model to model/keypoint_classifier/keypoint_classifier.hdf5\n",
            "Epoch 142/1000\n",
            "29/29 [==============================] - 0s 3ms/step - loss: 0.4821 - accuracy: 0.8175 - val_loss: 0.2193 - val_accuracy: 0.9649\n",
            "\n",
            "Epoch 00142: saving model to model/keypoint_classifier/keypoint_classifier.hdf5\n",
            "Epoch 143/1000\n",
            "29/29 [==============================] - 0s 3ms/step - loss: 0.4909 - accuracy: 0.8237 - val_loss: 0.2194 - val_accuracy: 0.9607\n",
            "\n",
            "Epoch 00143: saving model to model/keypoint_classifier/keypoint_classifier.hdf5\n",
            "Epoch 144/1000\n",
            "29/29 [==============================] - 0s 3ms/step - loss: 0.4814 - accuracy: 0.8163 - val_loss: 0.2222 - val_accuracy: 0.9591\n",
            "\n",
            "Epoch 00144: saving model to model/keypoint_classifier/keypoint_classifier.hdf5\n",
            "Epoch 145/1000\n",
            "29/29 [==============================] - 0s 3ms/step - loss: 0.4776 - accuracy: 0.8226 - val_loss: 0.2159 - val_accuracy: 0.9657\n",
            "\n",
            "Epoch 00145: saving model to model/keypoint_classifier/keypoint_classifier.hdf5\n",
            "Epoch 146/1000\n",
            "29/29 [==============================] - 0s 3ms/step - loss: 0.4810 - accuracy: 0.8290 - val_loss: 0.2111 - val_accuracy: 0.9632\n",
            "\n",
            "Epoch 00146: saving model to model/keypoint_classifier/keypoint_classifier.hdf5\n",
            "Epoch 147/1000\n",
            "29/29 [==============================] - 0s 3ms/step - loss: 0.4892 - accuracy: 0.8163 - val_loss: 0.2065 - val_accuracy: 0.9666\n",
            "\n",
            "Epoch 00147: saving model to model/keypoint_classifier/keypoint_classifier.hdf5\n",
            "Epoch 148/1000\n",
            "29/29 [==============================] - 0s 3ms/step - loss: 0.4642 - accuracy: 0.8298 - val_loss: 0.2058 - val_accuracy: 0.9716\n",
            "\n",
            "Epoch 00148: saving model to model/keypoint_classifier/keypoint_classifier.hdf5\n",
            "Epoch 149/1000\n",
            "29/29 [==============================] - 0s 7ms/step - loss: 0.4666 - accuracy: 0.8255 - val_loss: 0.2084 - val_accuracy: 0.9733\n",
            "\n",
            "Epoch 00149: saving model to model/keypoint_classifier/keypoint_classifier.hdf5\n",
            "Epoch 150/1000\n",
            "29/29 [==============================] - 0s 3ms/step - loss: 0.4687 - accuracy: 0.8264 - val_loss: 0.1983 - val_accuracy: 0.9749\n",
            "\n",
            "Epoch 00150: saving model to model/keypoint_classifier/keypoint_classifier.hdf5\n",
            "Epoch 151/1000\n",
            "29/29 [==============================] - 0s 4ms/step - loss: 0.4801 - accuracy: 0.8201 - val_loss: 0.2018 - val_accuracy: 0.9724\n",
            "\n",
            "Epoch 00151: saving model to model/keypoint_classifier/keypoint_classifier.hdf5\n",
            "Epoch 152/1000\n",
            "29/29 [==============================] - 0s 3ms/step - loss: 0.4387 - accuracy: 0.8379 - val_loss: 0.2064 - val_accuracy: 0.9724\n",
            "\n",
            "Epoch 00152: saving model to model/keypoint_classifier/keypoint_classifier.hdf5\n",
            "Epoch 00152: early stopping\n"
          ],
          "name": "stdout"
        },
        {
          "output_type": "execute_result",
          "data": {
            "text/plain": [
              "<tensorflow.python.keras.callbacks.History at 0x7f92ce96a240>"
            ]
          },
          "metadata": {
            "tags": []
          },
          "execution_count": 11
        }
=======
>>>>>>> 55a182f (improved model accuracy)
      ]
    },
    {
      "cell_type": "code",
<<<<<<< HEAD
      "metadata": {
        "id": "pxvb2Y299hE3",
        "colab": {
          "base_uri": "https://localhost:8080/"
        },
        "outputId": "59eb3185-2e37-4b9e-bc9d-ab1b8ac29b7f"
      },
      "source": [
        "# Model evaluation\n",
        "val_loss, val_acc = model.evaluate(X_test, y_test, batch_size=128)"
      ],
      "execution_count": null,
      "outputs": [
        {
          "output_type": "stream",
          "text": [
            "10/10 [==============================] - 0s 2ms/step - loss: 0.2064 - accuracy: 0.9724\n"
          ],
          "name": "stdout"
        }
=======
      "execution_count": 100,
      "metadata": {
        "colab": {
          "base_uri": "https://localhost:8080/"
        },
        "id": "pxvb2Y299hE3",
        "outputId": "59eb3185-2e37-4b9e-bc9d-ab1b8ac29b7f"
      },
      "outputs": [
        {
          "name": "stdout",
          "output_type": "stream",
          "text": [
            "1/1 [==============================] - 0s 25ms/step - loss: 0.6235 - accuracy: 0.8750\n"
          ]
        }
      ],
      "source": [
        "# Model evaluation\n",
        "val_loss, val_acc = model.evaluate(X_test, y_test, batch_size=128)"
>>>>>>> 55a182f (improved model accuracy)
      ]
    },
    {
      "cell_type": "code",
<<<<<<< HEAD
      "metadata": {
        "id": "RBkmDeUW9hE4"
      },
      "source": [
        "# Loading the saved model\n",
        "model = tf.keras.models.load_model(model_save_path)"
      ],
      "execution_count": null,
      "outputs": []
    },
    {
      "cell_type": "code",
      "metadata": {
        "id": "tFz9Tb0I9hE4",
        "colab": {
          "base_uri": "https://localhost:8080/"
        },
        "outputId": "1c3b3528-54ae-4ee2-ab04-77429211cbef"
      },
=======
      "execution_count": 101,
      "metadata": {
        "id": "RBkmDeUW9hE4"
      },
      "outputs": [],
      "source": [
        "# Loading the saved model\n",
        "model = tf.keras.models.load_model(model_save_path)"
      ]
    },
    {
      "cell_type": "code",
      "execution_count": 102,
      "metadata": {
        "colab": {
          "base_uri": "https://localhost:8080/"
        },
        "id": "tFz9Tb0I9hE4",
        "outputId": "1c3b3528-54ae-4ee2-ab04-77429211cbef"
      },
      "outputs": [
        {
          "name": "stdout",
          "output_type": "stream",
          "text": [
            "WARNING:tensorflow:5 out of the last 49 calls to <function Model.make_predict_function.<locals>.predict_function at 0x2c4a484c0> triggered tf.function retracing. Tracing is expensive and the excessive number of tracings could be due to (1) creating @tf.function repeatedly in a loop, (2) passing tensors with different shapes, (3) passing Python objects instead of tensors. For (1), please define your @tf.function outside of the loop. For (2), @tf.function has reduce_retracing=True option that can avoid unnecessary retracing. For (3), please refer to https://www.tensorflow.org/guide/function#controlling_retracing and https://www.tensorflow.org/api_docs/python/tf/function for  more details.\n"
          ]
        },
        {
          "name": "stderr",
          "output_type": "stream",
          "text": [
            "2024-01-31 19:53:49.380262: I tensorflow/core/grappler/optimizers/custom_graph_optimizer_registry.cc:114] Plugin optimizer for device_type GPU is enabled.\n",
            "WARNING:tensorflow:5 out of the last 49 calls to <function Model.make_predict_function.<locals>.predict_function at 0x2c4a484c0> triggered tf.function retracing. Tracing is expensive and the excessive number of tracings could be due to (1) creating @tf.function repeatedly in a loop, (2) passing tensors with different shapes, (3) passing Python objects instead of tensors. For (1), please define your @tf.function outside of the loop. For (2), @tf.function has reduce_retracing=True option that can avoid unnecessary retracing. For (3), please refer to https://www.tensorflow.org/guide/function#controlling_retracing and https://www.tensorflow.org/api_docs/python/tf/function for  more details.\n"
          ]
        },
        {
          "name": "stdout",
          "output_type": "stream",
          "text": [
            "1/1 [==============================] - 0s 107ms/step\n",
            "[0.03111561 0.2888154  0.6762133  0.00385564]\n",
            "2\n"
          ]
        }
      ],
>>>>>>> 55a182f (improved model accuracy)
      "source": [
        "# Inference test\n",
        "predict_result = model.predict(np.array([X_test[0]]))\n",
        "print(np.squeeze(predict_result))\n",
        "print(np.argmax(np.squeeze(predict_result)))"
<<<<<<< HEAD
      ],
      "execution_count": null,
      "outputs": [
        {
          "output_type": "stream",
          "text": [
            "[9.8105639e-01 1.8674158e-02 2.2328236e-04 4.6191799e-05]\n",
            "0\n"
          ],
          "name": "stdout"
        }
=======
>>>>>>> 55a182f (improved model accuracy)
      ]
    },
    {
      "cell_type": "markdown",
      "metadata": {
        "id": "S3U4yNWx9hE4"
      },
      "source": [
        "# Confusion matrix"
      ]
    },
    {
      "cell_type": "code",
<<<<<<< HEAD
      "metadata": {
        "id": "AP1V6SCk9hE5",
=======
      "execution_count": 103,
      "metadata": {
>>>>>>> 55a182f (improved model accuracy)
        "colab": {
          "base_uri": "https://localhost:8080/",
          "height": 582
        },
<<<<<<< HEAD
        "outputId": "08e41a80-7a4a-4619-8125-ecc371368d19"
      },
=======
        "id": "AP1V6SCk9hE5",
        "outputId": "08e41a80-7a4a-4619-8125-ecc371368d19"
      },
      "outputs": [
        {
          "name": "stdout",
          "output_type": "stream",
          "text": [
            "2/2 [==============================] - 0s 31ms/step\n"
          ]
        },
        {
          "data": {
            "image/png": "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",
            "text/plain": [
              "<Figure size 700x600 with 2 Axes>"
            ]
          },
          "metadata": {},
          "output_type": "display_data"
        },
        {
          "name": "stdout",
          "output_type": "stream",
          "text": [
            "Classification Report\n",
            "              precision    recall  f1-score   support\n",
            "\n",
            "           0       1.00      0.82      0.90        11\n",
            "           1       0.77      0.94      0.85        18\n",
            "           2       0.90      0.82      0.86        11\n",
            "           3       0.93      0.88      0.90        16\n",
            "\n",
            "    accuracy                           0.88        56\n",
            "   macro avg       0.90      0.86      0.88        56\n",
            "weighted avg       0.89      0.88      0.88        56\n",
            "\n"
          ]
        }
      ],
>>>>>>> 55a182f (improved model accuracy)
      "source": [
        "import pandas as pd\n",
        "import seaborn as sns\n",
        "import matplotlib.pyplot as plt\n",
        "from sklearn.metrics import confusion_matrix, classification_report\n",
        "\n",
        "def print_confusion_matrix(y_true, y_pred, report=True):\n",
        "    labels = sorted(list(set(y_true)))\n",
        "    cmx_data = confusion_matrix(y_true, y_pred, labels=labels)\n",
        "    \n",
        "    df_cmx = pd.DataFrame(cmx_data, index=labels, columns=labels)\n",
        " \n",
        "    fig, ax = plt.subplots(figsize=(7, 6))\n",
        "    sns.heatmap(df_cmx, annot=True, fmt='g' ,square=False)\n",
        "    ax.set_ylim(len(set(y_true)), 0)\n",
        "    plt.show()\n",
        "    \n",
        "    if report:\n",
        "        print('Classification Report')\n",
        "        print(classification_report(y_test, y_pred))\n",
        "\n",
        "Y_pred = model.predict(X_test)\n",
        "y_pred = np.argmax(Y_pred, axis=1)\n",
        "\n",
        "print_confusion_matrix(y_test, y_pred)"
<<<<<<< HEAD
      ],
      "execution_count": null,
      "outputs": [
        {
          "output_type": "display_data",
          "data": {
            "image/png": "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\n",
            "text/plain": [
              "<Figure size 504x432 with 2 Axes>"
            ]
          },
          "metadata": {
            "tags": [],
            "needs_background": "light"
          }
        },
        {
          "output_type": "stream",
          "text": [
            "Classification Report\n",
            "              precision    recall  f1-score   support\n",
            "\n",
            "           0       0.99      1.00      0.99       402\n",
            "           1       0.98      0.94      0.96       366\n",
            "           2       0.94      0.98      0.96       343\n",
            "           3       1.00      0.99      0.99        86\n",
            "\n",
            "    accuracy                           0.97      1197\n",
            "   macro avg       0.98      0.98      0.98      1197\n",
            "weighted avg       0.97      0.97      0.97      1197\n",
            "\n"
          ],
          "name": "stdout"
        }
=======
>>>>>>> 55a182f (improved model accuracy)
      ]
    },
    {
      "cell_type": "markdown",
      "metadata": {
        "id": "FNP6aqzc9hE5"
      },
      "source": [
        "# Convert to model for Tensorflow-Lite"
      ]
    },
    {
      "cell_type": "code",
<<<<<<< HEAD
      "metadata": {
        "id": "ODjnYyld9hE6"
      },
      "source": [
        "# Save as a model dedicated to inference\n",
        "model.save(model_save_path, include_optimizer=False)"
      ],
      "execution_count": null,
      "outputs": []
    },
    {
      "cell_type": "code",
      "metadata": {
        "id": "zRfuK8Y59hE6",
        "colab": {
          "base_uri": "https://localhost:8080/"
        },
        "outputId": "a4ca585c-b5d5-4244-8291-8674063209bb"
      },
=======
      "execution_count": 104,
      "metadata": {
        "id": "ODjnYyld9hE6"
      },
      "outputs": [
        {
          "name": "stderr",
          "output_type": "stream",
          "text": [
            "/Users/poulami/anaconda3/envs/tensorflow/lib/python3.8/site-packages/keras/src/engine/training.py:3000: UserWarning: You are saving your model as an HDF5 file via `model.save()`. This file format is considered legacy. We recommend using instead the native Keras format, e.g. `model.save('my_model.keras')`.\n",
            "  saving_api.save_model(\n"
          ]
        }
      ],
      "source": [
        "# Save as a model dedicated to inference\n",
        "model.save(model_save_path, include_optimizer=False)"
      ]
    },
    {
      "cell_type": "code",
      "execution_count": 105,
      "metadata": {
        "colab": {
          "base_uri": "https://localhost:8080/"
        },
        "id": "zRfuK8Y59hE6",
        "outputId": "a4ca585c-b5d5-4244-8291-8674063209bb"
      },
      "outputs": [
        {
          "name": "stdout",
          "output_type": "stream",
          "text": [
            "INFO:tensorflow:Assets written to: /var/folders/f2/ylzpwpyx155c0ynz38y6fzn00000gn/T/tmpy2ids4zu/assets\n"
          ]
        },
        {
          "name": "stderr",
          "output_type": "stream",
          "text": [
            "INFO:tensorflow:Assets written to: /var/folders/f2/ylzpwpyx155c0ynz38y6fzn00000gn/T/tmpy2ids4zu/assets\n",
            "2024-01-31 19:53:59.416539: W tensorflow/compiler/mlir/lite/python/tf_tfl_flatbuffer_helpers.cc:364] Ignored output_format.\n",
            "2024-01-31 19:53:59.416798: W tensorflow/compiler/mlir/lite/python/tf_tfl_flatbuffer_helpers.cc:367] Ignored drop_control_dependency.\n",
            "2024-01-31 19:53:59.417610: I tensorflow/cc/saved_model/reader.cc:45] Reading SavedModel from: /var/folders/f2/ylzpwpyx155c0ynz38y6fzn00000gn/T/tmpy2ids4zu\n",
            "2024-01-31 19:53:59.418728: I tensorflow/cc/saved_model/reader.cc:91] Reading meta graph with tags { serve }\n",
            "2024-01-31 19:53:59.418733: I tensorflow/cc/saved_model/reader.cc:132] Reading SavedModel debug info (if present) from: /var/folders/f2/ylzpwpyx155c0ynz38y6fzn00000gn/T/tmpy2ids4zu\n",
            "2024-01-31 19:53:59.424345: I tensorflow/cc/saved_model/loader.cc:231] Restoring SavedModel bundle.\n",
            "2024-01-31 19:53:59.472328: I tensorflow/cc/saved_model/loader.cc:215] Running initialization op on SavedModel bundle at path: /var/folders/f2/ylzpwpyx155c0ynz38y6fzn00000gn/T/tmpy2ids4zu\n",
            "2024-01-31 19:53:59.485072: I tensorflow/cc/saved_model/loader.cc:314] SavedModel load for tags { serve }; Status: success: OK. Took 67464 microseconds.\n"
          ]
        },
        {
          "data": {
            "text/plain": [
              "7296"
            ]
          },
          "execution_count": 105,
          "metadata": {},
          "output_type": "execute_result"
        }
      ],
>>>>>>> 55a182f (improved model accuracy)
      "source": [
        "# Transform model (quantization)\n",
        "\n",
        "converter = tf.lite.TFLiteConverter.from_keras_model(model)\n",
        "converter.optimizations = [tf.lite.Optimize.DEFAULT]\n",
        "tflite_quantized_model = converter.convert()\n",
        "\n",
        "open(tflite_save_path, 'wb').write(tflite_quantized_model)"
<<<<<<< HEAD
      ],
      "execution_count": null,
      "outputs": [
        {
          "output_type": "stream",
          "text": [
            "INFO:tensorflow:Assets written to: /tmp/tmpe5yx255p/assets\n"
          ],
          "name": "stdout"
        },
        {
          "output_type": "execute_result",
          "data": {
            "text/plain": [
              "6352"
            ]
          },
          "metadata": {
            "tags": []
          },
          "execution_count": 17
        }
=======
>>>>>>> 55a182f (improved model accuracy)
      ]
    },
    {
      "cell_type": "markdown",
      "metadata": {
        "id": "CHBPBXdx9hE6"
      },
      "source": [
        "# Inference test"
      ]
    },
    {
      "cell_type": "code",
<<<<<<< HEAD
      "metadata": {
        "id": "mGAzLocO9hE7"
      },
      "source": [
        "interpreter = tf.lite.Interpreter(model_path=tflite_save_path)\n",
        "interpreter.allocate_tensors()"
      ],
      "execution_count": null,
      "outputs": []
    },
    {
      "cell_type": "code",
      "metadata": {
        "id": "oQuDK8YS9hE7"
      },
=======
      "execution_count": 106,
      "metadata": {
        "id": "mGAzLocO9hE7"
      },
      "outputs": [],
      "source": [
        "interpreter = tf.lite.Interpreter(model_path=tflite_save_path)\n",
        "interpreter.allocate_tensors()"
      ]
    },
    {
      "cell_type": "code",
      "execution_count": 107,
      "metadata": {
        "id": "oQuDK8YS9hE7"
      },
      "outputs": [],
>>>>>>> 55a182f (improved model accuracy)
      "source": [
        "# Get I / O tensor\n",
        "input_details = interpreter.get_input_details()\n",
        "output_details = interpreter.get_output_details()"
<<<<<<< HEAD
      ],
      "execution_count": null,
      "outputs": []
    },
    {
      "cell_type": "code",
      "metadata": {
        "id": "2_ixAf_l9hE7"
      },
      "source": [
        "interpreter.set_tensor(input_details[0]['index'], np.array([X_test[0]]))"
      ],
      "execution_count": null,
      "outputs": []
    },
    {
      "cell_type": "code",
      "metadata": {
        "scrolled": true,
        "id": "s4FoAnuc9hE7",
        "colab": {
          "base_uri": "https://localhost:8080/"
        },
        "outputId": "91f18257-8d8b-4ef3-c558-e9b5f94fabbf"
      },
=======
      ]
    },
    {
      "cell_type": "code",
      "execution_count": 108,
      "metadata": {
        "id": "2_ixAf_l9hE7"
      },
      "outputs": [],
      "source": [
        "interpreter.set_tensor(input_details[0]['index'], np.array([X_test[0]]))"
      ]
    },
    {
      "cell_type": "code",
      "execution_count": 109,
      "metadata": {
        "colab": {
          "base_uri": "https://localhost:8080/"
        },
        "id": "s4FoAnuc9hE7",
        "outputId": "91f18257-8d8b-4ef3-c558-e9b5f94fabbf",
        "scrolled": true
      },
      "outputs": [
        {
          "name": "stdout",
          "output_type": "stream",
          "text": [
            "CPU times: user 811 µs, sys: 1.5 ms, total: 2.31 ms\n",
            "Wall time: 2.76 ms\n"
          ]
        }
      ],
>>>>>>> 55a182f (improved model accuracy)
      "source": [
        "%%time\n",
        "# Inference implementation\n",
        "interpreter.invoke()\n",
        "tflite_results = interpreter.get_tensor(output_details[0]['index'])"
<<<<<<< HEAD
      ],
      "execution_count": null,
      "outputs": [
        {
          "output_type": "stream",
          "text": [
            "CPU times: user 131 µs, sys: 17 µs, total: 148 µs\n",
            "Wall time: 679 µs\n"
          ],
          "name": "stdout"
        }
=======
>>>>>>> 55a182f (improved model accuracy)
      ]
    },
    {
      "cell_type": "code",
<<<<<<< HEAD
      "metadata": {
        "id": "vONjp19J9hE8",
        "colab": {
          "base_uri": "https://localhost:8080/"
        },
        "outputId": "77205e24-fd00-42c4-f7b6-e06e527c2cba"
      },
      "source": [
        "print(np.squeeze(tflite_results))\n",
        "print(np.argmax(np.squeeze(tflite_results)))"
      ],
      "execution_count": null,
      "outputs": [
        {
          "output_type": "stream",
          "text": [
            "[9.8105639e-01 1.8674169e-02 2.2328216e-04 4.6191799e-05]\n",
            "0\n"
          ],
          "name": "stdout"
        }
      ]
    }
  ]
}
=======
      "execution_count": 110,
      "metadata": {
        "colab": {
          "base_uri": "https://localhost:8080/"
        },
        "id": "vONjp19J9hE8",
        "outputId": "77205e24-fd00-42c4-f7b6-e06e527c2cba"
      },
      "outputs": [
        {
          "name": "stdout",
          "output_type": "stream",
          "text": [
            "[0.02705037 0.27571782 0.6877761  0.00945573]\n",
            "2\n"
          ]
        }
      ],
      "source": [
        "print(np.squeeze(tflite_results))\n",
        "print(np.argmax(np.squeeze(tflite_results)))"
      ]
    }
  ],
  "metadata": {
    "accelerator": "GPU",
    "colab": {
      "collapsed_sections": [],
      "name": "keypoint_classification_EN.ipynb",
      "provenance": [],
      "toc_visible": true
    },
    "kernelspec": {
      "display_name": "Python 3.8 (tensorflow)",
      "language": "python",
      "name": "tensorflow"
    },
    "language_info": {
      "codemirror_mode": {
        "name": "ipython",
        "version": 3
      },
      "file_extension": ".py",
      "mimetype": "text/x-python",
      "name": "python",
      "nbconvert_exporter": "python",
      "pygments_lexer": "ipython3",
      "version": "3.8.17"
    }
  },
  "nbformat": 4,
  "nbformat_minor": 0
}
>>>>>>> 55a182f (improved model accuracy)
