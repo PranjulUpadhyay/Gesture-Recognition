{
 "cells": [
  {
   "cell_type": "code",
   "execution_count": 1,
   "metadata": {
    "id": "igMyGnjE9hEp"
   },
   "outputs": [],
   "source": [
    "import csv\n",
    "\n",
    "import numpy as np\n",
    "import tensorflow as tf\n",
    "from sklearn.model_selection import train_test_split\n",
    "\n",
    "RANDOM_SEED = 42"
   ]
  },
  {
   "cell_type": "markdown",
   "metadata": {
    "id": "t2HDvhIu9hEr"
   },
   "source": [
    "# Specify each path"
   ]
  },
  {
   "cell_type": "code",
   "execution_count": 2,
   "metadata": {
    "id": "9NvZP2Zn9hEy"
   },
   "outputs": [],
   "source": [
    "dataset = 'model/keypoint_classifier/keypoint.csv'\n",
    "model_save_path = 'model/keypoint_classifier/keypoint_classifier.hdf5'\n",
    "tflite_save_path = 'model/keypoint_classifier/keypoint_classifier.tflite'"
   ]
  },
  {
   "cell_type": "markdown",
   "metadata": {
    "id": "s5oMH7x19hEz"
   },
   "source": [
    "# Set number of classes"
   ]
  },
  {
   "cell_type": "code",
   "execution_count": 3,
   "metadata": {
    "id": "du4kodXL9hEz"
   },
   "outputs": [],
   "source": [
    "NUM_CLASSES = 4"
   ]
  },
  {
   "cell_type": "markdown",
   "metadata": {
    "id": "XjnL0uso9hEz"
   },
   "source": [
    "# Dataset reading"
   ]
  },
  {
   "cell_type": "code",
   "execution_count": 4,
   "metadata": {
    "id": "QT5ZqtEz9hE0"
   },
   "outputs": [],
   "source": [
    "X_dataset = np.loadtxt(dataset, delimiter=',', dtype='float32', usecols=list(range(1, (21 * 2) + 1)))"
   ]
  },
  {
   "cell_type": "code",
   "execution_count": 5,
   "metadata": {
    "id": "QmoKFsp49hE0"
   },
   "outputs": [],
   "source": [
    "y_dataset = np.loadtxt(dataset, delimiter=',', dtype='int32', usecols=(0))"
   ]
  },
  {
   "cell_type": "code",
   "execution_count": 6,
   "metadata": {
    "id": "xQU7JTZ_9hE0"
   },
   "outputs": [],
   "source": [
    "X_train, X_test, y_train, y_test = train_test_split(X_dataset, y_dataset, train_size=0.75, random_state=RANDOM_SEED)"
   ]
  },
  {
   "cell_type": "markdown",
   "metadata": {
    "id": "mxK_lETT9hE0"
   },
   "source": [
    "# Model building"
   ]
  },
  {
   "cell_type": "code",
   "execution_count": 7,
   "metadata": {
    "id": "vHBmUf1t9hE1"
   },
   "outputs": [],
   "source": [
    "model = tf.keras.models.Sequential([\n",
    "    tf.keras.layers.Input((21 * 2, )),\n",
    "    tf.keras.layers.Dropout(0.2),\n",
    "    tf.keras.layers.Dense(20, activation='relu'),\n",
    "    tf.keras.layers.Dropout(0.4),\n",
    "    tf.keras.layers.Dense(10, activation='relu'),\n",
    "    tf.keras.layers.Dense(NUM_CLASSES, activation='softmax')\n",
    "])"
   ]
  },
  {
   "cell_type": "code",
   "execution_count": 8,
   "metadata": {
    "colab": {
     "base_uri": "https://localhost:8080/"
    },
    "id": "ypqky9tc9hE1",
    "outputId": "5db082bb-30e3-4110-bf63-a1ee777ecd46"
   },
   "outputs": [
    {
     "name": "stdout",
     "output_type": "stream",
     "text": [
      "Model: \"sequential\"\n",
      "_________________________________________________________________\n",
      " Layer (type)                Output Shape              Param #   \n",
      "=================================================================\n",
      " dropout (Dropout)           (None, 42)                0         \n",
      "                                                                 \n",
      " dense (Dense)               (None, 20)                860       \n",
      "                                                                 \n",
      " dropout_1 (Dropout)         (None, 20)                0         \n",
      "                                                                 \n",
      " dense_1 (Dense)             (None, 10)                210       \n",
      "                                                                 \n",
      " dense_2 (Dense)             (None, 4)                 44        \n",
      "                                                                 \n",
      "=================================================================\n",
      "Total params: 1,114\n",
      "Trainable params: 1,114\n",
      "Non-trainable params: 0\n",
      "_________________________________________________________________\n"
     ]
    }
   ],
   "source": [
    "model.summary()  # tf.keras.utils.plot_model(model, show_shapes=True)"
   ]
  },
  {
   "cell_type": "code",
   "execution_count": 9,
   "metadata": {
    "id": "MbMjOflQ9hE1"
   },
   "outputs": [],
   "source": [
    "# Model checkpoint callback\n",
    "cp_callback = tf.keras.callbacks.ModelCheckpoint(\n",
    "    model_save_path, verbose=1, save_weights_only=False)\n",
    "# Callback for early stopping\n",
    "es_callback = tf.keras.callbacks.EarlyStopping(patience=20, verbose=1)"
   ]
  },
  {
   "cell_type": "code",
   "execution_count": 10,
   "metadata": {
    "id": "c3Dac0M_9hE2"
   },
   "outputs": [],
   "source": [
    "# Model compilation\n",
    "model.compile(\n",
    "    optimizer='adam',\n",
    "    loss='sparse_categorical_crossentropy',\n",
    "    metrics=['accuracy']\n",
    ")"
   ]
  },
  {
   "cell_type": "markdown",
   "metadata": {
    "id": "7XI0j1Iu9hE2"
   },
   "source": [
    "# Model training"
   ]
  },
  {
   "cell_type": "code",
   "execution_count": 11,
   "metadata": {
    "colab": {
     "base_uri": "https://localhost:8080/"
    },
    "id": "WirBl-JE9hE3",
    "outputId": "71b30ca2-8294-4d9d-8aa2-800d90d399de",
    "scrolled": true
   },
   "outputs": [
    {
     "name": "stdout",
     "output_type": "stream",
     "text": [
      "Epoch 1/1000\n",
      " 1/28 [>.............................] - ETA: 6s - loss: 1.5650 - accuracy: 0.2578\n",
      "Epoch 1: saving model to model/keypoint_classifier\\keypoint_classifier.hdf5\n",
      "28/28 [==============================] - 0s 5ms/step - loss: 1.5324 - accuracy: 0.2831 - val_loss: 1.3715 - val_accuracy: 0.2646\n",
      "Epoch 2/1000\n",
      " 1/28 [>.............................] - ETA: 0s - loss: 1.4340 - accuracy: 0.2500\n",
      "Epoch 2: saving model to model/keypoint_classifier\\keypoint_classifier.hdf5\n",
      "28/28 [==============================] - 0s 2ms/step - loss: 1.3556 - accuracy: 0.3510 - val_loss: 1.2859 - val_accuracy: 0.4649\n",
      "Epoch 3/1000\n",
      " 1/28 [>.............................] - ETA: 0s - loss: 1.2875 - accuracy: 0.3984\n",
      "Epoch 3: saving model to model/keypoint_classifier\\keypoint_classifier.hdf5\n",
      "28/28 [==============================] - 0s 2ms/step - loss: 1.2605 - accuracy: 0.4094 - val_loss: 1.1746 - val_accuracy: 0.5351\n",
      "Epoch 4/1000\n",
      " 1/28 [>.............................] - ETA: 0s - loss: 1.2111 - accuracy: 0.4297\n",
      "Epoch 4: saving model to model/keypoint_classifier\\keypoint_classifier.hdf5\n",
      "28/28 [==============================] - 0s 2ms/step - loss: 1.1983 - accuracy: 0.4398 - val_loss: 1.0846 - val_accuracy: 0.6272\n",
      "Epoch 5/1000\n",
      " 1/28 [>.............................] - ETA: 0s - loss: 1.1759 - accuracy: 0.4531\n",
      "Epoch 5: saving model to model/keypoint_classifier\\keypoint_classifier.hdf5\n",
      "28/28 [==============================] - 0s 2ms/step - loss: 1.1320 - accuracy: 0.4810 - val_loss: 1.0163 - val_accuracy: 0.6543\n",
      "Epoch 6/1000\n",
      " 1/28 [>.............................] - ETA: 0s - loss: 1.1360 - accuracy: 0.5391\n",
      "Epoch 6: saving model to model/keypoint_classifier\\keypoint_classifier.hdf5\n",
      "28/28 [==============================] - 0s 2ms/step - loss: 1.0879 - accuracy: 0.4970 - val_loss: 0.9565 - val_accuracy: 0.6754\n",
      "Epoch 7/1000\n",
      " 1/28 [>.............................] - ETA: 0s - loss: 1.0761 - accuracy: 0.5078\n",
      "Epoch 7: saving model to model/keypoint_classifier\\keypoint_classifier.hdf5\n",
      "28/28 [==============================] - 0s 2ms/step - loss: 1.0568 - accuracy: 0.5266 - val_loss: 0.8935 - val_accuracy: 0.7236\n",
      "Epoch 8/1000\n",
      " 1/28 [>.............................] - ETA: 0s - loss: 0.9739 - accuracy: 0.6406\n",
      "Epoch 8: saving model to model/keypoint_classifier\\keypoint_classifier.hdf5\n",
      "28/28 [==============================] - 0s 2ms/step - loss: 1.0141 - accuracy: 0.5503 - val_loss: 0.8477 - val_accuracy: 0.7642\n",
      "Epoch 9/1000\n",
      " 1/28 [>.............................] - ETA: 0s - loss: 1.0131 - accuracy: 0.5469\n",
      "Epoch 9: saving model to model/keypoint_classifier\\keypoint_classifier.hdf5\n",
      "28/28 [==============================] - 0s 2ms/step - loss: 0.9821 - accuracy: 0.5686 - val_loss: 0.8075 - val_accuracy: 0.7768\n",
      "Epoch 10/1000\n",
      " 1/28 [>.............................] - ETA: 0s - loss: 0.7977 - accuracy: 0.6953\n",
      "Epoch 10: saving model to model/keypoint_classifier\\keypoint_classifier.hdf5\n",
      "28/28 [==============================] - 0s 2ms/step - loss: 0.9521 - accuracy: 0.5873 - val_loss: 0.7715 - val_accuracy: 0.7819\n",
      "Epoch 11/1000\n",
      " 1/28 [>.............................] - ETA: 0s - loss: 0.9364 - accuracy: 0.5703\n",
      "Epoch 11: saving model to model/keypoint_classifier\\keypoint_classifier.hdf5\n",
      "28/28 [==============================] - 0s 2ms/step - loss: 0.9326 - accuracy: 0.6042 - val_loss: 0.7415 - val_accuracy: 0.7828\n",
      "Epoch 12/1000\n",
      " 1/28 [>.............................] - ETA: 0s - loss: 0.8603 - accuracy: 0.6094\n",
      "Epoch 12: saving model to model/keypoint_classifier\\keypoint_classifier.hdf5\n",
      "28/28 [==============================] - 0s 2ms/step - loss: 0.9031 - accuracy: 0.6208 - val_loss: 0.7087 - val_accuracy: 0.7921\n",
      "Epoch 13/1000\n",
      " 1/28 [>.............................] - ETA: 0s - loss: 0.9099 - accuracy: 0.6250\n",
      "Epoch 13: saving model to model/keypoint_classifier\\keypoint_classifier.hdf5\n",
      "28/28 [==============================] - 0s 2ms/step - loss: 0.9030 - accuracy: 0.6160 - val_loss: 0.6840 - val_accuracy: 0.7921\n",
      "Epoch 14/1000\n",
      " 1/28 [>.............................] - ETA: 0s - loss: 0.9109 - accuracy: 0.5703\n",
      "Epoch 14: saving model to model/keypoint_classifier\\keypoint_classifier.hdf5\n",
      "28/28 [==============================] - 0s 2ms/step - loss: 0.8566 - accuracy: 0.6383 - val_loss: 0.6630 - val_accuracy: 0.7988\n",
      "Epoch 15/1000\n",
      " 1/28 [>.............................] - ETA: 0s - loss: 0.8122 - accuracy: 0.6250\n",
      "Epoch 15: saving model to model/keypoint_classifier\\keypoint_classifier.hdf5\n",
      "28/28 [==============================] - 0s 2ms/step - loss: 0.8582 - accuracy: 0.6445 - val_loss: 0.6443 - val_accuracy: 0.7963\n",
      "Epoch 16/1000\n",
      " 1/28 [>.............................] - ETA: 0s - loss: 0.7351 - accuracy: 0.7109\n",
      "Epoch 16: saving model to model/keypoint_classifier\\keypoint_classifier.hdf5\n",
      "28/28 [==============================] - 0s 2ms/step - loss: 0.8318 - accuracy: 0.6569 - val_loss: 0.6246 - val_accuracy: 0.8090\n",
      "Epoch 17/1000\n",
      " 1/28 [>.............................] - ETA: 0s - loss: 0.7618 - accuracy: 0.6953\n",
      "Epoch 17: saving model to model/keypoint_classifier\\keypoint_classifier.hdf5\n",
      "28/28 [==============================] - 0s 2ms/step - loss: 0.8282 - accuracy: 0.6594 - val_loss: 0.6047 - val_accuracy: 0.8199\n",
      "Epoch 18/1000\n",
      " 1/28 [>.............................] - ETA: 0s - loss: 0.7150 - accuracy: 0.6953\n",
      "Epoch 18: saving model to model/keypoint_classifier\\keypoint_classifier.hdf5\n",
      "28/28 [==============================] - 0s 2ms/step - loss: 0.8114 - accuracy: 0.6721 - val_loss: 0.5934 - val_accuracy: 0.8174\n",
      "Epoch 19/1000\n",
      " 1/28 [>.............................] - ETA: 0s - loss: 0.8279 - accuracy: 0.6094\n",
      "Epoch 19: saving model to model/keypoint_classifier\\keypoint_classifier.hdf5\n",
      "28/28 [==============================] - 0s 2ms/step - loss: 0.8137 - accuracy: 0.6687 - val_loss: 0.5749 - val_accuracy: 0.8284\n",
      "Epoch 20/1000\n",
      " 1/28 [>.............................] - ETA: 0s - loss: 0.8486 - accuracy: 0.6641\n",
      "Epoch 20: saving model to model/keypoint_classifier\\keypoint_classifier.hdf5\n",
      "28/28 [==============================] - 0s 2ms/step - loss: 0.7902 - accuracy: 0.6831 - val_loss: 0.5614 - val_accuracy: 0.8309\n",
      "Epoch 21/1000\n",
      " 1/28 [>.............................] - ETA: 0s - loss: 0.6922 - accuracy: 0.7344\n",
      "Epoch 21: saving model to model/keypoint_classifier\\keypoint_classifier.hdf5\n",
      "28/28 [==============================] - 0s 2ms/step - loss: 0.7832 - accuracy: 0.6859 - val_loss: 0.5502 - val_accuracy: 0.8343\n",
      "Epoch 22/1000\n",
      " 1/28 [>.............................] - ETA: 0s - loss: 0.8254 - accuracy: 0.6641\n",
      "Epoch 22: saving model to model/keypoint_classifier\\keypoint_classifier.hdf5\n",
      "28/28 [==============================] - 0s 2ms/step - loss: 0.7850 - accuracy: 0.6814 - val_loss: 0.5355 - val_accuracy: 0.8462\n",
      "Epoch 23/1000\n",
      " 1/28 [>.............................] - ETA: 0s - loss: 0.7533 - accuracy: 0.7109\n",
      "Epoch 23: saving model to model/keypoint_classifier\\keypoint_classifier.hdf5\n",
      "28/28 [==============================] - 0s 2ms/step - loss: 0.7635 - accuracy: 0.6879 - val_loss: 0.5231 - val_accuracy: 0.8504\n",
      "Epoch 24/1000\n",
      " 1/28 [>.............................] - ETA: 0s - loss: 0.7177 - accuracy: 0.7656\n",
      "Epoch 24: saving model to model/keypoint_classifier\\keypoint_classifier.hdf5\n",
      "28/28 [==============================] - 0s 2ms/step - loss: 0.7425 - accuracy: 0.7048 - val_loss: 0.5093 - val_accuracy: 0.8538\n",
      "Epoch 25/1000\n",
      " 1/28 [>.............................] - ETA: 0s - loss: 0.7376 - accuracy: 0.7422\n",
      "Epoch 25: saving model to model/keypoint_classifier\\keypoint_classifier.hdf5\n",
      "28/28 [==============================] - 0s 2ms/step - loss: 0.7398 - accuracy: 0.7122 - val_loss: 0.5007 - val_accuracy: 0.8521\n",
      "Epoch 26/1000\n",
      " 1/28 [>.............................] - ETA: 0s - loss: 0.6767 - accuracy: 0.7188\n",
      "Epoch 26: saving model to model/keypoint_classifier\\keypoint_classifier.hdf5\n",
      "28/28 [==============================] - 0s 2ms/step - loss: 0.7215 - accuracy: 0.7113 - val_loss: 0.4883 - val_accuracy: 0.8605\n",
      "Epoch 27/1000\n",
      " 1/28 [>.............................] - ETA: 0s - loss: 0.6805 - accuracy: 0.7500\n",
      "Epoch 27: saving model to model/keypoint_classifier\\keypoint_classifier.hdf5\n",
      "28/28 [==============================] - 0s 2ms/step - loss: 0.7267 - accuracy: 0.7158 - val_loss: 0.4814 - val_accuracy: 0.8597\n",
      "Epoch 28/1000\n",
      " 1/28 [>.............................] - ETA: 0s - loss: 0.7438 - accuracy: 0.6953\n",
      "Epoch 28: saving model to model/keypoint_classifier\\keypoint_classifier.hdf5\n",
      "28/28 [==============================] - 0s 2ms/step - loss: 0.7110 - accuracy: 0.7240 - val_loss: 0.4639 - val_accuracy: 0.8648\n",
      "Epoch 29/1000\n",
      " 1/28 [>.............................] - ETA: 0s - loss: 0.8552 - accuracy: 0.6719\n",
      "Epoch 29: saving model to model/keypoint_classifier\\keypoint_classifier.hdf5\n",
      "28/28 [==============================] - 0s 2ms/step - loss: 0.7217 - accuracy: 0.7167 - val_loss: 0.4570 - val_accuracy: 0.8681\n",
      "Epoch 30/1000\n",
      " 1/28 [>.............................] - ETA: 0s - loss: 0.8410 - accuracy: 0.6641\n",
      "Epoch 30: saving model to model/keypoint_classifier\\keypoint_classifier.hdf5\n",
      "28/28 [==============================] - 0s 2ms/step - loss: 0.6887 - accuracy: 0.7200 - val_loss: 0.4485 - val_accuracy: 0.8690\n",
      "Epoch 31/1000\n",
      " 1/28 [>.............................] - ETA: 0s - loss: 0.6754 - accuracy: 0.7500\n",
      "Epoch 31: saving model to model/keypoint_classifier\\keypoint_classifier.hdf5\n",
      "28/28 [==============================] - 0s 2ms/step - loss: 0.7177 - accuracy: 0.7079 - val_loss: 0.4401 - val_accuracy: 0.8774\n",
      "Epoch 32/1000\n",
      " 1/28 [>.............................] - ETA: 0s - loss: 0.7556 - accuracy: 0.6875\n",
      "Epoch 32: saving model to model/keypoint_classifier\\keypoint_classifier.hdf5\n",
      "28/28 [==============================] - 0s 2ms/step - loss: 0.6988 - accuracy: 0.7203 - val_loss: 0.4364 - val_accuracy: 0.8724\n",
      "Epoch 33/1000\n",
      " 1/28 [>.............................] - ETA: 0s - loss: 0.6807 - accuracy: 0.7188\n",
      "Epoch 33: saving model to model/keypoint_classifier\\keypoint_classifier.hdf5\n",
      "28/28 [==============================] - 0s 2ms/step - loss: 0.6814 - accuracy: 0.7324 - val_loss: 0.4294 - val_accuracy: 0.8774\n",
      "Epoch 34/1000\n",
      " 1/28 [>.............................] - ETA: 0s - loss: 0.7150 - accuracy: 0.7500\n",
      "Epoch 34: saving model to model/keypoint_classifier\\keypoint_classifier.hdf5\n",
      "28/28 [==============================] - 0s 2ms/step - loss: 0.6812 - accuracy: 0.7240 - val_loss: 0.4195 - val_accuracy: 0.8791\n",
      "Epoch 35/1000\n",
      " 1/28 [>.............................] - ETA: 0s - loss: 0.7674 - accuracy: 0.6719\n",
      "Epoch 35: saving model to model/keypoint_classifier\\keypoint_classifier.hdf5\n",
      "28/28 [==============================] - 0s 2ms/step - loss: 0.6774 - accuracy: 0.7265 - val_loss: 0.4116 - val_accuracy: 0.8833\n",
      "Epoch 36/1000\n",
      " 1/28 [>.............................] - ETA: 0s - loss: 0.6681 - accuracy: 0.7422\n",
      "Epoch 36: saving model to model/keypoint_classifier\\keypoint_classifier.hdf5\n",
      "28/28 [==============================] - 0s 2ms/step - loss: 0.6667 - accuracy: 0.7378 - val_loss: 0.4072 - val_accuracy: 0.8825\n",
      "Epoch 37/1000\n",
      " 1/28 [>.............................] - ETA: 0s - loss: 0.7773 - accuracy: 0.6719\n",
      "Epoch 37: saving model to model/keypoint_classifier\\keypoint_classifier.hdf5\n",
      "28/28 [==============================] - 0s 2ms/step - loss: 0.6498 - accuracy: 0.7432 - val_loss: 0.4049 - val_accuracy: 0.8817\n",
      "Epoch 38/1000\n",
      " 1/28 [>.............................] - ETA: 0s - loss: 0.7060 - accuracy: 0.7031\n",
      "Epoch 38: saving model to model/keypoint_classifier\\keypoint_classifier.hdf5\n",
      "28/28 [==============================] - 0s 2ms/step - loss: 0.6588 - accuracy: 0.7375 - val_loss: 0.3993 - val_accuracy: 0.8918\n",
      "Epoch 39/1000\n",
      " 1/28 [>.............................] - ETA: 0s - loss: 0.6457 - accuracy: 0.7344\n",
      "Epoch 39: saving model to model/keypoint_classifier\\keypoint_classifier.hdf5\n",
      "28/28 [==============================] - 0s 2ms/step - loss: 0.6692 - accuracy: 0.7302 - val_loss: 0.3940 - val_accuracy: 0.8901\n",
      "Epoch 40/1000\n",
      " 1/28 [>.............................] - ETA: 0s - loss: 0.7682 - accuracy: 0.6797\n",
      "Epoch 40: saving model to model/keypoint_classifier\\keypoint_classifier.hdf5\n",
      "28/28 [==============================] - 0s 2ms/step - loss: 0.6337 - accuracy: 0.7499 - val_loss: 0.3849 - val_accuracy: 0.8850\n",
      "Epoch 41/1000\n",
      " 1/28 [>.............................] - ETA: 0s - loss: 0.6502 - accuracy: 0.7422\n",
      "Epoch 41: saving model to model/keypoint_classifier\\keypoint_classifier.hdf5\n",
      "28/28 [==============================] - 0s 2ms/step - loss: 0.6376 - accuracy: 0.7575 - val_loss: 0.3774 - val_accuracy: 0.8960\n",
      "Epoch 42/1000\n",
      " 1/28 [>.............................] - ETA: 0s - loss: 0.6430 - accuracy: 0.7344\n",
      "Epoch 42: saving model to model/keypoint_classifier\\keypoint_classifier.hdf5\n",
      "28/28 [==============================] - 0s 2ms/step - loss: 0.6639 - accuracy: 0.7324 - val_loss: 0.3718 - val_accuracy: 0.8926\n",
      "Epoch 43/1000\n",
      " 1/28 [>.............................] - ETA: 0s - loss: 0.6683 - accuracy: 0.7344\n",
      "Epoch 43: saving model to model/keypoint_classifier\\keypoint_classifier.hdf5\n",
      "28/28 [==============================] - 0s 2ms/step - loss: 0.6603 - accuracy: 0.7350 - val_loss: 0.3685 - val_accuracy: 0.9036\n",
      "Epoch 44/1000\n",
      " 1/28 [>.............................] - ETA: 0s - loss: 0.7520 - accuracy: 0.6406\n",
      "Epoch 44: saving model to model/keypoint_classifier\\keypoint_classifier.hdf5\n",
      "28/28 [==============================] - 0s 2ms/step - loss: 0.6379 - accuracy: 0.7426 - val_loss: 0.3686 - val_accuracy: 0.8969\n",
      "Epoch 45/1000\n",
      " 1/28 [>.............................] - ETA: 0s - loss: 0.6184 - accuracy: 0.7656\n",
      "Epoch 45: saving model to model/keypoint_classifier\\keypoint_classifier.hdf5\n",
      "28/28 [==============================] - 0s 2ms/step - loss: 0.6357 - accuracy: 0.7437 - val_loss: 0.3602 - val_accuracy: 0.9011\n",
      "Epoch 46/1000\n",
      " 1/28 [>.............................] - ETA: 0s - loss: 0.5354 - accuracy: 0.7734\n",
      "Epoch 46: saving model to model/keypoint_classifier\\keypoint_classifier.hdf5\n",
      "28/28 [==============================] - 0s 2ms/step - loss: 0.6293 - accuracy: 0.7575 - val_loss: 0.3612 - val_accuracy: 0.8994\n",
      "Epoch 47/1000\n",
      " 1/28 [>.............................] - ETA: 0s - loss: 0.6271 - accuracy: 0.7812\n",
      "Epoch 47: saving model to model/keypoint_classifier\\keypoint_classifier.hdf5\n",
      "28/28 [==============================] - 0s 2ms/step - loss: 0.6328 - accuracy: 0.7539 - val_loss: 0.3576 - val_accuracy: 0.9003\n",
      "Epoch 48/1000\n",
      " 1/28 [>.............................] - ETA: 0s - loss: 0.6216 - accuracy: 0.7500\n",
      "Epoch 48: saving model to model/keypoint_classifier\\keypoint_classifier.hdf5\n",
      "28/28 [==============================] - 0s 2ms/step - loss: 0.6175 - accuracy: 0.7637 - val_loss: 0.3538 - val_accuracy: 0.8994\n",
      "Epoch 49/1000\n",
      " 1/28 [>.............................] - ETA: 0s - loss: 0.5505 - accuracy: 0.7734\n",
      "Epoch 49: saving model to model/keypoint_classifier\\keypoint_classifier.hdf5\n",
      "28/28 [==============================] - 0s 2ms/step - loss: 0.6270 - accuracy: 0.7519 - val_loss: 0.3490 - val_accuracy: 0.9121\n",
      "Epoch 50/1000\n",
      " 1/28 [>.............................] - ETA: 0s - loss: 0.6409 - accuracy: 0.7891\n",
      "Epoch 50: saving model to model/keypoint_classifier\\keypoint_classifier.hdf5\n",
      "28/28 [==============================] - 0s 2ms/step - loss: 0.6166 - accuracy: 0.7609 - val_loss: 0.3431 - val_accuracy: 0.9104\n",
      "Epoch 51/1000\n",
      " 1/28 [>.............................] - ETA: 0s - loss: 0.4980 - accuracy: 0.8359\n",
      "Epoch 51: saving model to model/keypoint_classifier\\keypoint_classifier.hdf5\n",
      "28/28 [==============================] - 0s 2ms/step - loss: 0.6225 - accuracy: 0.7533 - val_loss: 0.3429 - val_accuracy: 0.9019\n",
      "Epoch 52/1000\n",
      " 1/28 [>.............................] - ETA: 0s - loss: 0.5660 - accuracy: 0.7734\n",
      "Epoch 52: saving model to model/keypoint_classifier\\keypoint_classifier.hdf5\n",
      "28/28 [==============================] - 0s 2ms/step - loss: 0.6196 - accuracy: 0.7584 - val_loss: 0.3428 - val_accuracy: 0.9070\n",
      "Epoch 53/1000\n",
      " 1/28 [>.............................] - ETA: 0s - loss: 0.7044 - accuracy: 0.7109\n",
      "Epoch 53: saving model to model/keypoint_classifier\\keypoint_classifier.hdf5\n",
      "28/28 [==============================] - 0s 2ms/step - loss: 0.6215 - accuracy: 0.7573 - val_loss: 0.3410 - val_accuracy: 0.9172\n",
      "Epoch 54/1000\n",
      " 1/28 [>.............................] - ETA: 0s - loss: 0.5648 - accuracy: 0.7891\n",
      "Epoch 54: saving model to model/keypoint_classifier\\keypoint_classifier.hdf5\n",
      "28/28 [==============================] - 0s 2ms/step - loss: 0.6195 - accuracy: 0.7590 - val_loss: 0.3362 - val_accuracy: 0.9189\n",
      "Epoch 55/1000\n",
      " 1/28 [>.............................] - ETA: 0s - loss: 0.6391 - accuracy: 0.7578\n",
      "Epoch 55: saving model to model/keypoint_classifier\\keypoint_classifier.hdf5\n",
      "28/28 [==============================] - 0s 2ms/step - loss: 0.6229 - accuracy: 0.7621 - val_loss: 0.3345 - val_accuracy: 0.9231\n",
      "Epoch 56/1000\n",
      " 1/28 [>.............................] - ETA: 0s - loss: 0.5686 - accuracy: 0.7578\n",
      "Epoch 56: saving model to model/keypoint_classifier\\keypoint_classifier.hdf5\n",
      "28/28 [==============================] - 0s 2ms/step - loss: 0.5956 - accuracy: 0.7745 - val_loss: 0.3255 - val_accuracy: 0.9256\n",
      "Epoch 57/1000\n",
      " 1/28 [>.............................] - ETA: 0s - loss: 0.6119 - accuracy: 0.7578\n",
      "Epoch 57: saving model to model/keypoint_classifier\\keypoint_classifier.hdf5\n",
      "28/28 [==============================] - 0s 2ms/step - loss: 0.6384 - accuracy: 0.7505 - val_loss: 0.3265 - val_accuracy: 0.9239\n",
      "Epoch 58/1000\n",
      " 1/28 [>.............................] - ETA: 0s - loss: 0.5888 - accuracy: 0.7891\n",
      "Epoch 58: saving model to model/keypoint_classifier\\keypoint_classifier.hdf5\n",
      "28/28 [==============================] - 0s 2ms/step - loss: 0.5934 - accuracy: 0.7640 - val_loss: 0.3213 - val_accuracy: 0.9307\n",
      "Epoch 59/1000\n",
      " 1/28 [>.............................] - ETA: 0s - loss: 0.6630 - accuracy: 0.6953\n",
      "Epoch 59: saving model to model/keypoint_classifier\\keypoint_classifier.hdf5\n",
      "28/28 [==============================] - 0s 2ms/step - loss: 0.6010 - accuracy: 0.7668 - val_loss: 0.3192 - val_accuracy: 0.9290\n",
      "Epoch 60/1000\n",
      " 1/28 [>.............................] - ETA: 0s - loss: 0.5908 - accuracy: 0.7578\n",
      "Epoch 60: saving model to model/keypoint_classifier\\keypoint_classifier.hdf5\n",
      "28/28 [==============================] - 0s 2ms/step - loss: 0.5901 - accuracy: 0.7680 - val_loss: 0.3077 - val_accuracy: 0.9341\n",
      "Epoch 61/1000\n",
      " 1/28 [>.............................] - ETA: 0s - loss: 0.6134 - accuracy: 0.7656\n",
      "Epoch 61: saving model to model/keypoint_classifier\\keypoint_classifier.hdf5\n",
      "28/28 [==============================] - 0s 2ms/step - loss: 0.5894 - accuracy: 0.7759 - val_loss: 0.3126 - val_accuracy: 0.9281\n",
      "Epoch 62/1000\n",
      " 1/28 [>.............................] - ETA: 0s - loss: 0.5923 - accuracy: 0.7656\n",
      "Epoch 62: saving model to model/keypoint_classifier\\keypoint_classifier.hdf5\n",
      "28/28 [==============================] - 0s 2ms/step - loss: 0.5828 - accuracy: 0.7776 - val_loss: 0.3054 - val_accuracy: 0.9358\n",
      "Epoch 63/1000\n",
      " 1/28 [>.............................] - ETA: 0s - loss: 0.5767 - accuracy: 0.7969\n",
      "Epoch 63: saving model to model/keypoint_classifier\\keypoint_classifier.hdf5\n",
      "28/28 [==============================] - 0s 2ms/step - loss: 0.5900 - accuracy: 0.7824 - val_loss: 0.3072 - val_accuracy: 0.9374\n",
      "Epoch 64/1000\n",
      " 1/28 [>.............................] - ETA: 0s - loss: 0.7136 - accuracy: 0.7266\n",
      "Epoch 64: saving model to model/keypoint_classifier\\keypoint_classifier.hdf5\n",
      "28/28 [==============================] - 0s 2ms/step - loss: 0.5842 - accuracy: 0.7767 - val_loss: 0.3041 - val_accuracy: 0.9341\n",
      "Epoch 65/1000\n",
      " 1/28 [>.............................] - ETA: 0s - loss: 0.6256 - accuracy: 0.7500\n",
      "Epoch 65: saving model to model/keypoint_classifier\\keypoint_classifier.hdf5\n",
      "28/28 [==============================] - 0s 2ms/step - loss: 0.5878 - accuracy: 0.7745 - val_loss: 0.3017 - val_accuracy: 0.9451\n",
      "Epoch 66/1000\n",
      " 1/28 [>.............................] - ETA: 0s - loss: 0.5860 - accuracy: 0.8125\n",
      "Epoch 66: saving model to model/keypoint_classifier\\keypoint_classifier.hdf5\n",
      "28/28 [==============================] - 0s 2ms/step - loss: 0.5893 - accuracy: 0.7699 - val_loss: 0.2999 - val_accuracy: 0.9476\n",
      "Epoch 67/1000\n",
      " 1/28 [>.............................] - ETA: 0s - loss: 0.5928 - accuracy: 0.8203\n",
      "Epoch 67: saving model to model/keypoint_classifier\\keypoint_classifier.hdf5\n",
      "28/28 [==============================] - 0s 2ms/step - loss: 0.5788 - accuracy: 0.7826 - val_loss: 0.2944 - val_accuracy: 0.9476\n",
      "Epoch 68/1000\n",
      " 1/28 [>.............................] - ETA: 0s - loss: 0.5443 - accuracy: 0.7812\n",
      "Epoch 68: saving model to model/keypoint_classifier\\keypoint_classifier.hdf5\n",
      "28/28 [==============================] - 0s 2ms/step - loss: 0.5808 - accuracy: 0.7730 - val_loss: 0.2888 - val_accuracy: 0.9527\n",
      "Epoch 69/1000\n",
      " 1/28 [>.............................] - ETA: 0s - loss: 0.5307 - accuracy: 0.8047\n",
      "Epoch 69: saving model to model/keypoint_classifier\\keypoint_classifier.hdf5\n",
      "28/28 [==============================] - 0s 2ms/step - loss: 0.5870 - accuracy: 0.7761 - val_loss: 0.2952 - val_accuracy: 0.9451\n",
      "Epoch 70/1000\n",
      " 1/28 [>.............................] - ETA: 0s - loss: 0.4606 - accuracy: 0.8594\n",
      "Epoch 70: saving model to model/keypoint_classifier\\keypoint_classifier.hdf5\n",
      "28/28 [==============================] - 0s 2ms/step - loss: 0.5941 - accuracy: 0.7702 - val_loss: 0.2908 - val_accuracy: 0.9484\n",
      "Epoch 71/1000\n",
      " 1/28 [>.............................] - ETA: 0s - loss: 0.6072 - accuracy: 0.7656\n",
      "Epoch 71: saving model to model/keypoint_classifier\\keypoint_classifier.hdf5\n",
      "28/28 [==============================] - 0s 2ms/step - loss: 0.5781 - accuracy: 0.7815 - val_loss: 0.2901 - val_accuracy: 0.9459\n",
      "Epoch 72/1000\n",
      " 1/28 [>.............................] - ETA: 0s - loss: 0.6165 - accuracy: 0.7266\n",
      "Epoch 72: saving model to model/keypoint_classifier\\keypoint_classifier.hdf5\n",
      "28/28 [==============================] - 0s 2ms/step - loss: 0.5800 - accuracy: 0.7781 - val_loss: 0.2864 - val_accuracy: 0.9484\n",
      "Epoch 73/1000\n",
      " 1/28 [>.............................] - ETA: 0s - loss: 0.5478 - accuracy: 0.8047\n",
      "Epoch 73: saving model to model/keypoint_classifier\\keypoint_classifier.hdf5\n",
      "28/28 [==============================] - 0s 2ms/step - loss: 0.5838 - accuracy: 0.7764 - val_loss: 0.2899 - val_accuracy: 0.9518\n",
      "Epoch 74/1000\n",
      " 1/28 [>.............................] - ETA: 0s - loss: 0.5814 - accuracy: 0.7266\n",
      "Epoch 74: saving model to model/keypoint_classifier\\keypoint_classifier.hdf5\n",
      "28/28 [==============================] - 0s 2ms/step - loss: 0.5751 - accuracy: 0.7798 - val_loss: 0.2831 - val_accuracy: 0.9518\n",
      "Epoch 75/1000\n",
      " 1/28 [>.............................] - ETA: 0s - loss: 0.5184 - accuracy: 0.7891\n",
      "Epoch 75: saving model to model/keypoint_classifier\\keypoint_classifier.hdf5\n",
      "28/28 [==============================] - 0s 2ms/step - loss: 0.5707 - accuracy: 0.7807 - val_loss: 0.2812 - val_accuracy: 0.9560\n",
      "Epoch 76/1000\n",
      " 1/28 [>.............................] - ETA: 0s - loss: 0.5708 - accuracy: 0.7578\n",
      "Epoch 76: saving model to model/keypoint_classifier\\keypoint_classifier.hdf5\n",
      "28/28 [==============================] - 0s 2ms/step - loss: 0.5523 - accuracy: 0.7857 - val_loss: 0.2748 - val_accuracy: 0.9518\n",
      "Epoch 77/1000\n",
      " 1/28 [>.............................] - ETA: 0s - loss: 0.5290 - accuracy: 0.8047\n",
      "Epoch 77: saving model to model/keypoint_classifier\\keypoint_classifier.hdf5\n",
      "28/28 [==============================] - 0s 2ms/step - loss: 0.5607 - accuracy: 0.7869 - val_loss: 0.2728 - val_accuracy: 0.9594\n",
      "Epoch 78/1000\n",
      " 1/28 [>.............................] - ETA: 0s - loss: 0.4780 - accuracy: 0.8125\n",
      "Epoch 78: saving model to model/keypoint_classifier\\keypoint_classifier.hdf5\n",
      "28/28 [==============================] - 0s 2ms/step - loss: 0.5754 - accuracy: 0.7815 - val_loss: 0.2771 - val_accuracy: 0.9577\n",
      "Epoch 79/1000\n",
      " 1/28 [>.............................] - ETA: 0s - loss: 0.4765 - accuracy: 0.8203\n",
      "Epoch 79: saving model to model/keypoint_classifier\\keypoint_classifier.hdf5\n",
      "28/28 [==============================] - 0s 2ms/step - loss: 0.5673 - accuracy: 0.7849 - val_loss: 0.2708 - val_accuracy: 0.9603\n",
      "Epoch 80/1000\n",
      " 1/28 [>.............................] - ETA: 0s - loss: 0.5065 - accuracy: 0.8125\n",
      "Epoch 80: saving model to model/keypoint_classifier\\keypoint_classifier.hdf5\n",
      "28/28 [==============================] - 0s 2ms/step - loss: 0.5605 - accuracy: 0.7869 - val_loss: 0.2714 - val_accuracy: 0.9552\n",
      "Epoch 81/1000\n",
      " 1/28 [>.............................] - ETA: 0s - loss: 0.4465 - accuracy: 0.8359\n",
      "Epoch 81: saving model to model/keypoint_classifier\\keypoint_classifier.hdf5\n",
      "28/28 [==============================] - 0s 2ms/step - loss: 0.5745 - accuracy: 0.7739 - val_loss: 0.2806 - val_accuracy: 0.9611\n",
      "Epoch 82/1000\n",
      " 1/28 [>.............................] - ETA: 0s - loss: 0.5876 - accuracy: 0.7500\n",
      "Epoch 82: saving model to model/keypoint_classifier\\keypoint_classifier.hdf5\n",
      "28/28 [==============================] - 0s 2ms/step - loss: 0.5505 - accuracy: 0.7894 - val_loss: 0.2696 - val_accuracy: 0.9560\n",
      "Epoch 83/1000\n",
      " 1/28 [>.............................] - ETA: 0s - loss: 0.7245 - accuracy: 0.7266\n",
      "Epoch 83: saving model to model/keypoint_classifier\\keypoint_classifier.hdf5\n",
      "28/28 [==============================] - 0s 2ms/step - loss: 0.5596 - accuracy: 0.7902 - val_loss: 0.2688 - val_accuracy: 0.9586\n",
      "Epoch 84/1000\n",
      " 1/28 [>.............................] - ETA: 0s - loss: 0.6244 - accuracy: 0.7578\n",
      "Epoch 84: saving model to model/keypoint_classifier\\keypoint_classifier.hdf5\n",
      "28/28 [==============================] - 0s 2ms/step - loss: 0.5597 - accuracy: 0.7925 - val_loss: 0.2711 - val_accuracy: 0.9594\n",
      "Epoch 85/1000\n",
      " 1/28 [>.............................] - ETA: 0s - loss: 0.4628 - accuracy: 0.8203\n",
      "Epoch 85: saving model to model/keypoint_classifier\\keypoint_classifier.hdf5\n",
      "28/28 [==============================] - 0s 2ms/step - loss: 0.5557 - accuracy: 0.7942 - val_loss: 0.2601 - val_accuracy: 0.9628\n",
      "Epoch 86/1000\n",
      " 1/28 [>.............................] - ETA: 0s - loss: 0.5942 - accuracy: 0.8203\n",
      "Epoch 86: saving model to model/keypoint_classifier\\keypoint_classifier.hdf5\n",
      "28/28 [==============================] - 0s 2ms/step - loss: 0.5492 - accuracy: 0.7939 - val_loss: 0.2560 - val_accuracy: 0.9628\n",
      "Epoch 87/1000\n",
      " 1/28 [>.............................] - ETA: 0s - loss: 0.4901 - accuracy: 0.8594\n",
      "Epoch 87: saving model to model/keypoint_classifier\\keypoint_classifier.hdf5\n",
      "28/28 [==============================] - 0s 2ms/step - loss: 0.5512 - accuracy: 0.7953 - val_loss: 0.2566 - val_accuracy: 0.9628\n",
      "Epoch 88/1000\n",
      " 1/28 [>.............................] - ETA: 0s - loss: 0.4776 - accuracy: 0.8203\n",
      "Epoch 88: saving model to model/keypoint_classifier\\keypoint_classifier.hdf5\n",
      "28/28 [==============================] - 0s 2ms/step - loss: 0.5497 - accuracy: 0.7905 - val_loss: 0.2630 - val_accuracy: 0.9637\n",
      "Epoch 89/1000\n",
      " 1/28 [>.............................] - ETA: 0s - loss: 0.5496 - accuracy: 0.7656\n",
      "Epoch 89: saving model to model/keypoint_classifier\\keypoint_classifier.hdf5\n",
      "28/28 [==============================] - 0s 2ms/step - loss: 0.5556 - accuracy: 0.7826 - val_loss: 0.2598 - val_accuracy: 0.9611\n",
      "Epoch 90/1000\n",
      " 1/28 [>.............................] - ETA: 0s - loss: 0.4934 - accuracy: 0.8125\n",
      "Epoch 90: saving model to model/keypoint_classifier\\keypoint_classifier.hdf5\n",
      "28/28 [==============================] - 0s 2ms/step - loss: 0.5429 - accuracy: 0.7979 - val_loss: 0.2536 - val_accuracy: 0.9637\n",
      "Epoch 91/1000\n",
      " 1/28 [>.............................] - ETA: 0s - loss: 0.5731 - accuracy: 0.7812\n",
      "Epoch 91: saving model to model/keypoint_classifier\\keypoint_classifier.hdf5\n",
      "28/28 [==============================] - 0s 2ms/step - loss: 0.5396 - accuracy: 0.7948 - val_loss: 0.2549 - val_accuracy: 0.9670\n",
      "Epoch 92/1000\n",
      " 1/28 [>.............................] - ETA: 0s - loss: 0.5101 - accuracy: 0.7891\n",
      "Epoch 92: saving model to model/keypoint_classifier\\keypoint_classifier.hdf5\n",
      "28/28 [==============================] - 0s 2ms/step - loss: 0.5415 - accuracy: 0.7928 - val_loss: 0.2536 - val_accuracy: 0.9704\n",
      "Epoch 93/1000\n",
      " 1/28 [>.............................] - ETA: 0s - loss: 0.4968 - accuracy: 0.8047\n",
      "Epoch 93: saving model to model/keypoint_classifier\\keypoint_classifier.hdf5\n",
      "28/28 [==============================] - 0s 2ms/step - loss: 0.5435 - accuracy: 0.7931 - val_loss: 0.2544 - val_accuracy: 0.9620\n",
      "Epoch 94/1000\n",
      " 1/28 [>.............................] - ETA: 0s - loss: 0.4620 - accuracy: 0.8203\n",
      "Epoch 94: saving model to model/keypoint_classifier\\keypoint_classifier.hdf5\n",
      "28/28 [==============================] - 0s 2ms/step - loss: 0.5422 - accuracy: 0.7948 - val_loss: 0.2586 - val_accuracy: 0.9653\n",
      "Epoch 95/1000\n",
      " 1/28 [>.............................] - ETA: 0s - loss: 0.4838 - accuracy: 0.7969\n",
      "Epoch 95: saving model to model/keypoint_classifier\\keypoint_classifier.hdf5\n",
      "28/28 [==============================] - 0s 2ms/step - loss: 0.5538 - accuracy: 0.7964 - val_loss: 0.2576 - val_accuracy: 0.9662\n",
      "Epoch 96/1000\n",
      " 1/28 [>.............................] - ETA: 0s - loss: 0.4849 - accuracy: 0.8047\n",
      "Epoch 96: saving model to model/keypoint_classifier\\keypoint_classifier.hdf5\n",
      "28/28 [==============================] - 0s 2ms/step - loss: 0.5442 - accuracy: 0.7880 - val_loss: 0.2575 - val_accuracy: 0.9679\n",
      "Epoch 97/1000\n",
      " 1/28 [>.............................] - ETA: 0s - loss: 0.5945 - accuracy: 0.7812\n",
      "Epoch 97: saving model to model/keypoint_classifier\\keypoint_classifier.hdf5\n",
      "28/28 [==============================] - 0s 2ms/step - loss: 0.5335 - accuracy: 0.8046 - val_loss: 0.2543 - val_accuracy: 0.9653\n",
      "Epoch 98/1000\n",
      " 1/28 [>.............................] - ETA: 0s - loss: 0.5252 - accuracy: 0.7891\n",
      "Epoch 98: saving model to model/keypoint_classifier\\keypoint_classifier.hdf5\n",
      "28/28 [==============================] - 0s 2ms/step - loss: 0.5536 - accuracy: 0.7911 - val_loss: 0.2522 - val_accuracy: 0.9637\n",
      "Epoch 99/1000\n",
      " 1/28 [>.............................] - ETA: 0s - loss: 0.7097 - accuracy: 0.7422\n",
      "Epoch 99: saving model to model/keypoint_classifier\\keypoint_classifier.hdf5\n",
      "28/28 [==============================] - 0s 2ms/step - loss: 0.5395 - accuracy: 0.7950 - val_loss: 0.2498 - val_accuracy: 0.9653\n",
      "Epoch 100/1000\n",
      " 1/28 [>.............................] - ETA: 0s - loss: 0.5214 - accuracy: 0.8203\n",
      "Epoch 100: saving model to model/keypoint_classifier\\keypoint_classifier.hdf5\n",
      "28/28 [==============================] - 0s 2ms/step - loss: 0.5401 - accuracy: 0.8035 - val_loss: 0.2525 - val_accuracy: 0.9653\n",
      "Epoch 101/1000\n",
      " 1/28 [>.............................] - ETA: 0s - loss: 0.5666 - accuracy: 0.7969\n",
      "Epoch 101: saving model to model/keypoint_classifier\\keypoint_classifier.hdf5\n",
      "28/28 [==============================] - 0s 2ms/step - loss: 0.5547 - accuracy: 0.8001 - val_loss: 0.2511 - val_accuracy: 0.9679\n",
      "Epoch 102/1000\n",
      " 1/28 [>.............................] - ETA: 0s - loss: 0.5180 - accuracy: 0.8047\n",
      "Epoch 102: saving model to model/keypoint_classifier\\keypoint_classifier.hdf5\n",
      "28/28 [==============================] - 0s 2ms/step - loss: 0.5524 - accuracy: 0.7933 - val_loss: 0.2512 - val_accuracy: 0.9687\n",
      "Epoch 103/1000\n",
      " 1/28 [>.............................] - ETA: 0s - loss: 0.4193 - accuracy: 0.8594\n",
      "Epoch 103: saving model to model/keypoint_classifier\\keypoint_classifier.hdf5\n",
      "28/28 [==============================] - 0s 2ms/step - loss: 0.5321 - accuracy: 0.8004 - val_loss: 0.2459 - val_accuracy: 0.9679\n",
      "Epoch 104/1000\n",
      " 1/28 [>.............................] - ETA: 0s - loss: 0.4401 - accuracy: 0.8516\n",
      "Epoch 104: saving model to model/keypoint_classifier\\keypoint_classifier.hdf5\n",
      "28/28 [==============================] - 0s 2ms/step - loss: 0.5461 - accuracy: 0.7905 - val_loss: 0.2485 - val_accuracy: 0.9687\n",
      "Epoch 105/1000\n",
      " 1/28 [>.............................] - ETA: 0s - loss: 0.6098 - accuracy: 0.8203\n",
      "Epoch 105: saving model to model/keypoint_classifier\\keypoint_classifier.hdf5\n",
      "28/28 [==============================] - 0s 2ms/step - loss: 0.5236 - accuracy: 0.8094 - val_loss: 0.2453 - val_accuracy: 0.9645\n",
      "Epoch 106/1000\n",
      " 1/28 [>.............................] - ETA: 0s - loss: 0.4566 - accuracy: 0.8516\n",
      "Epoch 106: saving model to model/keypoint_classifier\\keypoint_classifier.hdf5\n",
      "28/28 [==============================] - 0s 2ms/step - loss: 0.5235 - accuracy: 0.8128 - val_loss: 0.2403 - val_accuracy: 0.9696\n",
      "Epoch 107/1000\n",
      " 1/28 [>.............................] - ETA: 0s - loss: 0.5457 - accuracy: 0.7578\n",
      "Epoch 107: saving model to model/keypoint_classifier\\keypoint_classifier.hdf5\n",
      "28/28 [==============================] - 0s 2ms/step - loss: 0.5351 - accuracy: 0.7964 - val_loss: 0.2421 - val_accuracy: 0.9679\n",
      "Epoch 108/1000\n",
      " 1/28 [>.............................] - ETA: 0s - loss: 0.5528 - accuracy: 0.7656\n",
      "Epoch 108: saving model to model/keypoint_classifier\\keypoint_classifier.hdf5\n",
      "28/28 [==============================] - 0s 2ms/step - loss: 0.5268 - accuracy: 0.8080 - val_loss: 0.2411 - val_accuracy: 0.9679\n",
      "Epoch 109/1000\n",
      " 1/28 [>.............................] - ETA: 0s - loss: 0.5362 - accuracy: 0.7891\n",
      "Epoch 109: saving model to model/keypoint_classifier\\keypoint_classifier.hdf5\n",
      "28/28 [==============================] - 0s 2ms/step - loss: 0.5365 - accuracy: 0.7998 - val_loss: 0.2391 - val_accuracy: 0.9721\n",
      "Epoch 110/1000\n",
      " 1/28 [>.............................] - ETA: 0s - loss: 0.5206 - accuracy: 0.7891\n",
      "Epoch 110: saving model to model/keypoint_classifier\\keypoint_classifier.hdf5\n",
      "28/28 [==============================] - 0s 2ms/step - loss: 0.5263 - accuracy: 0.8015 - val_loss: 0.2377 - val_accuracy: 0.9704\n",
      "Epoch 111/1000\n",
      " 1/28 [>.............................] - ETA: 0s - loss: 0.5370 - accuracy: 0.7969\n",
      "Epoch 111: saving model to model/keypoint_classifier\\keypoint_classifier.hdf5\n",
      "28/28 [==============================] - 0s 2ms/step - loss: 0.5124 - accuracy: 0.8063 - val_loss: 0.2392 - val_accuracy: 0.9670\n",
      "Epoch 112/1000\n",
      " 1/28 [>.............................] - ETA: 0s - loss: 0.5298 - accuracy: 0.7812\n",
      "Epoch 112: saving model to model/keypoint_classifier\\keypoint_classifier.hdf5\n",
      "28/28 [==============================] - 0s 2ms/step - loss: 0.5268 - accuracy: 0.8049 - val_loss: 0.2382 - val_accuracy: 0.9687\n",
      "Epoch 113/1000\n",
      " 1/28 [>.............................] - ETA: 0s - loss: 0.4845 - accuracy: 0.8359\n",
      "Epoch 113: saving model to model/keypoint_classifier\\keypoint_classifier.hdf5\n",
      "28/28 [==============================] - 0s 2ms/step - loss: 0.5284 - accuracy: 0.8018 - val_loss: 0.2345 - val_accuracy: 0.9662\n",
      "Epoch 114/1000\n",
      " 1/28 [>.............................] - ETA: 0s - loss: 0.6726 - accuracy: 0.7266\n",
      "Epoch 114: saving model to model/keypoint_classifier\\keypoint_classifier.hdf5\n",
      "28/28 [==============================] - 0s 2ms/step - loss: 0.5078 - accuracy: 0.7998 - val_loss: 0.2382 - val_accuracy: 0.9713\n",
      "Epoch 115/1000\n",
      " 1/28 [>.............................] - ETA: 0s - loss: 0.5314 - accuracy: 0.8516\n",
      "Epoch 115: saving model to model/keypoint_classifier\\keypoint_classifier.hdf5\n",
      "28/28 [==============================] - 0s 2ms/step - loss: 0.5091 - accuracy: 0.8114 - val_loss: 0.2317 - val_accuracy: 0.9713\n",
      "Epoch 116/1000\n",
      " 1/28 [>.............................] - ETA: 0s - loss: 0.5448 - accuracy: 0.8203\n",
      "Epoch 116: saving model to model/keypoint_classifier\\keypoint_classifier.hdf5\n",
      "28/28 [==============================] - 0s 2ms/step - loss: 0.5017 - accuracy: 0.8151 - val_loss: 0.2291 - val_accuracy: 0.9713\n",
      "Epoch 117/1000\n",
      " 1/28 [>.............................] - ETA: 0s - loss: 0.4773 - accuracy: 0.8281\n",
      "Epoch 117: saving model to model/keypoint_classifier\\keypoint_classifier.hdf5\n",
      "28/28 [==============================] - 0s 2ms/step - loss: 0.5354 - accuracy: 0.7942 - val_loss: 0.2403 - val_accuracy: 0.9696\n",
      "Epoch 118/1000\n",
      " 1/28 [>.............................] - ETA: 0s - loss: 0.5261 - accuracy: 0.7891\n",
      "Epoch 118: saving model to model/keypoint_classifier\\keypoint_classifier.hdf5\n",
      "28/28 [==============================] - 0s 2ms/step - loss: 0.5140 - accuracy: 0.8176 - val_loss: 0.2382 - val_accuracy: 0.9704\n",
      "Epoch 119/1000\n",
      " 1/28 [>.............................] - ETA: 0s - loss: 0.4940 - accuracy: 0.8281\n",
      "Epoch 119: saving model to model/keypoint_classifier\\keypoint_classifier.hdf5\n",
      "28/28 [==============================] - 0s 2ms/step - loss: 0.5209 - accuracy: 0.8032 - val_loss: 0.2327 - val_accuracy: 0.9687\n",
      "Epoch 120/1000\n",
      " 1/28 [>.............................] - ETA: 0s - loss: 0.4099 - accuracy: 0.8359\n",
      "Epoch 120: saving model to model/keypoint_classifier\\keypoint_classifier.hdf5\n",
      "28/28 [==============================] - 0s 2ms/step - loss: 0.5244 - accuracy: 0.8012 - val_loss: 0.2347 - val_accuracy: 0.9687\n",
      "Epoch 121/1000\n",
      " 1/28 [>.............................] - ETA: 0s - loss: 0.5263 - accuracy: 0.7969\n",
      "Epoch 121: saving model to model/keypoint_classifier\\keypoint_classifier.hdf5\n",
      "28/28 [==============================] - 0s 2ms/step - loss: 0.5220 - accuracy: 0.7984 - val_loss: 0.2303 - val_accuracy: 0.9704\n",
      "Epoch 122/1000\n",
      " 1/28 [>.............................] - ETA: 0s - loss: 0.5167 - accuracy: 0.7891\n",
      "Epoch 122: saving model to model/keypoint_classifier\\keypoint_classifier.hdf5\n",
      "28/28 [==============================] - 0s 2ms/step - loss: 0.5150 - accuracy: 0.8029 - val_loss: 0.2299 - val_accuracy: 0.9687\n",
      "Epoch 123/1000\n",
      " 1/28 [>.............................] - ETA: 0s - loss: 0.4820 - accuracy: 0.8359\n",
      "Epoch 123: saving model to model/keypoint_classifier\\keypoint_classifier.hdf5\n",
      "28/28 [==============================] - 0s 2ms/step - loss: 0.4985 - accuracy: 0.8122 - val_loss: 0.2376 - val_accuracy: 0.9670\n",
      "Epoch 124/1000\n",
      " 1/28 [>.............................] - ETA: 0s - loss: 0.5665 - accuracy: 0.7891\n",
      "Epoch 124: saving model to model/keypoint_classifier\\keypoint_classifier.hdf5\n",
      "28/28 [==============================] - 0s 2ms/step - loss: 0.5098 - accuracy: 0.8058 - val_loss: 0.2254 - val_accuracy: 0.9704\n",
      "Epoch 125/1000\n",
      " 1/28 [>.............................] - ETA: 0s - loss: 0.4755 - accuracy: 0.8516\n",
      "Epoch 125: saving model to model/keypoint_classifier\\keypoint_classifier.hdf5\n",
      "28/28 [==============================] - 0s 2ms/step - loss: 0.5121 - accuracy: 0.8117 - val_loss: 0.2291 - val_accuracy: 0.9696\n",
      "Epoch 126/1000\n",
      " 1/28 [>.............................] - ETA: 0s - loss: 0.5605 - accuracy: 0.7891\n",
      "Epoch 126: saving model to model/keypoint_classifier\\keypoint_classifier.hdf5\n",
      "28/28 [==============================] - 0s 2ms/step - loss: 0.5300 - accuracy: 0.8024 - val_loss: 0.2374 - val_accuracy: 0.9713\n",
      "Epoch 127/1000\n",
      " 1/28 [>.............................] - ETA: 0s - loss: 0.5842 - accuracy: 0.8125\n",
      "Epoch 127: saving model to model/keypoint_classifier\\keypoint_classifier.hdf5\n",
      "28/28 [==============================] - 0s 2ms/step - loss: 0.5274 - accuracy: 0.8021 - val_loss: 0.2389 - val_accuracy: 0.9670\n",
      "Epoch 128/1000\n",
      " 1/28 [>.............................] - ETA: 0s - loss: 0.4746 - accuracy: 0.7969\n",
      "Epoch 128: saving model to model/keypoint_classifier\\keypoint_classifier.hdf5\n",
      "28/28 [==============================] - 0s 2ms/step - loss: 0.5217 - accuracy: 0.8063 - val_loss: 0.2328 - val_accuracy: 0.9687\n",
      "Epoch 129/1000\n",
      " 1/28 [>.............................] - ETA: 0s - loss: 0.5823 - accuracy: 0.8281\n",
      "Epoch 129: saving model to model/keypoint_classifier\\keypoint_classifier.hdf5\n",
      "28/28 [==============================] - 0s 2ms/step - loss: 0.5025 - accuracy: 0.8153 - val_loss: 0.2295 - val_accuracy: 0.9679\n",
      "Epoch 130/1000\n",
      " 1/28 [>.............................] - ETA: 0s - loss: 0.4933 - accuracy: 0.8359\n",
      "Epoch 130: saving model to model/keypoint_classifier\\keypoint_classifier.hdf5\n",
      "28/28 [==============================] - 0s 2ms/step - loss: 0.5214 - accuracy: 0.8074 - val_loss: 0.2285 - val_accuracy: 0.9721\n",
      "Epoch 131/1000\n",
      " 1/28 [>.............................] - ETA: 0s - loss: 0.5265 - accuracy: 0.8203\n",
      "Epoch 131: saving model to model/keypoint_classifier\\keypoint_classifier.hdf5\n",
      "28/28 [==============================] - 0s 2ms/step - loss: 0.5068 - accuracy: 0.8145 - val_loss: 0.2308 - val_accuracy: 0.9687\n",
      "Epoch 132/1000\n",
      " 1/28 [>.............................] - ETA: 0s - loss: 0.5456 - accuracy: 0.8281\n",
      "Epoch 132: saving model to model/keypoint_classifier\\keypoint_classifier.hdf5\n",
      "28/28 [==============================] - 0s 2ms/step - loss: 0.5002 - accuracy: 0.8100 - val_loss: 0.2320 - val_accuracy: 0.9713\n",
      "Epoch 133/1000\n",
      " 1/28 [>.............................] - ETA: 0s - loss: 0.4959 - accuracy: 0.8125\n",
      "Epoch 133: saving model to model/keypoint_classifier\\keypoint_classifier.hdf5\n",
      "28/28 [==============================] - 0s 2ms/step - loss: 0.5202 - accuracy: 0.8066 - val_loss: 0.2258 - val_accuracy: 0.9662\n",
      "Epoch 134/1000\n",
      " 1/28 [>.............................] - ETA: 0s - loss: 0.5260 - accuracy: 0.8047\n",
      "Epoch 134: saving model to model/keypoint_classifier\\keypoint_classifier.hdf5\n",
      "28/28 [==============================] - 0s 2ms/step - loss: 0.4860 - accuracy: 0.8198 - val_loss: 0.2226 - val_accuracy: 0.9713\n",
      "Epoch 135/1000\n",
      " 1/28 [>.............................] - ETA: 0s - loss: 0.4469 - accuracy: 0.8359\n",
      "Epoch 135: saving model to model/keypoint_classifier\\keypoint_classifier.hdf5\n",
      "28/28 [==============================] - 0s 2ms/step - loss: 0.5058 - accuracy: 0.8170 - val_loss: 0.2225 - val_accuracy: 0.9687\n",
      "Epoch 136/1000\n",
      " 1/28 [>.............................] - ETA: 0s - loss: 0.3578 - accuracy: 0.8516\n",
      "Epoch 136: saving model to model/keypoint_classifier\\keypoint_classifier.hdf5\n",
      "28/28 [==============================] - 0s 2ms/step - loss: 0.4996 - accuracy: 0.8083 - val_loss: 0.2264 - val_accuracy: 0.9713\n",
      "Epoch 137/1000\n",
      " 1/28 [>.............................] - ETA: 0s - loss: 0.4284 - accuracy: 0.8438\n",
      "Epoch 137: saving model to model/keypoint_classifier\\keypoint_classifier.hdf5\n",
      "28/28 [==============================] - 0s 2ms/step - loss: 0.4883 - accuracy: 0.8134 - val_loss: 0.2229 - val_accuracy: 0.9687\n",
      "Epoch 138/1000\n",
      " 1/28 [>.............................] - ETA: 0s - loss: 0.4301 - accuracy: 0.8516\n",
      "Epoch 138: saving model to model/keypoint_classifier\\keypoint_classifier.hdf5\n",
      "28/28 [==============================] - 0s 2ms/step - loss: 0.4973 - accuracy: 0.8182 - val_loss: 0.2247 - val_accuracy: 0.9704\n",
      "Epoch 139/1000\n",
      " 1/28 [>.............................] - ETA: 0s - loss: 0.5162 - accuracy: 0.7969\n",
      "Epoch 139: saving model to model/keypoint_classifier\\keypoint_classifier.hdf5\n",
      "28/28 [==============================] - 0s 2ms/step - loss: 0.5016 - accuracy: 0.8069 - val_loss: 0.2252 - val_accuracy: 0.9696\n",
      "Epoch 140/1000\n",
      " 1/28 [>.............................] - ETA: 0s - loss: 0.5742 - accuracy: 0.7891\n",
      "Epoch 140: saving model to model/keypoint_classifier\\keypoint_classifier.hdf5\n",
      "28/28 [==============================] - 0s 2ms/step - loss: 0.5144 - accuracy: 0.8060 - val_loss: 0.2303 - val_accuracy: 0.9696\n",
      "Epoch 141/1000\n",
      " 1/28 [>.............................] - ETA: 0s - loss: 0.5328 - accuracy: 0.7891\n",
      "Epoch 141: saving model to model/keypoint_classifier\\keypoint_classifier.hdf5\n",
      "28/28 [==============================] - 0s 2ms/step - loss: 0.5166 - accuracy: 0.8086 - val_loss: 0.2239 - val_accuracy: 0.9696\n",
      "Epoch 142/1000\n",
      " 1/28 [>.............................] - ETA: 0s - loss: 0.4520 - accuracy: 0.8125\n",
      "Epoch 142: saving model to model/keypoint_classifier\\keypoint_classifier.hdf5\n",
      "28/28 [==============================] - 0s 2ms/step - loss: 0.4894 - accuracy: 0.8182 - val_loss: 0.2257 - val_accuracy: 0.9713\n",
      "Epoch 143/1000\n",
      " 1/28 [>.............................] - ETA: 0s - loss: 0.4475 - accuracy: 0.8438\n",
      "Epoch 143: saving model to model/keypoint_classifier\\keypoint_classifier.hdf5\n",
      "28/28 [==============================] - 0s 2ms/step - loss: 0.5013 - accuracy: 0.8114 - val_loss: 0.2301 - val_accuracy: 0.9670\n",
      "Epoch 144/1000\n",
      " 1/28 [>.............................] - ETA: 0s - loss: 0.4443 - accuracy: 0.8125\n",
      "Epoch 144: saving model to model/keypoint_classifier\\keypoint_classifier.hdf5\n",
      "28/28 [==============================] - 0s 2ms/step - loss: 0.4937 - accuracy: 0.8077 - val_loss: 0.2318 - val_accuracy: 0.9696\n",
      "Epoch 145/1000\n",
      " 1/28 [>.............................] - ETA: 0s - loss: 0.4898 - accuracy: 0.8203\n",
      "Epoch 145: saving model to model/keypoint_classifier\\keypoint_classifier.hdf5\n",
      "28/28 [==============================] - 0s 2ms/step - loss: 0.4852 - accuracy: 0.8201 - val_loss: 0.2263 - val_accuracy: 0.9662\n",
      "Epoch 146/1000\n",
      " 1/28 [>.............................] - ETA: 0s - loss: 0.4607 - accuracy: 0.8203\n",
      "Epoch 146: saving model to model/keypoint_classifier\\keypoint_classifier.hdf5\n",
      "28/28 [==============================] - 0s 2ms/step - loss: 0.5029 - accuracy: 0.8151 - val_loss: 0.2293 - val_accuracy: 0.9713\n",
      "Epoch 147/1000\n",
      " 1/28 [>.............................] - ETA: 0s - loss: 0.3693 - accuracy: 0.8672\n",
      "Epoch 147: saving model to model/keypoint_classifier\\keypoint_classifier.hdf5\n",
      "28/28 [==============================] - 0s 2ms/step - loss: 0.4996 - accuracy: 0.8091 - val_loss: 0.2271 - val_accuracy: 0.9696\n",
      "Epoch 148/1000\n",
      " 1/28 [>.............................] - ETA: 0s - loss: 0.5422 - accuracy: 0.8125\n",
      "Epoch 148: saving model to model/keypoint_classifier\\keypoint_classifier.hdf5\n",
      "28/28 [==============================] - 0s 2ms/step - loss: 0.5014 - accuracy: 0.8139 - val_loss: 0.2287 - val_accuracy: 0.9721\n",
      "Epoch 149/1000\n",
      " 1/28 [>.............................] - ETA: 0s - loss: 0.5091 - accuracy: 0.8125\n",
      "Epoch 149: saving model to model/keypoint_classifier\\keypoint_classifier.hdf5\n",
      "28/28 [==============================] - 0s 2ms/step - loss: 0.4956 - accuracy: 0.8201 - val_loss: 0.2258 - val_accuracy: 0.9713\n",
      "Epoch 150/1000\n",
      " 1/28 [>.............................] - ETA: 0s - loss: 0.4796 - accuracy: 0.7891\n",
      "Epoch 150: saving model to model/keypoint_classifier\\keypoint_classifier.hdf5\n",
      "28/28 [==============================] - 0s 2ms/step - loss: 0.5095 - accuracy: 0.8080 - val_loss: 0.2315 - val_accuracy: 0.9687\n",
      "Epoch 151/1000\n",
      " 1/28 [>.............................] - ETA: 0s - loss: 0.5897 - accuracy: 0.7812\n",
      "Epoch 151: saving model to model/keypoint_classifier\\keypoint_classifier.hdf5\n",
      "28/28 [==============================] - 0s 2ms/step - loss: 0.4957 - accuracy: 0.8153 - val_loss: 0.2295 - val_accuracy: 0.9704\n",
      "Epoch 152/1000\n",
      " 1/28 [>.............................] - ETA: 0s - loss: 0.4622 - accuracy: 0.7969\n",
      "Epoch 152: saving model to model/keypoint_classifier\\keypoint_classifier.hdf5\n",
      "28/28 [==============================] - 0s 2ms/step - loss: 0.4969 - accuracy: 0.8173 - val_loss: 0.2255 - val_accuracy: 0.9721\n",
      "Epoch 153/1000\n",
      " 1/28 [>.............................] - ETA: 0s - loss: 0.5367 - accuracy: 0.8203\n",
      "Epoch 153: saving model to model/keypoint_classifier\\keypoint_classifier.hdf5\n",
      "28/28 [==============================] - 0s 2ms/step - loss: 0.5014 - accuracy: 0.8072 - val_loss: 0.2222 - val_accuracy: 0.9721\n",
      "Epoch 154/1000\n",
      " 1/28 [>.............................] - ETA: 0s - loss: 0.4778 - accuracy: 0.8125\n",
      "Epoch 154: saving model to model/keypoint_classifier\\keypoint_classifier.hdf5\n",
      "28/28 [==============================] - 0s 2ms/step - loss: 0.4977 - accuracy: 0.8170 - val_loss: 0.2230 - val_accuracy: 0.9721\n",
      "Epoch 155/1000\n",
      " 1/28 [>.............................] - ETA: 0s - loss: 0.4983 - accuracy: 0.8203\n",
      "Epoch 155: saving model to model/keypoint_classifier\\keypoint_classifier.hdf5\n",
      "28/28 [==============================] - 0s 2ms/step - loss: 0.4975 - accuracy: 0.8083 - val_loss: 0.2270 - val_accuracy: 0.9687\n",
      "Epoch 156/1000\n",
      " 1/28 [>.............................] - ETA: 0s - loss: 0.4115 - accuracy: 0.8359\n",
      "Epoch 156: saving model to model/keypoint_classifier\\keypoint_classifier.hdf5\n",
      "28/28 [==============================] - 0s 2ms/step - loss: 0.4854 - accuracy: 0.8198 - val_loss: 0.2282 - val_accuracy: 0.9738\n",
      "Epoch 157/1000\n",
      " 1/28 [>.............................] - ETA: 0s - loss: 0.3823 - accuracy: 0.8438\n",
      "Epoch 157: saving model to model/keypoint_classifier\\keypoint_classifier.hdf5\n",
      "28/28 [==============================] - 0s 2ms/step - loss: 0.5045 - accuracy: 0.8069 - val_loss: 0.2228 - val_accuracy: 0.9696\n",
      "Epoch 158/1000\n",
      " 1/28 [>.............................] - ETA: 0s - loss: 0.5301 - accuracy: 0.8047\n",
      "Epoch 158: saving model to model/keypoint_classifier\\keypoint_classifier.hdf5\n",
      "28/28 [==============================] - 0s 2ms/step - loss: 0.4863 - accuracy: 0.8198 - val_loss: 0.2216 - val_accuracy: 0.9746\n",
      "Epoch 159/1000\n",
      " 1/28 [>.............................] - ETA: 0s - loss: 0.4838 - accuracy: 0.8359\n",
      "Epoch 159: saving model to model/keypoint_classifier\\keypoint_classifier.hdf5\n",
      "28/28 [==============================] - 0s 2ms/step - loss: 0.5023 - accuracy: 0.8091 - val_loss: 0.2290 - val_accuracy: 0.9704\n",
      "Epoch 160/1000\n",
      " 1/28 [>.............................] - ETA: 0s - loss: 0.5062 - accuracy: 0.7734\n",
      "Epoch 160: saving model to model/keypoint_classifier\\keypoint_classifier.hdf5\n",
      "28/28 [==============================] - 0s 2ms/step - loss: 0.4961 - accuracy: 0.8142 - val_loss: 0.2282 - val_accuracy: 0.9730\n",
      "Epoch 161/1000\n",
      " 1/28 [>.............................] - ETA: 0s - loss: 0.5119 - accuracy: 0.8047\n",
      "Epoch 161: saving model to model/keypoint_classifier\\keypoint_classifier.hdf5\n",
      "28/28 [==============================] - 0s 2ms/step - loss: 0.4788 - accuracy: 0.8201 - val_loss: 0.2245 - val_accuracy: 0.9730\n",
      "Epoch 162/1000\n",
      " 1/28 [>.............................] - ETA: 0s - loss: 0.5055 - accuracy: 0.7578\n",
      "Epoch 162: saving model to model/keypoint_classifier\\keypoint_classifier.hdf5\n",
      "28/28 [==============================] - 0s 2ms/step - loss: 0.4759 - accuracy: 0.8210 - val_loss: 0.2243 - val_accuracy: 0.9721\n",
      "Epoch 163/1000\n",
      " 1/28 [>.............................] - ETA: 0s - loss: 0.5478 - accuracy: 0.7969\n",
      "Epoch 163: saving model to model/keypoint_classifier\\keypoint_classifier.hdf5\n",
      "28/28 [==============================] - 0s 2ms/step - loss: 0.4768 - accuracy: 0.8246 - val_loss: 0.2207 - val_accuracy: 0.9763\n",
      "Epoch 164/1000\n",
      " 1/28 [>.............................] - ETA: 0s - loss: 0.4682 - accuracy: 0.8203\n",
      "Epoch 164: saving model to model/keypoint_classifier\\keypoint_classifier.hdf5\n",
      "28/28 [==============================] - 0s 2ms/step - loss: 0.4777 - accuracy: 0.8207 - val_loss: 0.2253 - val_accuracy: 0.9713\n",
      "Epoch 165/1000\n",
      " 1/28 [>.............................] - ETA: 0s - loss: 0.5713 - accuracy: 0.7656\n",
      "Epoch 165: saving model to model/keypoint_classifier\\keypoint_classifier.hdf5\n",
      "28/28 [==============================] - 0s 2ms/step - loss: 0.4982 - accuracy: 0.8089 - val_loss: 0.2274 - val_accuracy: 0.9696\n",
      "Epoch 166/1000\n",
      " 1/28 [>.............................] - ETA: 0s - loss: 0.3817 - accuracy: 0.8828\n",
      "Epoch 166: saving model to model/keypoint_classifier\\keypoint_classifier.hdf5\n",
      "28/28 [==============================] - 0s 2ms/step - loss: 0.4969 - accuracy: 0.8176 - val_loss: 0.2235 - val_accuracy: 0.9721\n",
      "Epoch 167/1000\n",
      " 1/28 [>.............................] - ETA: 0s - loss: 0.5849 - accuracy: 0.7969\n",
      "Epoch 167: saving model to model/keypoint_classifier\\keypoint_classifier.hdf5\n",
      "28/28 [==============================] - 0s 2ms/step - loss: 0.5167 - accuracy: 0.8072 - val_loss: 0.2293 - val_accuracy: 0.9713\n",
      "Epoch 168/1000\n",
      " 1/28 [>.............................] - ETA: 0s - loss: 0.5566 - accuracy: 0.7891\n",
      "Epoch 168: saving model to model/keypoint_classifier\\keypoint_classifier.hdf5\n",
      "28/28 [==============================] - 0s 2ms/step - loss: 0.4866 - accuracy: 0.8229 - val_loss: 0.2264 - val_accuracy: 0.9704\n",
      "Epoch 169/1000\n",
      " 1/28 [>.............................] - ETA: 0s - loss: 0.4815 - accuracy: 0.8125\n",
      "Epoch 169: saving model to model/keypoint_classifier\\keypoint_classifier.hdf5\n",
      "28/28 [==============================] - 0s 2ms/step - loss: 0.4891 - accuracy: 0.8215 - val_loss: 0.2255 - val_accuracy: 0.9713\n",
      "Epoch 170/1000\n",
      " 1/28 [>.............................] - ETA: 0s - loss: 0.4370 - accuracy: 0.8438\n",
      "Epoch 170: saving model to model/keypoint_classifier\\keypoint_classifier.hdf5\n",
      "28/28 [==============================] - 0s 2ms/step - loss: 0.5061 - accuracy: 0.8105 - val_loss: 0.2258 - val_accuracy: 0.9713\n",
      "Epoch 171/1000\n",
      " 1/28 [>.............................] - ETA: 0s - loss: 0.4559 - accuracy: 0.8203\n",
      "Epoch 171: saving model to model/keypoint_classifier\\keypoint_classifier.hdf5\n",
      "28/28 [==============================] - 0s 2ms/step - loss: 0.5049 - accuracy: 0.8089 - val_loss: 0.2262 - val_accuracy: 0.9738\n",
      "Epoch 172/1000\n",
      " 1/28 [>.............................] - ETA: 0s - loss: 0.4973 - accuracy: 0.7734\n",
      "Epoch 172: saving model to model/keypoint_classifier\\keypoint_classifier.hdf5\n",
      "28/28 [==============================] - 0s 2ms/step - loss: 0.4816 - accuracy: 0.8176 - val_loss: 0.2238 - val_accuracy: 0.9679\n",
      "Epoch 173/1000\n",
      " 1/28 [>.............................] - ETA: 0s - loss: 0.2976 - accuracy: 0.9062\n",
      "Epoch 173: saving model to model/keypoint_classifier\\keypoint_classifier.hdf5\n",
      "28/28 [==============================] - 0s 2ms/step - loss: 0.4631 - accuracy: 0.8269 - val_loss: 0.2241 - val_accuracy: 0.9721\n",
      "Epoch 174/1000\n",
      " 1/28 [>.............................] - ETA: 0s - loss: 0.4620 - accuracy: 0.7578\n",
      "Epoch 174: saving model to model/keypoint_classifier\\keypoint_classifier.hdf5\n",
      "28/28 [==============================] - 0s 2ms/step - loss: 0.4741 - accuracy: 0.8196 - val_loss: 0.2335 - val_accuracy: 0.9696\n",
      "Epoch 175/1000\n",
      " 1/28 [>.............................] - ETA: 0s - loss: 0.5391 - accuracy: 0.7891\n",
      "Epoch 175: saving model to model/keypoint_classifier\\keypoint_classifier.hdf5\n",
      "28/28 [==============================] - 0s 2ms/step - loss: 0.4818 - accuracy: 0.8173 - val_loss: 0.2346 - val_accuracy: 0.9687\n",
      "Epoch 176/1000\n",
      " 1/28 [>.............................] - ETA: 0s - loss: 0.5278 - accuracy: 0.8359\n",
      "Epoch 176: saving model to model/keypoint_classifier\\keypoint_classifier.hdf5\n",
      "28/28 [==============================] - 0s 2ms/step - loss: 0.4790 - accuracy: 0.8210 - val_loss: 0.2205 - val_accuracy: 0.9730\n",
      "Epoch 177/1000\n",
      " 1/28 [>.............................] - ETA: 0s - loss: 0.5071 - accuracy: 0.7734\n",
      "Epoch 177: saving model to model/keypoint_classifier\\keypoint_classifier.hdf5\n",
      "28/28 [==============================] - 0s 2ms/step - loss: 0.4906 - accuracy: 0.8184 - val_loss: 0.2207 - val_accuracy: 0.9721\n",
      "Epoch 178/1000\n",
      " 1/28 [>.............................] - ETA: 0s - loss: 0.5111 - accuracy: 0.7891\n",
      "Epoch 178: saving model to model/keypoint_classifier\\keypoint_classifier.hdf5\n",
      "28/28 [==============================] - 0s 2ms/step - loss: 0.4926 - accuracy: 0.8122 - val_loss: 0.2253 - val_accuracy: 0.9687\n",
      "Epoch 179/1000\n",
      " 1/28 [>.............................] - ETA: 0s - loss: 0.5036 - accuracy: 0.8203\n",
      "Epoch 179: saving model to model/keypoint_classifier\\keypoint_classifier.hdf5\n",
      "28/28 [==============================] - 0s 2ms/step - loss: 0.4837 - accuracy: 0.8182 - val_loss: 0.2209 - val_accuracy: 0.9696\n",
      "Epoch 180/1000\n",
      " 1/28 [>.............................] - ETA: 0s - loss: 0.5218 - accuracy: 0.8203\n",
      "Epoch 180: saving model to model/keypoint_classifier\\keypoint_classifier.hdf5\n",
      "28/28 [==============================] - 0s 2ms/step - loss: 0.4846 - accuracy: 0.8176 - val_loss: 0.2218 - val_accuracy: 0.9730\n",
      "Epoch 181/1000\n",
      " 1/28 [>.............................] - ETA: 0s - loss: 0.4476 - accuracy: 0.8438\n",
      "Epoch 181: saving model to model/keypoint_classifier\\keypoint_classifier.hdf5\n",
      "28/28 [==============================] - 0s 2ms/step - loss: 0.4873 - accuracy: 0.8108 - val_loss: 0.2232 - val_accuracy: 0.9730\n",
      "Epoch 182/1000\n",
      " 1/28 [>.............................] - ETA: 0s - loss: 0.5518 - accuracy: 0.8203\n",
      "Epoch 182: saving model to model/keypoint_classifier\\keypoint_classifier.hdf5\n",
      "28/28 [==============================] - 0s 2ms/step - loss: 0.4651 - accuracy: 0.8275 - val_loss: 0.2239 - val_accuracy: 0.9696\n",
      "Epoch 183/1000\n",
      " 1/28 [>.............................] - ETA: 0s - loss: 0.4441 - accuracy: 0.8125\n",
      "Epoch 183: saving model to model/keypoint_classifier\\keypoint_classifier.hdf5\n",
      "28/28 [==============================] - 0s 2ms/step - loss: 0.4812 - accuracy: 0.8224 - val_loss: 0.2254 - val_accuracy: 0.9679\n",
      "Epoch 184/1000\n",
      " 1/28 [>.............................] - ETA: 0s - loss: 0.4362 - accuracy: 0.8281\n",
      "Epoch 184: saving model to model/keypoint_classifier\\keypoint_classifier.hdf5\n",
      "28/28 [==============================] - 0s 2ms/step - loss: 0.4713 - accuracy: 0.8249 - val_loss: 0.2203 - val_accuracy: 0.9713\n",
      "Epoch 185/1000\n",
      " 1/28 [>.............................] - ETA: 0s - loss: 0.5500 - accuracy: 0.7969\n",
      "Epoch 185: saving model to model/keypoint_classifier\\keypoint_classifier.hdf5\n",
      "28/28 [==============================] - 0s 2ms/step - loss: 0.4950 - accuracy: 0.8165 - val_loss: 0.2232 - val_accuracy: 0.9704\n",
      "Epoch 186/1000\n",
      " 1/28 [>.............................] - ETA: 0s - loss: 0.4327 - accuracy: 0.8203\n",
      "Epoch 186: saving model to model/keypoint_classifier\\keypoint_classifier.hdf5\n",
      "28/28 [==============================] - 0s 2ms/step - loss: 0.4758 - accuracy: 0.8232 - val_loss: 0.2196 - val_accuracy: 0.9721\n",
      "Epoch 187/1000\n",
      " 1/28 [>.............................] - ETA: 0s - loss: 0.4363 - accuracy: 0.8594\n",
      "Epoch 187: saving model to model/keypoint_classifier\\keypoint_classifier.hdf5\n",
      "28/28 [==============================] - 0s 2ms/step - loss: 0.4855 - accuracy: 0.8207 - val_loss: 0.2237 - val_accuracy: 0.9670\n",
      "Epoch 188/1000\n",
      " 1/28 [>.............................] - ETA: 0s - loss: 0.4705 - accuracy: 0.8594\n",
      "Epoch 188: saving model to model/keypoint_classifier\\keypoint_classifier.hdf5\n",
      "28/28 [==============================] - 0s 2ms/step - loss: 0.4800 - accuracy: 0.8218 - val_loss: 0.2224 - val_accuracy: 0.9704\n",
      "Epoch 189/1000\n",
      " 1/28 [>.............................] - ETA: 0s - loss: 0.4995 - accuracy: 0.7891\n",
      "Epoch 189: saving model to model/keypoint_classifier\\keypoint_classifier.hdf5\n",
      "28/28 [==============================] - 0s 2ms/step - loss: 0.4679 - accuracy: 0.8345 - val_loss: 0.2207 - val_accuracy: 0.9730\n",
      "Epoch 190/1000\n",
      " 1/28 [>.............................] - ETA: 0s - loss: 0.4424 - accuracy: 0.8359\n",
      "Epoch 190: saving model to model/keypoint_classifier\\keypoint_classifier.hdf5\n",
      "28/28 [==============================] - 0s 2ms/step - loss: 0.4731 - accuracy: 0.8249 - val_loss: 0.2291 - val_accuracy: 0.9637\n",
      "Epoch 191/1000\n",
      " 1/28 [>.............................] - ETA: 0s - loss: 0.4498 - accuracy: 0.8047\n",
      "Epoch 191: saving model to model/keypoint_classifier\\keypoint_classifier.hdf5\n",
      "28/28 [==============================] - 0s 2ms/step - loss: 0.4672 - accuracy: 0.8215 - val_loss: 0.2212 - val_accuracy: 0.9713\n",
      "Epoch 192/1000\n",
      " 1/28 [>.............................] - ETA: 0s - loss: 0.5339 - accuracy: 0.8281\n",
      "Epoch 192: saving model to model/keypoint_classifier\\keypoint_classifier.hdf5\n",
      "28/28 [==============================] - 0s 2ms/step - loss: 0.4697 - accuracy: 0.8269 - val_loss: 0.2231 - val_accuracy: 0.9738\n",
      "Epoch 193/1000\n",
      " 1/28 [>.............................] - ETA: 0s - loss: 0.5908 - accuracy: 0.7344\n",
      "Epoch 193: saving model to model/keypoint_classifier\\keypoint_classifier.hdf5\n",
      "28/28 [==============================] - 0s 2ms/step - loss: 0.4874 - accuracy: 0.8167 - val_loss: 0.2351 - val_accuracy: 0.9679\n",
      "Epoch 194/1000\n",
      " 1/28 [>.............................] - ETA: 0s - loss: 0.4830 - accuracy: 0.8203\n",
      "Epoch 194: saving model to model/keypoint_classifier\\keypoint_classifier.hdf5\n",
      "28/28 [==============================] - 0s 2ms/step - loss: 0.4747 - accuracy: 0.8252 - val_loss: 0.2324 - val_accuracy: 0.9662\n",
      "Epoch 195/1000\n",
      " 1/28 [>.............................] - ETA: 0s - loss: 0.5560 - accuracy: 0.7891\n",
      "Epoch 195: saving model to model/keypoint_classifier\\keypoint_classifier.hdf5\n",
      "28/28 [==============================] - 0s 2ms/step - loss: 0.4798 - accuracy: 0.8204 - val_loss: 0.2361 - val_accuracy: 0.9645\n",
      "Epoch 196/1000\n",
      " 1/28 [>.............................] - ETA: 0s - loss: 0.5228 - accuracy: 0.7734\n",
      "Epoch 196: saving model to model/keypoint_classifier\\keypoint_classifier.hdf5\n",
      "28/28 [==============================] - 0s 2ms/step - loss: 0.4762 - accuracy: 0.8235 - val_loss: 0.2336 - val_accuracy: 0.9670\n",
      "Epoch 197/1000\n",
      " 1/28 [>.............................] - ETA: 0s - loss: 0.3393 - accuracy: 0.8516\n",
      "Epoch 197: saving model to model/keypoint_classifier\\keypoint_classifier.hdf5\n",
      "28/28 [==============================] - 0s 2ms/step - loss: 0.4603 - accuracy: 0.8300 - val_loss: 0.2278 - val_accuracy: 0.9653\n",
      "Epoch 198/1000\n",
      " 1/28 [>.............................] - ETA: 0s - loss: 0.5110 - accuracy: 0.7734\n",
      "Epoch 198: saving model to model/keypoint_classifier\\keypoint_classifier.hdf5\n",
      "28/28 [==============================] - 0s 2ms/step - loss: 0.4938 - accuracy: 0.8187 - val_loss: 0.2350 - val_accuracy: 0.9662\n",
      "Epoch 199/1000\n",
      " 1/28 [>.............................] - ETA: 0s - loss: 0.4100 - accuracy: 0.8594\n",
      "Epoch 199: saving model to model/keypoint_classifier\\keypoint_classifier.hdf5\n",
      "28/28 [==============================] - 0s 2ms/step - loss: 0.4917 - accuracy: 0.8145 - val_loss: 0.2371 - val_accuracy: 0.9645\n",
      "Epoch 200/1000\n",
      " 1/28 [>.............................] - ETA: 0s - loss: 0.4559 - accuracy: 0.8359\n",
      "Epoch 200: saving model to model/keypoint_classifier\\keypoint_classifier.hdf5\n",
      "28/28 [==============================] - 0s 2ms/step - loss: 0.4955 - accuracy: 0.8176 - val_loss: 0.2308 - val_accuracy: 0.9637\n",
      "Epoch 201/1000\n",
      " 1/28 [>.............................] - ETA: 0s - loss: 0.4980 - accuracy: 0.8125\n",
      "Epoch 201: saving model to model/keypoint_classifier\\keypoint_classifier.hdf5\n",
      "28/28 [==============================] - 0s 2ms/step - loss: 0.4689 - accuracy: 0.8294 - val_loss: 0.2379 - val_accuracy: 0.9662\n",
      "Epoch 202/1000\n",
      " 1/28 [>.............................] - ETA: 0s - loss: 0.4326 - accuracy: 0.8594\n",
      "Epoch 202: saving model to model/keypoint_classifier\\keypoint_classifier.hdf5\n",
      "28/28 [==============================] - 0s 2ms/step - loss: 0.4742 - accuracy: 0.8184 - val_loss: 0.2286 - val_accuracy: 0.9628\n",
      "Epoch 203/1000\n",
      " 1/28 [>.............................] - ETA: 0s - loss: 0.4090 - accuracy: 0.8438\n",
      "Epoch 203: saving model to model/keypoint_classifier\\keypoint_classifier.hdf5\n",
      "28/28 [==============================] - 0s 2ms/step - loss: 0.4582 - accuracy: 0.8325 - val_loss: 0.2276 - val_accuracy: 0.9662\n",
      "Epoch 204/1000\n",
      " 1/28 [>.............................] - ETA: 0s - loss: 0.4776 - accuracy: 0.7734\n",
      "Epoch 204: saving model to model/keypoint_classifier\\keypoint_classifier.hdf5\n",
      "28/28 [==============================] - 0s 2ms/step - loss: 0.4904 - accuracy: 0.8111 - val_loss: 0.2353 - val_accuracy: 0.9645\n",
      "Epoch 205/1000\n",
      " 1/28 [>.............................] - ETA: 0s - loss: 0.4075 - accuracy: 0.8516\n",
      "Epoch 205: saving model to model/keypoint_classifier\\keypoint_classifier.hdf5\n",
      "28/28 [==============================] - 0s 2ms/step - loss: 0.4770 - accuracy: 0.8165 - val_loss: 0.2273 - val_accuracy: 0.9670\n",
      "Epoch 206/1000\n",
      " 1/28 [>.............................] - ETA: 0s - loss: 0.4664 - accuracy: 0.8125\n",
      "Epoch 206: saving model to model/keypoint_classifier\\keypoint_classifier.hdf5\n",
      "28/28 [==============================] - 0s 2ms/step - loss: 0.4843 - accuracy: 0.8201 - val_loss: 0.2345 - val_accuracy: 0.9560\n",
      "Epoch 206: early stopping\n"
     ]
    },
    {
     "data": {
      "text/plain": [
       "<keras.callbacks.History at 0x2016380bc10>"
      ]
     },
     "execution_count": 11,
     "metadata": {},
     "output_type": "execute_result"
    }
   ],
   "source": [
    "model.fit(\n",
    "    X_train,\n",
    "    y_train,\n",
    "    epochs=1000,\n",
    "    batch_size=128,\n",
    "    validation_data=(X_test, y_test),\n",
    "    callbacks=[cp_callback, es_callback]\n",
    ")"
   ]
  },
  {
   "cell_type": "code",
   "execution_count": 12,
   "metadata": {
    "colab": {
     "base_uri": "https://localhost:8080/"
    },
    "id": "pxvb2Y299hE3",
    "outputId": "59eb3185-2e37-4b9e-bc9d-ab1b8ac29b7f"
   },
   "outputs": [
    {
     "name": "stdout",
     "output_type": "stream",
     "text": [
      "10/10 [==============================] - 0s 667us/step - loss: 0.2345 - accuracy: 0.9560\n"
     ]
    }
   ],
   "source": [
    "# Model evaluation\n",
    "val_loss, val_acc = model.evaluate(X_test, y_test, batch_size=128)"
   ]
  },
  {
   "cell_type": "code",
   "execution_count": 13,
   "metadata": {
    "id": "RBkmDeUW9hE4"
   },
   "outputs": [],
   "source": [
    "# Loading the saved model\n",
    "model = tf.keras.models.load_model(model_save_path)"
   ]
  },
  {
   "cell_type": "code",
   "execution_count": 14,
   "metadata": {
    "colab": {
     "base_uri": "https://localhost:8080/"
    },
    "id": "tFz9Tb0I9hE4",
    "outputId": "1c3b3528-54ae-4ee2-ab04-77429211cbef"
   },
   "outputs": [
    {
     "name": "stdout",
     "output_type": "stream",
     "text": [
      "[0.04985807 0.07093773 0.8639351  0.01526904]\n",
      "2\n"
     ]
    }
   ],
   "source": [
    "# Inference test\n",
    "predict_result = model.predict(np.array([X_test[0]]))\n",
    "print(np.squeeze(predict_result))\n",
    "print(np.argmax(np.squeeze(predict_result)))"
   ]
  },
  {
   "cell_type": "markdown",
   "metadata": {
    "id": "S3U4yNWx9hE4"
   },
   "source": [
    "# Confusion matrix"
   ]
  },
  {
   "cell_type": "code",
   "execution_count": 15,
   "metadata": {
    "colab": {
     "base_uri": "https://localhost:8080/",
     "height": 582
    },
    "id": "AP1V6SCk9hE5",
    "outputId": "08e41a80-7a4a-4619-8125-ecc371368d19"
   },
   "outputs": [
    {
     "data": {
      "image/png": "[encoded data removed]",
      "text/plain": [
       "<Figure size 504x432 with 2 Axes>"
      ]
     },
     "metadata": {
      "needs_background": "light"
     },
     "output_type": "display_data"
    },
    {
     "name": "stdout",
     "output_type": "stream",
     "text": [
      "Classification Report\n",
      "              precision    recall  f1-score   support\n",
      "\n",
      "           0       0.99      0.93      0.96       406\n",
      "           1       0.92      0.96      0.94       382\n",
      "           2       0.96      0.98      0.97       324\n",
      "           3       0.91      0.97      0.94        71\n",
      "\n",
      "    accuracy                           0.96      1183\n",
      "   macro avg       0.95      0.96      0.95      1183\n",
      "weighted avg       0.96      0.96      0.96      1183\n",
      "\n"
     ]
    }
   ],
   "source": [
    "import pandas as pd\n",
    "import seaborn as sns\n",
    "import matplotlib.pyplot as plt\n",
    "from sklearn.metrics import confusion_matrix, classification_report\n",
    "\n",
    "def print_confusion_matrix(y_true, y_pred, report=True):\n",
    "    labels = sorted(list(set(y_true)))\n",
    "    cmx_data = confusion_matrix(y_true, y_pred, labels=labels)\n",
    "    \n",
    "    df_cmx = pd.DataFrame(cmx_data, index=labels, columns=labels)\n",
    " \n",
    "    fig, ax = plt.subplots(figsize=(7, 6))\n",
    "    sns.heatmap(df_cmx, annot=True, fmt='g' ,square=False)\n",
    "    ax.set_ylim(len(set(y_true)), 0)\n",
    "    plt.show()\n",
    "    \n",
    "    if report:\n",
    "        print('Classification Report')\n",
    "        print(classification_report(y_test, y_pred))\n",
    "\n",
    "Y_pred = model.predict(X_test)\n",
    "y_pred = np.argmax(Y_pred, axis=1)\n",
    "\n",
    "print_confusion_matrix(y_test, y_pred)"
   ]
  },
  {
   "cell_type": "markdown",
   "metadata": {
    "id": "FNP6aqzc9hE5"
   },
   "source": [
    "# Convert to model for Tensorflow-Lite"
   ]
  },
  {
   "cell_type": "code",
   "execution_count": 16,
   "metadata": {
    "id": "ODjnYyld9hE6"
   },
   "outputs": [],
   "source": [
    "# Save as a model dedicated to inference\n",
    "model.save(model_save_path, include_optimizer=False)"
   ]
  },
  {
   "cell_type": "code",
   "execution_count": 17,
   "metadata": {
    "colab": {
     "base_uri": "https://localhost:8080/"
    },
    "id": "zRfuK8Y59hE6",
    "outputId": "a4ca585c-b5d5-4244-8291-8674063209bb"
   },
   "outputs": [
    {
     "name": "stdout",
     "output_type": "stream",
     "text": [
      "INFO:tensorflow:Assets written to: C:\\Users\\Xia0D\\AppData\\Local\\Temp\\tmpu51ewteh\\assets\n"
     ]
    },
    {
     "name": "stderr",
     "output_type": "stream",
     "text": [
      "WARNING:absl:Buffer deduplication procedure will be skipped when flatbuffer library is not properly loaded\n"
     ]
    },
    {
     "data": {
      "text/plain": [
       "6416"
      ]
     },
     "execution_count": 17,
     "metadata": {},
     "output_type": "execute_result"
    }
   ],
   "source": [
    "# Transform model (quantization)\n",
    "\n",
    "converter = tf.lite.TFLiteConverter.from_keras_model(model)\n",
    "converter.optimizations = [tf.lite.Optimize.DEFAULT]\n",
    "tflite_quantized_model = converter.convert()\n",
    "\n",
    "open(tflite_save_path, 'wb').write(tflite_quantized_model)"
   ]
  },
  {
   "cell_type": "markdown",
   "metadata": {
    "id": "CHBPBXdx9hE6"
   },
   "source": [
    "# Inference test"
   ]
  },
  {
   "cell_type": "code",
   "execution_count": 18,
   "metadata": {
    "id": "mGAzLocO9hE7"
   },
   "outputs": [],
   "source": [
    "interpreter = tf.lite.Interpreter(model_path=tflite_save_path)\n",
    "interpreter.allocate_tensors()"
   ]
  },
  {
   "cell_type": "code",
   "execution_count": 19,
   "metadata": {
    "id": "oQuDK8YS9hE7"
   },
   "outputs": [],
   "source": [
    "# Get I / O tensor\n",
    "input_details = interpreter.get_input_details()\n",
    "output_details = interpreter.get_output_details()"
   ]
  },
  {
   "cell_type": "code",
   "execution_count": 20,
   "metadata": {
    "id": "2_ixAf_l9hE7"
   },
   "outputs": [],
   "source": [
    "interpreter.set_tensor(input_details[0]['index'], np.array([X_test[0]]))"
   ]
  },
  {
   "cell_type": "code",
   "execution_count": 21,
   "metadata": {
    "colab": {
     "base_uri": "https://localhost:8080/"
    },
    "id": "s4FoAnuc9hE7",
    "outputId": "91f18257-8d8b-4ef3-c558-e9b5f94fabbf",
    "scrolled": true
   },
   "outputs": [
    {
     "name": "stdout",
     "output_type": "stream",
     "text": [
      "CPU times: total: 0 ns\n",
      "Wall time: 0 ns\n"
     ]
    }
   ],
   "source": [
    "%%time\n",
    "# Inference implementation\n",
    "interpreter.invoke()\n",
    "tflite_results = interpreter.get_tensor(output_details[0]['index'])"
   ]
  },
  {
   "cell_type": "code",
   "execution_count": 22,
   "metadata": {
    "colab": {
     "base_uri": "https://localhost:8080/"
    },
    "id": "vONjp19J9hE8",
    "outputId": "77205e24-fd00-42c4-f7b6-e06e527c2cba"
   },
   "outputs": [
    {
     "name": "stdout",
     "output_type": "stream",
     "text": [
      "[0.04985808 0.07093775 0.8639351  0.01526904]\n",
      "2\n"
     ]
    }
   ],
   "source": [
    "print(np.squeeze(tflite_results))\n",
    "print(np.argmax(np.squeeze(tflite_results)))"
   ]
  }
 ],
 "metadata": {
  "accelerator": "GPU",
  "colab": {
   "collapsed_sections": [],
   "name": "keypoint_classification_EN.ipynb",
   "provenance": [],
   "toc_visible": true
  },
  "kernelspec": {
   "display_name": "Python 3 (ipykernel)",
   "language": "python",
   "name": "python3"
  },
  "language_info": {
   "codemirror_mode": {
    "name": "ipython",
    "version": 3
   },
   "file_extension": ".py",
   "mimetype": "text/x-python",
   "name": "python",
   "nbconvert_exporter": "python",
   "pygments_lexer": "ipython3",
   "version": "3.8.8"
  }
 },
 "nbformat": 4,
 "nbformat_minor": 1
}
