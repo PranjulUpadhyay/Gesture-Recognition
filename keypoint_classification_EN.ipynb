{
 "cells": [
  {
   "cell_type": "code",
   "execution_count": 1,
   "metadata": {
    "id": "igMyGnjE9hEp"
   },
   "outputs": [],
   "source": [
    "import csv\n",
    "\n",
    "import numpy as np\n",
    "import tensorflow as tf\n",
    "from sklearn.model_selection import train_test_split\n",
    "\n",
    "RANDOM_SEED = 42"
   ]
  },
  {
   "cell_type": "markdown",
   "metadata": {
    "id": "t2HDvhIu9hEr"
   },
   "source": [
    "# Specify each path"
   ]
  },
  {
   "cell_type": "code",
   "execution_count": 2,
   "metadata": {
    "id": "9NvZP2Zn9hEy"
   },
   "outputs": [],
   "source": [
    "dataset = 'model/keypoint_classifier/keypoint.csv'\n",
    "model_save_path = 'model/keypoint_classifier/keypoint_classifier.hdf5'\n",
    "tflite_save_path = 'model/keypoint_classifier/keypoint_classifier.tflite'"
   ]
  },
  {
   "cell_type": "markdown",
   "metadata": {
    "id": "s5oMH7x19hEz"
   },
   "source": [
    "# Set number of classes"
   ]
  },
  {
   "cell_type": "code",
   "execution_count": 13,
   "metadata": {
    "id": "du4kodXL9hEz"
   },
   "outputs": [],
   "source": [
    "NUM_CLASSES = 5"
   ]
  },
  {
   "cell_type": "markdown",
   "metadata": {
    "id": "XjnL0uso9hEz"
   },
   "source": [
    "# Dataset reading"
   ]
  },
  {
   "cell_type": "code",
   "execution_count": 14,
   "metadata": {
    "id": "QT5ZqtEz9hE0"
   },
   "outputs": [],
   "source": [
    "X_dataset = np.loadtxt(dataset, delimiter=',', dtype='float32', usecols=list(range(1, (21 * 2) + 1)))"
   ]
  },
  {
   "cell_type": "code",
   "execution_count": 15,
   "metadata": {
    "id": "QmoKFsp49hE0"
   },
   "outputs": [],
   "source": [
    "y_dataset = np.loadtxt(dataset, delimiter=',', dtype='int32', usecols=(0))"
   ]
  },
  {
   "cell_type": "code",
   "execution_count": 16,
   "metadata": {
    "id": "xQU7JTZ_9hE0"
   },
   "outputs": [],
   "source": [
    "X_train, X_test, y_train, y_test = train_test_split(X_dataset, y_dataset, train_size=0.75, random_state=RANDOM_SEED)"
   ]
  },
  {
   "cell_type": "markdown",
   "metadata": {
    "id": "mxK_lETT9hE0"
   },
   "source": [
    "# Model building"
   ]
  },
  {
   "cell_type": "code",
   "execution_count": 17,
   "metadata": {
    "id": "vHBmUf1t9hE1"
   },
   "outputs": [
    {
     "name": "stdout",
     "output_type": "stream",
     "text": [
      "WARNING:tensorflow:Please add `keras.layers.InputLayer` instead of `keras.Input` to Sequential model. `keras.Input` is intended to be used by Functional model.\n"
     ]
    }
   ],
   "source": [
    "model = tf.keras.models.Sequential([\n",
    "    tf.keras.layers.Input((21 * 2, )),\n",
    "    tf.keras.layers.Dropout(0.2),\n",
    "    tf.keras.layers.Dense(20, activation='relu'),\n",
    "    tf.keras.layers.Dropout(0.4),\n",
    "    tf.keras.layers.Dense(10, activation='relu'),\n",
    "    tf.keras.layers.Dense(NUM_CLASSES, activation='softmax')\n",
    "])"
   ]
  },
  {
   "cell_type": "code",
   "execution_count": 18,
   "metadata": {
    "colab": {
     "base_uri": "https://localhost:8080/"
    },
    "id": "ypqky9tc9hE1",
    "outputId": "5db082bb-30e3-4110-bf63-a1ee777ecd46"
   },
   "outputs": [
    {
     "name": "stdout",
     "output_type": "stream",
     "text": [
      "Model: \"sequential_1\"\n",
      "_________________________________________________________________\n",
      "Layer (type)                 Output Shape              Param #   \n",
      "=================================================================\n",
      "dropout_2 (Dropout)          (None, 42)                0         \n",
      "_________________________________________________________________\n",
      "dense_3 (Dense)              (None, 20)                860       \n",
      "_________________________________________________________________\n",
      "dropout_3 (Dropout)          (None, 20)                0         \n",
      "_________________________________________________________________\n",
      "dense_4 (Dense)              (None, 10)                210       \n",
      "_________________________________________________________________\n",
      "dense_5 (Dense)              (None, 5)                 55        \n",
      "=================================================================\n",
      "Total params: 1,125\n",
      "Trainable params: 1,125\n",
      "Non-trainable params: 0\n",
      "_________________________________________________________________\n"
     ]
    }
   ],
   "source": [
    "model.summary()  # tf.keras.utils.plot_model(model, show_shapes=True)"
   ]
  },
  {
   "cell_type": "code",
   "execution_count": 19,
   "metadata": {
    "id": "MbMjOflQ9hE1"
   },
   "outputs": [],
   "source": [
    "# Model checkpoint callback\n",
    "cp_callback = tf.keras.callbacks.ModelCheckpoint(\n",
    "    model_save_path, verbose=1, save_weights_only=False)\n",
    "# Callback for early stopping\n",
    "es_callback = tf.keras.callbacks.EarlyStopping(patience=20, verbose=1)"
   ]
  },
  {
   "cell_type": "code",
   "execution_count": 20,
   "metadata": {
    "id": "c3Dac0M_9hE2"
   },
   "outputs": [],
   "source": [
    "# Model compilation\n",
    "model.compile(\n",
    "    optimizer='adam',\n",
    "    loss='sparse_categorical_crossentropy',\n",
    "    metrics=['accuracy']\n",
    ")"
   ]
  },
  {
   "cell_type": "markdown",
   "metadata": {
    "id": "7XI0j1Iu9hE2"
   },
   "source": [
    "# Model training"
   ]
  },
  {
   "cell_type": "code",
   "execution_count": 21,
   "metadata": {
    "colab": {
     "base_uri": "https://localhost:8080/"
    },
    "id": "WirBl-JE9hE3",
    "outputId": "71b30ca2-8294-4d9d-8aa2-800d90d399de",
    "scrolled": true
   },
   "outputs": [
    {
     "name": "stdout",
     "output_type": "stream",
     "text": [
      "Epoch 1/1000\n",
      "31/31 [==============================] - 0s 5ms/step - loss: 1.5996 - accuracy: 0.2564 - val_loss: 1.5200 - val_accuracy: 0.3257\n",
      "\n",
      "Epoch 00001: saving model to model/keypoint_classifier\\keypoint_classifier.hdf5\n",
      "Epoch 2/1000\n",
      "31/31 [==============================] - 0s 1ms/step - loss: 1.5101 - accuracy: 0.3207 - val_loss: 1.4453 - val_accuracy: 0.3554\n",
      "\n",
      "Epoch 00002: saving model to model/keypoint_classifier\\keypoint_classifier.hdf5\n",
      "Epoch 3/1000\n",
      "31/31 [==============================] - 0s 1ms/step - loss: 1.4324 - accuracy: 0.3660 - val_loss: 1.3141 - val_accuracy: 0.4837\n",
      "\n",
      "Epoch 00003: saving model to model/keypoint_classifier\\keypoint_classifier.hdf5\n",
      "Epoch 4/1000\n",
      "31/31 [==============================] - 0s 1ms/step - loss: 1.3444 - accuracy: 0.4115 - val_loss: 1.1835 - val_accuracy: 0.5801\n",
      "\n",
      "Epoch 00004: saving model to model/keypoint_classifier\\keypoint_classifier.hdf5\n",
      "Epoch 5/1000\n",
      "31/31 [==============================] - 0s 1ms/step - loss: 1.2732 - accuracy: 0.4510 - val_loss: 1.0991 - val_accuracy: 0.6522\n",
      "\n",
      "Epoch 00005: saving model to model/keypoint_classifier\\keypoint_classifier.hdf5\n",
      "Epoch 6/1000\n",
      "31/31 [==============================] - 0s 1ms/step - loss: 1.2304 - accuracy: 0.4665 - val_loss: 1.0212 - val_accuracy: 0.6659\n",
      "\n",
      "Epoch 00006: saving model to model/keypoint_classifier\\keypoint_classifier.hdf5\n",
      "Epoch 7/1000\n",
      "31/31 [==============================] - 0s 1ms/step - loss: 1.1707 - accuracy: 0.4872 - val_loss: 0.9616 - val_accuracy: 0.6834\n",
      "\n",
      "Epoch 00007: saving model to model/keypoint_classifier\\keypoint_classifier.hdf5\n",
      "Epoch 8/1000\n",
      "31/31 [==============================] - 0s 1ms/step - loss: 1.1472 - accuracy: 0.5077 - val_loss: 0.9071 - val_accuracy: 0.6856\n",
      "\n",
      "Epoch 00008: saving model to model/keypoint_classifier\\keypoint_classifier.hdf5\n",
      "Epoch 9/1000\n",
      "31/31 [==============================] - 0s 1ms/step - loss: 1.0978 - accuracy: 0.5313 - val_loss: 0.8413 - val_accuracy: 0.7062\n",
      "\n",
      "Epoch 00009: saving model to model/keypoint_classifier\\keypoint_classifier.hdf5\n",
      "Epoch 10/1000\n",
      "31/31 [==============================] - 0s 1ms/step - loss: 1.0566 - accuracy: 0.5338 - val_loss: 0.7833 - val_accuracy: 0.7608\n",
      "\n",
      "Epoch 00010: saving model to model/keypoint_classifier\\keypoint_classifier.hdf5\n",
      "Epoch 11/1000\n",
      "31/31 [==============================] - 0s 1ms/step - loss: 1.0240 - accuracy: 0.5513 - val_loss: 0.7365 - val_accuracy: 0.8056\n",
      "\n",
      "Epoch 00011: saving model to model/keypoint_classifier\\keypoint_classifier.hdf5\n",
      "Epoch 12/1000\n",
      "31/31 [==============================] - 0s 1ms/step - loss: 0.9877 - accuracy: 0.5776 - val_loss: 0.6855 - val_accuracy: 0.8489\n",
      "\n",
      "Epoch 00012: saving model to model/keypoint_classifier\\keypoint_classifier.hdf5\n",
      "Epoch 13/1000\n",
      "31/31 [==============================] - 0s 1ms/step - loss: 0.9507 - accuracy: 0.5961 - val_loss: 0.6317 - val_accuracy: 0.8846\n",
      "\n",
      "Epoch 00013: saving model to model/keypoint_classifier\\keypoint_classifier.hdf5\n",
      "Epoch 14/1000\n",
      "31/31 [==============================] - 0s 1ms/step - loss: 0.9159 - accuracy: 0.6163 - val_loss: 0.6006 - val_accuracy: 0.8922\n",
      "\n",
      "Epoch 00014: saving model to model/keypoint_classifier\\keypoint_classifier.hdf5\n",
      "Epoch 15/1000\n",
      "31/31 [==============================] - 0s 1ms/step - loss: 0.8994 - accuracy: 0.6239 - val_loss: 0.5671 - val_accuracy: 0.9013\n",
      "\n",
      "Epoch 00015: saving model to model/keypoint_classifier\\keypoint_classifier.hdf5\n",
      "Epoch 16/1000\n",
      "31/31 [==============================] - 0s 1ms/step - loss: 0.8880 - accuracy: 0.6340 - val_loss: 0.5397 - val_accuracy: 0.8998\n",
      "\n",
      "Epoch 00016: saving model to model/keypoint_classifier\\keypoint_classifier.hdf5\n",
      "Epoch 17/1000\n",
      "31/31 [==============================] - 0s 1ms/step - loss: 0.8445 - accuracy: 0.6522 - val_loss: 0.5136 - val_accuracy: 0.9096\n",
      "\n",
      "Epoch 00017: saving model to model/keypoint_classifier\\keypoint_classifier.hdf5\n",
      "Epoch 18/1000\n",
      "31/31 [==============================] - 0s 1ms/step - loss: 0.8326 - accuracy: 0.6626 - val_loss: 0.4845 - val_accuracy: 0.9127\n",
      "\n",
      "Epoch 00018: saving model to model/keypoint_classifier\\keypoint_classifier.hdf5\n",
      "Epoch 19/1000\n",
      "31/31 [==============================] - 0s 1ms/step - loss: 0.8074 - accuracy: 0.6646 - val_loss: 0.4639 - val_accuracy: 0.9301\n",
      "\n",
      "Epoch 00019: saving model to model/keypoint_classifier\\keypoint_classifier.hdf5\n",
      "Epoch 20/1000\n",
      "31/31 [==============================] - 0s 1ms/step - loss: 0.8050 - accuracy: 0.6773 - val_loss: 0.4531 - val_accuracy: 0.9370\n",
      "\n",
      "Epoch 00020: saving model to model/keypoint_classifier\\keypoint_classifier.hdf5\n",
      "Epoch 21/1000\n",
      "31/31 [==============================] - 0s 1ms/step - loss: 0.7837 - accuracy: 0.6826 - val_loss: 0.4358 - val_accuracy: 0.9324\n",
      "\n",
      "Epoch 00021: saving model to model/keypoint_classifier\\keypoint_classifier.hdf5\n",
      "Epoch 22/1000\n",
      "31/31 [==============================] - 0s 1ms/step - loss: 0.7762 - accuracy: 0.6872 - val_loss: 0.4337 - val_accuracy: 0.9415\n",
      "\n",
      "Epoch 00022: saving model to model/keypoint_classifier\\keypoint_classifier.hdf5\n",
      "Epoch 23/1000\n",
      "31/31 [==============================] - 0s 1ms/step - loss: 0.7621 - accuracy: 0.6960 - val_loss: 0.4214 - val_accuracy: 0.9408\n",
      "\n",
      "Epoch 00023: saving model to model/keypoint_classifier\\keypoint_classifier.hdf5\n",
      "Epoch 24/1000\n",
      "31/31 [==============================] - 0s 1ms/step - loss: 0.7421 - accuracy: 0.7008 - val_loss: 0.4033 - val_accuracy: 0.9423\n",
      "\n",
      "Epoch 00024: saving model to model/keypoint_classifier\\keypoint_classifier.hdf5\n",
      "Epoch 25/1000\n",
      "31/31 [==============================] - 0s 1ms/step - loss: 0.7375 - accuracy: 0.7165 - val_loss: 0.3890 - val_accuracy: 0.9438\n",
      "\n",
      "Epoch 00025: saving model to model/keypoint_classifier\\keypoint_classifier.hdf5\n",
      "Epoch 26/1000\n",
      "31/31 [==============================] - 0s 1ms/step - loss: 0.7487 - accuracy: 0.7003 - val_loss: 0.3917 - val_accuracy: 0.9468\n",
      "\n",
      "Epoch 00026: saving model to model/keypoint_classifier\\keypoint_classifier.hdf5\n",
      "Epoch 27/1000\n",
      "31/31 [==============================] - 0s 1ms/step - loss: 0.7176 - accuracy: 0.7097 - val_loss: 0.3786 - val_accuracy: 0.9453\n",
      "\n",
      "Epoch 00027: saving model to model/keypoint_classifier\\keypoint_classifier.hdf5\n",
      "Epoch 28/1000\n",
      "31/31 [==============================] - 0s 1ms/step - loss: 0.6930 - accuracy: 0.7251 - val_loss: 0.3648 - val_accuracy: 0.9438\n",
      "\n",
      "Epoch 00028: saving model to model/keypoint_classifier\\keypoint_classifier.hdf5\n",
      "Epoch 29/1000\n",
      "31/31 [==============================] - 0s 1ms/step - loss: 0.7140 - accuracy: 0.7188 - val_loss: 0.3592 - val_accuracy: 0.9461\n",
      "\n",
      "Epoch 00029: saving model to model/keypoint_classifier\\keypoint_classifier.hdf5\n",
      "Epoch 30/1000\n",
      "31/31 [==============================] - 0s 1ms/step - loss: 0.7038 - accuracy: 0.7264 - val_loss: 0.3552 - val_accuracy: 0.9514\n",
      "\n",
      "Epoch 00030: saving model to model/keypoint_classifier\\keypoint_classifier.hdf5\n",
      "Epoch 31/1000\n",
      "31/31 [==============================] - 0s 1ms/step - loss: 0.6885 - accuracy: 0.7256 - val_loss: 0.3440 - val_accuracy: 0.9476\n",
      "\n",
      "Epoch 00031: saving model to model/keypoint_classifier\\keypoint_classifier.hdf5\n",
      "Epoch 32/1000\n",
      "31/31 [==============================] - 0s 1ms/step - loss: 0.7035 - accuracy: 0.7158 - val_loss: 0.3481 - val_accuracy: 0.9499\n",
      "\n",
      "Epoch 00032: saving model to model/keypoint_classifier\\keypoint_classifier.hdf5\n",
      "Epoch 33/1000\n",
      "31/31 [==============================] - 0s 1ms/step - loss: 0.6802 - accuracy: 0.7274 - val_loss: 0.3425 - val_accuracy: 0.9476\n",
      "\n",
      "Epoch 00033: saving model to model/keypoint_classifier\\keypoint_classifier.hdf5\n",
      "Epoch 34/1000\n",
      "31/31 [==============================] - 0s 1ms/step - loss: 0.6712 - accuracy: 0.7391 - val_loss: 0.3302 - val_accuracy: 0.9506\n",
      "\n",
      "Epoch 00034: saving model to model/keypoint_classifier\\keypoint_classifier.hdf5\n",
      "Epoch 35/1000\n",
      "31/31 [==============================] - 0s 1ms/step - loss: 0.6620 - accuracy: 0.7363 - val_loss: 0.3312 - val_accuracy: 0.9438\n",
      "\n",
      "Epoch 00035: saving model to model/keypoint_classifier\\keypoint_classifier.hdf5\n",
      "Epoch 36/1000\n",
      "31/31 [==============================] - 0s 1ms/step - loss: 0.6511 - accuracy: 0.7411 - val_loss: 0.3255 - val_accuracy: 0.9461\n",
      "\n",
      "Epoch 00036: saving model to model/keypoint_classifier\\keypoint_classifier.hdf5\n",
      "Epoch 37/1000\n",
      "31/31 [==============================] - 0s 1ms/step - loss: 0.6637 - accuracy: 0.7418 - val_loss: 0.3185 - val_accuracy: 0.9461\n"
     ]
    },
    {
     "name": "stdout",
     "output_type": "stream",
     "text": [
      "\n",
      "Epoch 00037: saving model to model/keypoint_classifier\\keypoint_classifier.hdf5\n",
      "Epoch 38/1000\n",
      "31/31 [==============================] - 0s 1ms/step - loss: 0.6743 - accuracy: 0.7294 - val_loss: 0.3149 - val_accuracy: 0.9491\n",
      "\n",
      "Epoch 00038: saving model to model/keypoint_classifier\\keypoint_classifier.hdf5\n",
      "Epoch 39/1000\n",
      "31/31 [==============================] - 0s 1ms/step - loss: 0.6634 - accuracy: 0.7398 - val_loss: 0.3171 - val_accuracy: 0.9491\n",
      "\n",
      "Epoch 00039: saving model to model/keypoint_classifier\\keypoint_classifier.hdf5\n",
      "Epoch 40/1000\n",
      "31/31 [==============================] - 0s 1ms/step - loss: 0.6411 - accuracy: 0.7535 - val_loss: 0.3080 - val_accuracy: 0.9476\n",
      "\n",
      "Epoch 00040: saving model to model/keypoint_classifier\\keypoint_classifier.hdf5\n",
      "Epoch 41/1000\n",
      "31/31 [==============================] - 0s 1ms/step - loss: 0.6555 - accuracy: 0.7391 - val_loss: 0.3084 - val_accuracy: 0.9491\n",
      "\n",
      "Epoch 00041: saving model to model/keypoint_classifier\\keypoint_classifier.hdf5\n",
      "Epoch 42/1000\n",
      "31/31 [==============================] - 0s 1ms/step - loss: 0.6327 - accuracy: 0.7515 - val_loss: 0.2991 - val_accuracy: 0.9491\n",
      "\n",
      "Epoch 00042: saving model to model/keypoint_classifier\\keypoint_classifier.hdf5\n",
      "Epoch 43/1000\n",
      "31/31 [==============================] - 0s 1ms/step - loss: 0.6441 - accuracy: 0.7482 - val_loss: 0.2992 - val_accuracy: 0.9476\n",
      "\n",
      "Epoch 00043: saving model to model/keypoint_classifier\\keypoint_classifier.hdf5\n",
      "Epoch 44/1000\n",
      "31/31 [==============================] - 0s 1ms/step - loss: 0.6377 - accuracy: 0.7532 - val_loss: 0.2999 - val_accuracy: 0.9506\n",
      "\n",
      "Epoch 00044: saving model to model/keypoint_classifier\\keypoint_classifier.hdf5\n",
      "Epoch 45/1000\n",
      "31/31 [==============================] - 0s 1ms/step - loss: 0.6417 - accuracy: 0.7515 - val_loss: 0.2970 - val_accuracy: 0.9476\n",
      "\n",
      "Epoch 00045: saving model to model/keypoint_classifier\\keypoint_classifier.hdf5\n",
      "Epoch 46/1000\n",
      "31/31 [==============================] - 0s 1ms/step - loss: 0.6313 - accuracy: 0.7578 - val_loss: 0.2928 - val_accuracy: 0.9476\n",
      "\n",
      "Epoch 00046: saving model to model/keypoint_classifier\\keypoint_classifier.hdf5\n",
      "Epoch 47/1000\n",
      "31/31 [==============================] - 0s 1ms/step - loss: 0.6394 - accuracy: 0.7578 - val_loss: 0.2953 - val_accuracy: 0.9453\n",
      "\n",
      "Epoch 00047: saving model to model/keypoint_classifier\\keypoint_classifier.hdf5\n",
      "Epoch 48/1000\n",
      "31/31 [==============================] - 0s 1ms/step - loss: 0.6264 - accuracy: 0.7575 - val_loss: 0.2892 - val_accuracy: 0.9461\n",
      "\n",
      "Epoch 00048: saving model to model/keypoint_classifier\\keypoint_classifier.hdf5\n",
      "Epoch 49/1000\n",
      "31/31 [==============================] - 0s 1ms/step - loss: 0.6202 - accuracy: 0.7530 - val_loss: 0.2869 - val_accuracy: 0.9461\n",
      "\n",
      "Epoch 00049: saving model to model/keypoint_classifier\\keypoint_classifier.hdf5\n",
      "Epoch 50/1000\n",
      "31/31 [==============================] - 0s 1ms/step - loss: 0.6255 - accuracy: 0.7550 - val_loss: 0.2754 - val_accuracy: 0.9552\n",
      "\n",
      "Epoch 00050: saving model to model/keypoint_classifier\\keypoint_classifier.hdf5\n",
      "Epoch 51/1000\n",
      "31/31 [==============================] - 0s 1ms/step - loss: 0.6051 - accuracy: 0.7636 - val_loss: 0.2807 - val_accuracy: 0.9438\n",
      "\n",
      "Epoch 00051: saving model to model/keypoint_classifier\\keypoint_classifier.hdf5\n",
      "Epoch 52/1000\n",
      "31/31 [==============================] - 0s 1ms/step - loss: 0.6221 - accuracy: 0.7664 - val_loss: 0.2813 - val_accuracy: 0.9484\n",
      "\n",
      "Epoch 00052: saving model to model/keypoint_classifier\\keypoint_classifier.hdf5\n",
      "Epoch 53/1000\n",
      "31/31 [==============================] - 0s 1ms/step - loss: 0.5918 - accuracy: 0.7659 - val_loss: 0.2765 - val_accuracy: 0.9468\n",
      "\n",
      "Epoch 00053: saving model to model/keypoint_classifier\\keypoint_classifier.hdf5\n",
      "Epoch 54/1000\n",
      "31/31 [==============================] - 0s 1ms/step - loss: 0.6211 - accuracy: 0.7651 - val_loss: 0.2738 - val_accuracy: 0.9522\n",
      "\n",
      "Epoch 00054: saving model to model/keypoint_classifier\\keypoint_classifier.hdf5\n",
      "Epoch 55/1000\n",
      "31/31 [==============================] - 0s 1ms/step - loss: 0.5954 - accuracy: 0.7679 - val_loss: 0.2726 - val_accuracy: 0.9529\n",
      "\n",
      "Epoch 00055: saving model to model/keypoint_classifier\\keypoint_classifier.hdf5\n",
      "Epoch 56/1000\n",
      "31/31 [==============================] - 0s 1ms/step - loss: 0.5991 - accuracy: 0.7694 - val_loss: 0.2682 - val_accuracy: 0.9522\n",
      "\n",
      "Epoch 00056: saving model to model/keypoint_classifier\\keypoint_classifier.hdf5\n",
      "Epoch 57/1000\n",
      "31/31 [==============================] - 0s 1ms/step - loss: 0.6215 - accuracy: 0.7631 - val_loss: 0.2804 - val_accuracy: 0.9499\n",
      "\n",
      "Epoch 00057: saving model to model/keypoint_classifier\\keypoint_classifier.hdf5\n",
      "Epoch 58/1000\n",
      "31/31 [==============================] - 0s 1ms/step - loss: 0.5911 - accuracy: 0.7717 - val_loss: 0.2690 - val_accuracy: 0.9506\n",
      "\n",
      "Epoch 00058: saving model to model/keypoint_classifier\\keypoint_classifier.hdf5\n",
      "Epoch 59/1000\n",
      "31/31 [==============================] - 0s 1ms/step - loss: 0.6087 - accuracy: 0.7628 - val_loss: 0.2701 - val_accuracy: 0.9484\n",
      "\n",
      "Epoch 00059: saving model to model/keypoint_classifier\\keypoint_classifier.hdf5\n",
      "Epoch 60/1000\n",
      "31/31 [==============================] - 0s 1ms/step - loss: 0.6109 - accuracy: 0.7537 - val_loss: 0.2684 - val_accuracy: 0.9552\n",
      "\n",
      "Epoch 00060: saving model to model/keypoint_classifier\\keypoint_classifier.hdf5\n",
      "Epoch 61/1000\n",
      "31/31 [==============================] - 0s 1ms/step - loss: 0.5900 - accuracy: 0.7702 - val_loss: 0.2700 - val_accuracy: 0.9446\n",
      "\n",
      "Epoch 00061: saving model to model/keypoint_classifier\\keypoint_classifier.hdf5\n",
      "Epoch 62/1000\n",
      "31/31 [==============================] - 0s 1ms/step - loss: 0.6017 - accuracy: 0.7659 - val_loss: 0.2662 - val_accuracy: 0.9514\n",
      "\n",
      "Epoch 00062: saving model to model/keypoint_classifier\\keypoint_classifier.hdf5\n",
      "Epoch 63/1000\n",
      "31/31 [==============================] - 0s 1ms/step - loss: 0.5949 - accuracy: 0.7742 - val_loss: 0.2631 - val_accuracy: 0.9468\n",
      "\n",
      "Epoch 00063: saving model to model/keypoint_classifier\\keypoint_classifier.hdf5\n",
      "Epoch 64/1000\n",
      "31/31 [==============================] - 0s 1ms/step - loss: 0.5903 - accuracy: 0.7775 - val_loss: 0.2561 - val_accuracy: 0.9476\n",
      "\n",
      "Epoch 00064: saving model to model/keypoint_classifier\\keypoint_classifier.hdf5\n",
      "Epoch 65/1000\n",
      "31/31 [==============================] - 0s 1ms/step - loss: 0.5773 - accuracy: 0.7823 - val_loss: 0.2647 - val_accuracy: 0.9438\n",
      "\n",
      "Epoch 00065: saving model to model/keypoint_classifier\\keypoint_classifier.hdf5\n",
      "Epoch 66/1000\n",
      "31/31 [==============================] - 0s 1ms/step - loss: 0.5812 - accuracy: 0.7793 - val_loss: 0.2559 - val_accuracy: 0.9522\n",
      "\n",
      "Epoch 00066: saving model to model/keypoint_classifier\\keypoint_classifier.hdf5\n",
      "Epoch 67/1000\n",
      "31/31 [==============================] - 0s 1ms/step - loss: 0.5916 - accuracy: 0.7763 - val_loss: 0.2555 - val_accuracy: 0.9461\n",
      "\n",
      "Epoch 00067: saving model to model/keypoint_classifier\\keypoint_classifier.hdf5\n",
      "Epoch 68/1000\n",
      "31/31 [==============================] - 0s 1ms/step - loss: 0.5941 - accuracy: 0.7694 - val_loss: 0.2559 - val_accuracy: 0.9484\n",
      "\n",
      "Epoch 00068: saving model to model/keypoint_classifier\\keypoint_classifier.hdf5\n",
      "Epoch 69/1000\n",
      "31/31 [==============================] - 0s 1ms/step - loss: 0.5937 - accuracy: 0.7677 - val_loss: 0.2544 - val_accuracy: 0.9484\n",
      "\n",
      "Epoch 00069: saving model to model/keypoint_classifier\\keypoint_classifier.hdf5\n",
      "Epoch 70/1000\n",
      "31/31 [==============================] - 0s 1ms/step - loss: 0.5837 - accuracy: 0.7798 - val_loss: 0.2568 - val_accuracy: 0.9499\n",
      "\n",
      "Epoch 00070: saving model to model/keypoint_classifier\\keypoint_classifier.hdf5\n",
      "Epoch 71/1000\n",
      "31/31 [==============================] - 0s 1ms/step - loss: 0.5725 - accuracy: 0.7806 - val_loss: 0.2505 - val_accuracy: 0.9476\n",
      "\n",
      "Epoch 00071: saving model to model/keypoint_classifier\\keypoint_classifier.hdf5\n",
      "Epoch 72/1000\n",
      "31/31 [==============================] - 0s 1ms/step - loss: 0.5665 - accuracy: 0.7828 - val_loss: 0.2469 - val_accuracy: 0.9506\n",
      "\n",
      "Epoch 00072: saving model to model/keypoint_classifier\\keypoint_classifier.hdf5\n",
      "Epoch 73/1000\n",
      "31/31 [==============================] - 0s 1ms/step - loss: 0.5587 - accuracy: 0.7879 - val_loss: 0.2436 - val_accuracy: 0.9567\n",
      "\n",
      "Epoch 00073: saving model to model/keypoint_classifier\\keypoint_classifier.hdf5\n",
      "Epoch 74/1000\n"
     ]
    },
    {
     "name": "stdout",
     "output_type": "stream",
     "text": [
      "31/31 [==============================] - 0s 1ms/step - loss: 0.5742 - accuracy: 0.7836 - val_loss: 0.2522 - val_accuracy: 0.9514\n",
      "\n",
      "Epoch 00074: saving model to model/keypoint_classifier\\keypoint_classifier.hdf5\n",
      "Epoch 75/1000\n",
      "31/31 [==============================] - 0s 1ms/step - loss: 0.5632 - accuracy: 0.7839 - val_loss: 0.2455 - val_accuracy: 0.9560\n",
      "\n",
      "Epoch 00075: saving model to model/keypoint_classifier\\keypoint_classifier.hdf5\n",
      "Epoch 76/1000\n",
      "31/31 [==============================] - 0s 1ms/step - loss: 0.5643 - accuracy: 0.7803 - val_loss: 0.2441 - val_accuracy: 0.9438\n",
      "\n",
      "Epoch 00076: saving model to model/keypoint_classifier\\keypoint_classifier.hdf5\n",
      "Epoch 77/1000\n",
      "31/31 [==============================] - 0s 1ms/step - loss: 0.5791 - accuracy: 0.7793 - val_loss: 0.2425 - val_accuracy: 0.9552\n",
      "\n",
      "Epoch 00077: saving model to model/keypoint_classifier\\keypoint_classifier.hdf5\n",
      "Epoch 78/1000\n",
      "31/31 [==============================] - 0s 1ms/step - loss: 0.5565 - accuracy: 0.7811 - val_loss: 0.2418 - val_accuracy: 0.9537\n",
      "\n",
      "Epoch 00078: saving model to model/keypoint_classifier\\keypoint_classifier.hdf5\n",
      "Epoch 79/1000\n",
      "31/31 [==============================] - 0s 1ms/step - loss: 0.5392 - accuracy: 0.7925 - val_loss: 0.2390 - val_accuracy: 0.9529\n",
      "\n",
      "Epoch 00079: saving model to model/keypoint_classifier\\keypoint_classifier.hdf5\n",
      "Epoch 80/1000\n",
      "31/31 [==============================] - 0s 2ms/step - loss: 0.5717 - accuracy: 0.7699 - val_loss: 0.2429 - val_accuracy: 0.9575\n",
      "\n",
      "Epoch 00080: saving model to model/keypoint_classifier\\keypoint_classifier.hdf5\n",
      "Epoch 81/1000\n",
      "31/31 [==============================] - 0s 1ms/step - loss: 0.5763 - accuracy: 0.7788 - val_loss: 0.2432 - val_accuracy: 0.9537\n",
      "\n",
      "Epoch 00081: saving model to model/keypoint_classifier\\keypoint_classifier.hdf5\n",
      "Epoch 82/1000\n",
      "31/31 [==============================] - 0s 1ms/step - loss: 0.5473 - accuracy: 0.7990 - val_loss: 0.2365 - val_accuracy: 0.9514\n",
      "\n",
      "Epoch 00082: saving model to model/keypoint_classifier\\keypoint_classifier.hdf5\n",
      "Epoch 83/1000\n",
      "31/31 [==============================] - 0s 1ms/step - loss: 0.5560 - accuracy: 0.7864 - val_loss: 0.2348 - val_accuracy: 0.9514\n",
      "\n",
      "Epoch 00083: saving model to model/keypoint_classifier\\keypoint_classifier.hdf5\n",
      "Epoch 84/1000\n",
      "31/31 [==============================] - 0s 1ms/step - loss: 0.5458 - accuracy: 0.7973 - val_loss: 0.2335 - val_accuracy: 0.9544\n",
      "\n",
      "Epoch 00084: saving model to model/keypoint_classifier\\keypoint_classifier.hdf5\n",
      "Epoch 85/1000\n",
      "31/31 [==============================] - 0s 1ms/step - loss: 0.5633 - accuracy: 0.7833 - val_loss: 0.2414 - val_accuracy: 0.9506\n",
      "\n",
      "Epoch 00085: saving model to model/keypoint_classifier\\keypoint_classifier.hdf5\n",
      "Epoch 86/1000\n",
      "31/31 [==============================] - 0s 1ms/step - loss: 0.5498 - accuracy: 0.7849 - val_loss: 0.2330 - val_accuracy: 0.9537\n",
      "\n",
      "Epoch 00086: saving model to model/keypoint_classifier\\keypoint_classifier.hdf5\n",
      "Epoch 87/1000\n",
      "31/31 [==============================] - 0s 1ms/step - loss: 0.5725 - accuracy: 0.7818 - val_loss: 0.2338 - val_accuracy: 0.9499\n",
      "\n",
      "Epoch 00087: saving model to model/keypoint_classifier\\keypoint_classifier.hdf5\n",
      "Epoch 88/1000\n",
      "31/31 [==============================] - 0s 1ms/step - loss: 0.5755 - accuracy: 0.7722 - val_loss: 0.2424 - val_accuracy: 0.9506\n",
      "\n",
      "Epoch 00088: saving model to model/keypoint_classifier\\keypoint_classifier.hdf5\n",
      "Epoch 89/1000\n",
      "31/31 [==============================] - 0s 1ms/step - loss: 0.5611 - accuracy: 0.7801 - val_loss: 0.2358 - val_accuracy: 0.9544\n",
      "\n",
      "Epoch 00089: saving model to model/keypoint_classifier\\keypoint_classifier.hdf5\n",
      "Epoch 90/1000\n",
      "31/31 [==============================] - 0s 1ms/step - loss: 0.5476 - accuracy: 0.7879 - val_loss: 0.2350 - val_accuracy: 0.9506\n",
      "\n",
      "Epoch 00090: saving model to model/keypoint_classifier\\keypoint_classifier.hdf5\n",
      "Epoch 91/1000\n",
      "31/31 [==============================] - 0s 1ms/step - loss: 0.5591 - accuracy: 0.7879 - val_loss: 0.2376 - val_accuracy: 0.9476\n",
      "\n",
      "Epoch 00091: saving model to model/keypoint_classifier\\keypoint_classifier.hdf5\n",
      "Epoch 92/1000\n",
      "31/31 [==============================] - 0s 1ms/step - loss: 0.5549 - accuracy: 0.7917 - val_loss: 0.2395 - val_accuracy: 0.9537\n",
      "\n",
      "Epoch 00092: saving model to model/keypoint_classifier\\keypoint_classifier.hdf5\n",
      "Epoch 93/1000\n",
      "31/31 [==============================] - 0s 1ms/step - loss: 0.5464 - accuracy: 0.7947 - val_loss: 0.2321 - val_accuracy: 0.9575\n",
      "\n",
      "Epoch 00093: saving model to model/keypoint_classifier\\keypoint_classifier.hdf5\n",
      "Epoch 94/1000\n",
      "31/31 [==============================] - 0s 1ms/step - loss: 0.5475 - accuracy: 0.7894 - val_loss: 0.2317 - val_accuracy: 0.9537\n",
      "\n",
      "Epoch 00094: saving model to model/keypoint_classifier\\keypoint_classifier.hdf5\n",
      "Epoch 95/1000\n",
      "31/31 [==============================] - 0s 1ms/step - loss: 0.5517 - accuracy: 0.7912 - val_loss: 0.2332 - val_accuracy: 0.9506\n",
      "\n",
      "Epoch 00095: saving model to model/keypoint_classifier\\keypoint_classifier.hdf5\n",
      "Epoch 96/1000\n",
      "31/31 [==============================] - 0s 1ms/step - loss: 0.5579 - accuracy: 0.7818 - val_loss: 0.2335 - val_accuracy: 0.9522\n",
      "\n",
      "Epoch 00096: saving model to model/keypoint_classifier\\keypoint_classifier.hdf5\n",
      "Epoch 97/1000\n",
      "31/31 [==============================] - 0s 1ms/step - loss: 0.5443 - accuracy: 0.7927 - val_loss: 0.2291 - val_accuracy: 0.9529\n",
      "\n",
      "Epoch 00097: saving model to model/keypoint_classifier\\keypoint_classifier.hdf5\n",
      "Epoch 98/1000\n",
      "31/31 [==============================] - 0s 1ms/step - loss: 0.5524 - accuracy: 0.7904 - val_loss: 0.2272 - val_accuracy: 0.9552\n",
      "\n",
      "Epoch 00098: saving model to model/keypoint_classifier\\keypoint_classifier.hdf5\n",
      "Epoch 99/1000\n",
      "31/31 [==============================] - 0s 1ms/step - loss: 0.5563 - accuracy: 0.7818 - val_loss: 0.2257 - val_accuracy: 0.9560\n",
      "\n",
      "Epoch 00099: saving model to model/keypoint_classifier\\keypoint_classifier.hdf5\n",
      "Epoch 100/1000\n",
      "31/31 [==============================] - 0s 1ms/step - loss: 0.5375 - accuracy: 0.7975 - val_loss: 0.2261 - val_accuracy: 0.9567\n",
      "\n",
      "Epoch 00100: saving model to model/keypoint_classifier\\keypoint_classifier.hdf5\n",
      "Epoch 101/1000\n",
      "31/31 [==============================] - 0s 1ms/step - loss: 0.5616 - accuracy: 0.7874 - val_loss: 0.2294 - val_accuracy: 0.9491\n",
      "\n",
      "Epoch 00101: saving model to model/keypoint_classifier\\keypoint_classifier.hdf5\n",
      "Epoch 102/1000\n",
      "31/31 [==============================] - 0s 1ms/step - loss: 0.5375 - accuracy: 0.7993 - val_loss: 0.2283 - val_accuracy: 0.9522\n",
      "\n",
      "Epoch 00102: saving model to model/keypoint_classifier\\keypoint_classifier.hdf5\n",
      "Epoch 103/1000\n",
      "31/31 [==============================] - 0s 1ms/step - loss: 0.5496 - accuracy: 0.7849 - val_loss: 0.2219 - val_accuracy: 0.9506\n",
      "\n",
      "Epoch 00103: saving model to model/keypoint_classifier\\keypoint_classifier.hdf5\n",
      "Epoch 104/1000\n",
      "31/31 [==============================] - 0s 1ms/step - loss: 0.5304 - accuracy: 0.7927 - val_loss: 0.2254 - val_accuracy: 0.9560\n",
      "\n",
      "Epoch 00104: saving model to model/keypoint_classifier\\keypoint_classifier.hdf5\n",
      "Epoch 105/1000\n",
      "31/31 [==============================] - 0s 1ms/step - loss: 0.5373 - accuracy: 0.7965 - val_loss: 0.2248 - val_accuracy: 0.9560\n",
      "\n",
      "Epoch 00105: saving model to model/keypoint_classifier\\keypoint_classifier.hdf5\n",
      "Epoch 106/1000\n",
      "31/31 [==============================] - 0s 1ms/step - loss: 0.5262 - accuracy: 0.7998 - val_loss: 0.2191 - val_accuracy: 0.9499\n",
      "\n",
      "Epoch 00106: saving model to model/keypoint_classifier\\keypoint_classifier.hdf5\n",
      "Epoch 107/1000\n",
      "31/31 [==============================] - 0s 1ms/step - loss: 0.5500 - accuracy: 0.7973 - val_loss: 0.2196 - val_accuracy: 0.9552\n",
      "\n",
      "Epoch 00107: saving model to model/keypoint_classifier\\keypoint_classifier.hdf5\n",
      "Epoch 108/1000\n",
      "31/31 [==============================] - 0s 1ms/step - loss: 0.5331 - accuracy: 0.8038 - val_loss: 0.2216 - val_accuracy: 0.9529\n",
      "\n",
      "Epoch 00108: saving model to model/keypoint_classifier\\keypoint_classifier.hdf5\n",
      "Epoch 109/1000\n",
      "31/31 [==============================] - 0s 1ms/step - loss: 0.5424 - accuracy: 0.7970 - val_loss: 0.2209 - val_accuracy: 0.9499\n",
      "\n",
      "Epoch 00109: saving model to model/keypoint_classifier\\keypoint_classifier.hdf5\n",
      "Epoch 110/1000\n",
      "31/31 [==============================] - 0s 2ms/step - loss: 0.5232 - accuracy: 0.7978 - val_loss: 0.2178 - val_accuracy: 0.9582\n"
     ]
    },
    {
     "name": "stdout",
     "output_type": "stream",
     "text": [
      "\n",
      "Epoch 00110: saving model to model/keypoint_classifier\\keypoint_classifier.hdf5\n",
      "Epoch 111/1000\n",
      "31/31 [==============================] - 0s 1ms/step - loss: 0.5181 - accuracy: 0.8056 - val_loss: 0.2206 - val_accuracy: 0.9544\n",
      "\n",
      "Epoch 00111: saving model to model/keypoint_classifier\\keypoint_classifier.hdf5\n",
      "Epoch 112/1000\n",
      "31/31 [==============================] - 0s 2ms/step - loss: 0.5377 - accuracy: 0.7922 - val_loss: 0.2216 - val_accuracy: 0.9575\n",
      "\n",
      "Epoch 00112: saving model to model/keypoint_classifier\\keypoint_classifier.hdf5\n",
      "Epoch 113/1000\n",
      "31/31 [==============================] - 0s 2ms/step - loss: 0.5261 - accuracy: 0.8023 - val_loss: 0.2201 - val_accuracy: 0.9514\n",
      "\n",
      "Epoch 00113: saving model to model/keypoint_classifier\\keypoint_classifier.hdf5\n",
      "Epoch 114/1000\n",
      "31/31 [==============================] - 0s 1ms/step - loss: 0.5480 - accuracy: 0.7927 - val_loss: 0.2273 - val_accuracy: 0.9491\n",
      "\n",
      "Epoch 00114: saving model to model/keypoint_classifier\\keypoint_classifier.hdf5\n",
      "Epoch 115/1000\n",
      "31/31 [==============================] - 0s 2ms/step - loss: 0.5296 - accuracy: 0.7973 - val_loss: 0.2213 - val_accuracy: 0.9514\n",
      "\n",
      "Epoch 00115: saving model to model/keypoint_classifier\\keypoint_classifier.hdf5\n",
      "Epoch 116/1000\n",
      "31/31 [==============================] - 0s 1ms/step - loss: 0.5234 - accuracy: 0.8003 - val_loss: 0.2179 - val_accuracy: 0.9537\n",
      "\n",
      "Epoch 00116: saving model to model/keypoint_classifier\\keypoint_classifier.hdf5\n",
      "Epoch 117/1000\n",
      "31/31 [==============================] - 0s 1ms/step - loss: 0.5397 - accuracy: 0.7973 - val_loss: 0.2215 - val_accuracy: 0.9468\n",
      "\n",
      "Epoch 00117: saving model to model/keypoint_classifier\\keypoint_classifier.hdf5\n",
      "Epoch 118/1000\n",
      "31/31 [==============================] - 0s 1ms/step - loss: 0.5369 - accuracy: 0.7899 - val_loss: 0.2205 - val_accuracy: 0.9514\n",
      "\n",
      "Epoch 00118: saving model to model/keypoint_classifier\\keypoint_classifier.hdf5\n",
      "Epoch 119/1000\n",
      "31/31 [==============================] - 0s 1ms/step - loss: 0.5477 - accuracy: 0.7887 - val_loss: 0.2246 - val_accuracy: 0.9514\n",
      "\n",
      "Epoch 00119: saving model to model/keypoint_classifier\\keypoint_classifier.hdf5\n",
      "Epoch 120/1000\n",
      "31/31 [==============================] - 0s 1ms/step - loss: 0.5245 - accuracy: 0.7988 - val_loss: 0.2226 - val_accuracy: 0.9529\n",
      "\n",
      "Epoch 00120: saving model to model/keypoint_classifier\\keypoint_classifier.hdf5\n",
      "Epoch 121/1000\n",
      "31/31 [==============================] - 0s 1ms/step - loss: 0.5279 - accuracy: 0.7894 - val_loss: 0.2157 - val_accuracy: 0.9567\n",
      "\n",
      "Epoch 00121: saving model to model/keypoint_classifier\\keypoint_classifier.hdf5\n",
      "Epoch 122/1000\n",
      "31/31 [==============================] - 0s 2ms/step - loss: 0.5222 - accuracy: 0.8001 - val_loss: 0.2144 - val_accuracy: 0.9560\n",
      "\n",
      "Epoch 00122: saving model to model/keypoint_classifier\\keypoint_classifier.hdf5\n",
      "Epoch 123/1000\n",
      "31/31 [==============================] - 0s 2ms/step - loss: 0.5361 - accuracy: 0.7927 - val_loss: 0.2151 - val_accuracy: 0.9544\n",
      "\n",
      "Epoch 00123: saving model to model/keypoint_classifier\\keypoint_classifier.hdf5\n",
      "Epoch 124/1000\n",
      "31/31 [==============================] - 0s 1ms/step - loss: 0.5087 - accuracy: 0.8076 - val_loss: 0.2167 - val_accuracy: 0.9598\n",
      "\n",
      "Epoch 00124: saving model to model/keypoint_classifier\\keypoint_classifier.hdf5\n",
      "Epoch 125/1000\n",
      "31/31 [==============================] - 0s 1ms/step - loss: 0.5528 - accuracy: 0.7889 - val_loss: 0.2204 - val_accuracy: 0.9529\n",
      "\n",
      "Epoch 00125: saving model to model/keypoint_classifier\\keypoint_classifier.hdf5\n",
      "Epoch 126/1000\n",
      "31/31 [==============================] - 0s 2ms/step - loss: 0.5319 - accuracy: 0.8008 - val_loss: 0.2134 - val_accuracy: 0.9537\n",
      "\n",
      "Epoch 00126: saving model to model/keypoint_classifier\\keypoint_classifier.hdf5\n",
      "Epoch 127/1000\n",
      "31/31 [==============================] - 0s 1ms/step - loss: 0.5279 - accuracy: 0.8011 - val_loss: 0.2188 - val_accuracy: 0.9560\n",
      "\n",
      "Epoch 00127: saving model to model/keypoint_classifier\\keypoint_classifier.hdf5\n",
      "Epoch 128/1000\n",
      "31/31 [==============================] - 0s 2ms/step - loss: 0.5200 - accuracy: 0.8056 - val_loss: 0.2230 - val_accuracy: 0.9506\n",
      "\n",
      "Epoch 00128: saving model to model/keypoint_classifier\\keypoint_classifier.hdf5\n",
      "Epoch 129/1000\n",
      "31/31 [==============================] - 0s 1ms/step - loss: 0.5448 - accuracy: 0.7897 - val_loss: 0.2212 - val_accuracy: 0.9491\n",
      "\n",
      "Epoch 00129: saving model to model/keypoint_classifier\\keypoint_classifier.hdf5\n",
      "Epoch 130/1000\n",
      "31/31 [==============================] - 0s 1ms/step - loss: 0.5183 - accuracy: 0.8059 - val_loss: 0.2149 - val_accuracy: 0.9537\n",
      "\n",
      "Epoch 00130: saving model to model/keypoint_classifier\\keypoint_classifier.hdf5\n",
      "Epoch 131/1000\n",
      "31/31 [==============================] - 0s 1ms/step - loss: 0.5113 - accuracy: 0.8097 - val_loss: 0.2204 - val_accuracy: 0.9514\n",
      "\n",
      "Epoch 00131: saving model to model/keypoint_classifier\\keypoint_classifier.hdf5\n",
      "Epoch 132/1000\n",
      "31/31 [==============================] - 0s 1ms/step - loss: 0.5357 - accuracy: 0.8003 - val_loss: 0.2127 - val_accuracy: 0.9567\n",
      "\n",
      "Epoch 00132: saving model to model/keypoint_classifier\\keypoint_classifier.hdf5\n",
      "Epoch 133/1000\n",
      "31/31 [==============================] - 0s 2ms/step - loss: 0.5123 - accuracy: 0.8054 - val_loss: 0.2153 - val_accuracy: 0.9514\n",
      "\n",
      "Epoch 00133: saving model to model/keypoint_classifier\\keypoint_classifier.hdf5\n",
      "Epoch 134/1000\n",
      "31/31 [==============================] - 0s 1ms/step - loss: 0.5201 - accuracy: 0.8066 - val_loss: 0.2109 - val_accuracy: 0.9613\n",
      "\n",
      "Epoch 00134: saving model to model/keypoint_classifier\\keypoint_classifier.hdf5\n",
      "Epoch 135/1000\n",
      "31/31 [==============================] - 0s 1ms/step - loss: 0.5189 - accuracy: 0.8026 - val_loss: 0.2152 - val_accuracy: 0.9544\n",
      "\n",
      "Epoch 00135: saving model to model/keypoint_classifier\\keypoint_classifier.hdf5\n",
      "Epoch 136/1000\n",
      "31/31 [==============================] - 0s 1ms/step - loss: 0.5042 - accuracy: 0.8109 - val_loss: 0.2175 - val_accuracy: 0.9575\n",
      "\n",
      "Epoch 00136: saving model to model/keypoint_classifier\\keypoint_classifier.hdf5\n",
      "Epoch 137/1000\n",
      "31/31 [==============================] - 0s 1ms/step - loss: 0.5165 - accuracy: 0.8084 - val_loss: 0.2189 - val_accuracy: 0.9552\n",
      "\n",
      "Epoch 00137: saving model to model/keypoint_classifier\\keypoint_classifier.hdf5\n",
      "Epoch 138/1000\n",
      "31/31 [==============================] - 0s 1ms/step - loss: 0.5094 - accuracy: 0.8036 - val_loss: 0.2112 - val_accuracy: 0.9590\n",
      "\n",
      "Epoch 00138: saving model to model/keypoint_classifier\\keypoint_classifier.hdf5\n",
      "Epoch 139/1000\n",
      "31/31 [==============================] - 0s 1ms/step - loss: 0.5248 - accuracy: 0.8028 - val_loss: 0.2133 - val_accuracy: 0.9582\n",
      "\n",
      "Epoch 00139: saving model to model/keypoint_classifier\\keypoint_classifier.hdf5\n",
      "Epoch 140/1000\n",
      "31/31 [==============================] - 0s 1ms/step - loss: 0.5076 - accuracy: 0.8069 - val_loss: 0.2120 - val_accuracy: 0.9514\n",
      "\n",
      "Epoch 00140: saving model to model/keypoint_classifier\\keypoint_classifier.hdf5\n",
      "Epoch 141/1000\n",
      "31/31 [==============================] - 0s 1ms/step - loss: 0.5243 - accuracy: 0.7960 - val_loss: 0.2142 - val_accuracy: 0.9529\n",
      "\n",
      "Epoch 00141: saving model to model/keypoint_classifier\\keypoint_classifier.hdf5\n",
      "Epoch 142/1000\n",
      "31/31 [==============================] - 0s 1ms/step - loss: 0.5133 - accuracy: 0.8046 - val_loss: 0.2102 - val_accuracy: 0.9506\n",
      "\n",
      "Epoch 00142: saving model to model/keypoint_classifier\\keypoint_classifier.hdf5\n",
      "Epoch 143/1000\n",
      "31/31 [==============================] - 0s 1ms/step - loss: 0.5338 - accuracy: 0.7998 - val_loss: 0.2176 - val_accuracy: 0.9552\n",
      "\n",
      "Epoch 00143: saving model to model/keypoint_classifier\\keypoint_classifier.hdf5\n",
      "Epoch 144/1000\n",
      "31/31 [==============================] - 0s 1ms/step - loss: 0.5275 - accuracy: 0.7963 - val_loss: 0.2151 - val_accuracy: 0.9620\n",
      "\n",
      "Epoch 00144: saving model to model/keypoint_classifier\\keypoint_classifier.hdf5\n",
      "Epoch 145/1000\n",
      "31/31 [==============================] - 0s 1ms/step - loss: 0.5231 - accuracy: 0.8117 - val_loss: 0.2086 - val_accuracy: 0.9552\n",
      "\n",
      "Epoch 00145: saving model to model/keypoint_classifier\\keypoint_classifier.hdf5\n",
      "Epoch 146/1000\n",
      "31/31 [==============================] - 0s 1ms/step - loss: 0.5215 - accuracy: 0.7998 - val_loss: 0.2127 - val_accuracy: 0.9605\n",
      "\n",
      "Epoch 00146: saving model to model/keypoint_classifier\\keypoint_classifier.hdf5\n",
      "Epoch 147/1000\n"
     ]
    },
    {
     "name": "stdout",
     "output_type": "stream",
     "text": [
      "31/31 [==============================] - 0s 1ms/step - loss: 0.5124 - accuracy: 0.8011 - val_loss: 0.2132 - val_accuracy: 0.9575\n",
      "\n",
      "Epoch 00147: saving model to model/keypoint_classifier\\keypoint_classifier.hdf5\n",
      "Epoch 148/1000\n",
      "31/31 [==============================] - 0s 1ms/step - loss: 0.5161 - accuracy: 0.7947 - val_loss: 0.2130 - val_accuracy: 0.9605\n",
      "\n",
      "Epoch 00148: saving model to model/keypoint_classifier\\keypoint_classifier.hdf5\n",
      "Epoch 149/1000\n",
      "31/31 [==============================] - 0s 1ms/step - loss: 0.5168 - accuracy: 0.8016 - val_loss: 0.2209 - val_accuracy: 0.9529\n",
      "\n",
      "Epoch 00149: saving model to model/keypoint_classifier\\keypoint_classifier.hdf5\n",
      "Epoch 150/1000\n",
      "31/31 [==============================] - 0s 1ms/step - loss: 0.5240 - accuracy: 0.8011 - val_loss: 0.2183 - val_accuracy: 0.9582\n",
      "\n",
      "Epoch 00150: saving model to model/keypoint_classifier\\keypoint_classifier.hdf5\n",
      "Epoch 151/1000\n",
      "31/31 [==============================] - 0s 1ms/step - loss: 0.4983 - accuracy: 0.8114 - val_loss: 0.2126 - val_accuracy: 0.9544\n",
      "\n",
      "Epoch 00151: saving model to model/keypoint_classifier\\keypoint_classifier.hdf5\n",
      "Epoch 152/1000\n",
      "31/31 [==============================] - 0s 1ms/step - loss: 0.5228 - accuracy: 0.8092 - val_loss: 0.2108 - val_accuracy: 0.9598\n",
      "\n",
      "Epoch 00152: saving model to model/keypoint_classifier\\keypoint_classifier.hdf5\n",
      "Epoch 153/1000\n",
      "31/31 [==============================] - 0s 1ms/step - loss: 0.5313 - accuracy: 0.7963 - val_loss: 0.2134 - val_accuracy: 0.9552\n",
      "\n",
      "Epoch 00153: saving model to model/keypoint_classifier\\keypoint_classifier.hdf5\n",
      "Epoch 154/1000\n",
      "31/31 [==============================] - 0s 1ms/step - loss: 0.5008 - accuracy: 0.8089 - val_loss: 0.2139 - val_accuracy: 0.9582\n",
      "\n",
      "Epoch 00154: saving model to model/keypoint_classifier\\keypoint_classifier.hdf5\n",
      "Epoch 155/1000\n",
      "31/31 [==============================] - 0s 1ms/step - loss: 0.5060 - accuracy: 0.8076 - val_loss: 0.2128 - val_accuracy: 0.9582\n",
      "\n",
      "Epoch 00155: saving model to model/keypoint_classifier\\keypoint_classifier.hdf5\n",
      "Epoch 156/1000\n",
      "31/31 [==============================] - 0s 1ms/step - loss: 0.5120 - accuracy: 0.8056 - val_loss: 0.2141 - val_accuracy: 0.9552\n",
      "\n",
      "Epoch 00156: saving model to model/keypoint_classifier\\keypoint_classifier.hdf5\n",
      "Epoch 157/1000\n",
      "31/31 [==============================] - 0s 1ms/step - loss: 0.5183 - accuracy: 0.8026 - val_loss: 0.2091 - val_accuracy: 0.9590\n",
      "\n",
      "Epoch 00157: saving model to model/keypoint_classifier\\keypoint_classifier.hdf5\n",
      "Epoch 158/1000\n",
      "31/31 [==============================] - 0s 1ms/step - loss: 0.5200 - accuracy: 0.7988 - val_loss: 0.2119 - val_accuracy: 0.9575\n",
      "\n",
      "Epoch 00158: saving model to model/keypoint_classifier\\keypoint_classifier.hdf5\n",
      "Epoch 159/1000\n",
      "31/31 [==============================] - 0s 1ms/step - loss: 0.4901 - accuracy: 0.8130 - val_loss: 0.2088 - val_accuracy: 0.9514\n",
      "\n",
      "Epoch 00159: saving model to model/keypoint_classifier\\keypoint_classifier.hdf5\n",
      "Epoch 160/1000\n",
      "31/31 [==============================] - 0s 1ms/step - loss: 0.5113 - accuracy: 0.8107 - val_loss: 0.2056 - val_accuracy: 0.9567\n",
      "\n",
      "Epoch 00160: saving model to model/keypoint_classifier\\keypoint_classifier.hdf5\n",
      "Epoch 161/1000\n",
      "31/31 [==============================] - 0s 1ms/step - loss: 0.4953 - accuracy: 0.8056 - val_loss: 0.2085 - val_accuracy: 0.9575\n",
      "\n",
      "Epoch 00161: saving model to model/keypoint_classifier\\keypoint_classifier.hdf5\n",
      "Epoch 162/1000\n",
      "31/31 [==============================] - 0s 1ms/step - loss: 0.4853 - accuracy: 0.8162 - val_loss: 0.2078 - val_accuracy: 0.9582\n",
      "\n",
      "Epoch 00162: saving model to model/keypoint_classifier\\keypoint_classifier.hdf5\n",
      "Epoch 163/1000\n",
      "31/31 [==============================] - 0s 1ms/step - loss: 0.4889 - accuracy: 0.8145 - val_loss: 0.2058 - val_accuracy: 0.9506\n",
      "\n",
      "Epoch 00163: saving model to model/keypoint_classifier\\keypoint_classifier.hdf5\n",
      "Epoch 164/1000\n",
      "31/31 [==============================] - 0s 1ms/step - loss: 0.5113 - accuracy: 0.8064 - val_loss: 0.2104 - val_accuracy: 0.9582\n",
      "\n",
      "Epoch 00164: saving model to model/keypoint_classifier\\keypoint_classifier.hdf5\n",
      "Epoch 165/1000\n",
      "31/31 [==============================] - 0s 2ms/step - loss: 0.5009 - accuracy: 0.8107 - val_loss: 0.2094 - val_accuracy: 0.9582\n",
      "\n",
      "Epoch 00165: saving model to model/keypoint_classifier\\keypoint_classifier.hdf5\n",
      "Epoch 166/1000\n",
      "31/31 [==============================] - 0s 1ms/step - loss: 0.5088 - accuracy: 0.8142 - val_loss: 0.2068 - val_accuracy: 0.9598\n",
      "\n",
      "Epoch 00166: saving model to model/keypoint_classifier\\keypoint_classifier.hdf5\n",
      "Epoch 167/1000\n",
      "31/31 [==============================] - 0s 1ms/step - loss: 0.5025 - accuracy: 0.8170 - val_loss: 0.2150 - val_accuracy: 0.9544\n",
      "\n",
      "Epoch 00167: saving model to model/keypoint_classifier\\keypoint_classifier.hdf5\n",
      "Epoch 168/1000\n",
      "31/31 [==============================] - 0s 1ms/step - loss: 0.4950 - accuracy: 0.8175 - val_loss: 0.2111 - val_accuracy: 0.9544\n",
      "\n",
      "Epoch 00168: saving model to model/keypoint_classifier\\keypoint_classifier.hdf5\n",
      "Epoch 169/1000\n",
      "31/31 [==============================] - 0s 1ms/step - loss: 0.5275 - accuracy: 0.7968 - val_loss: 0.2129 - val_accuracy: 0.9575\n",
      "\n",
      "Epoch 00169: saving model to model/keypoint_classifier\\keypoint_classifier.hdf5\n",
      "Epoch 170/1000\n",
      "31/31 [==============================] - 0s 1ms/step - loss: 0.5115 - accuracy: 0.8071 - val_loss: 0.2063 - val_accuracy: 0.9590\n",
      "\n",
      "Epoch 00170: saving model to model/keypoint_classifier\\keypoint_classifier.hdf5\n",
      "Epoch 171/1000\n",
      "31/31 [==============================] - 0s 1ms/step - loss: 0.5077 - accuracy: 0.8046 - val_loss: 0.2083 - val_accuracy: 0.9590\n",
      "\n",
      "Epoch 00171: saving model to model/keypoint_classifier\\keypoint_classifier.hdf5\n",
      "Epoch 172/1000\n",
      "31/31 [==============================] - 0s 1ms/step - loss: 0.5000 - accuracy: 0.8046 - val_loss: 0.2035 - val_accuracy: 0.9620\n",
      "\n",
      "Epoch 00172: saving model to model/keypoint_classifier\\keypoint_classifier.hdf5\n",
      "Epoch 173/1000\n",
      "31/31 [==============================] - 0s 1ms/step - loss: 0.4924 - accuracy: 0.8203 - val_loss: 0.2092 - val_accuracy: 0.9560\n",
      "\n",
      "Epoch 00173: saving model to model/keypoint_classifier\\keypoint_classifier.hdf5\n",
      "Epoch 174/1000\n",
      "31/31 [==============================] - 0s 1ms/step - loss: 0.4904 - accuracy: 0.8160 - val_loss: 0.2062 - val_accuracy: 0.9582\n",
      "\n",
      "Epoch 00174: saving model to model/keypoint_classifier\\keypoint_classifier.hdf5\n",
      "Epoch 175/1000\n",
      "31/31 [==============================] - 0s 1ms/step - loss: 0.4970 - accuracy: 0.8173 - val_loss: 0.2060 - val_accuracy: 0.9590\n",
      "\n",
      "Epoch 00175: saving model to model/keypoint_classifier\\keypoint_classifier.hdf5\n",
      "Epoch 176/1000\n",
      "31/31 [==============================] - 0s 1ms/step - loss: 0.5002 - accuracy: 0.8155 - val_loss: 0.2101 - val_accuracy: 0.9567\n",
      "\n",
      "Epoch 00176: saving model to model/keypoint_classifier\\keypoint_classifier.hdf5\n",
      "Epoch 177/1000\n",
      "31/31 [==============================] - 0s 1ms/step - loss: 0.5041 - accuracy: 0.8076 - val_loss: 0.2150 - val_accuracy: 0.9567\n",
      "\n",
      "Epoch 00177: saving model to model/keypoint_classifier\\keypoint_classifier.hdf5\n",
      "Epoch 178/1000\n",
      "31/31 [==============================] - 0s 1ms/step - loss: 0.5085 - accuracy: 0.8069 - val_loss: 0.2094 - val_accuracy: 0.9605\n",
      "\n",
      "Epoch 00178: saving model to model/keypoint_classifier\\keypoint_classifier.hdf5\n",
      "Epoch 179/1000\n",
      "31/31 [==============================] - 0s 1ms/step - loss: 0.4897 - accuracy: 0.8137 - val_loss: 0.2109 - val_accuracy: 0.9537\n",
      "\n",
      "Epoch 00179: saving model to model/keypoint_classifier\\keypoint_classifier.hdf5\n",
      "Epoch 180/1000\n",
      "31/31 [==============================] - 0s 1ms/step - loss: 0.5047 - accuracy: 0.8069 - val_loss: 0.2075 - val_accuracy: 0.9567\n",
      "\n",
      "Epoch 00180: saving model to model/keypoint_classifier\\keypoint_classifier.hdf5\n",
      "Epoch 181/1000\n",
      "31/31 [==============================] - 0s 1ms/step - loss: 0.4990 - accuracy: 0.8135 - val_loss: 0.2093 - val_accuracy: 0.9598\n",
      "\n",
      "Epoch 00181: saving model to model/keypoint_classifier\\keypoint_classifier.hdf5\n",
      "Epoch 182/1000\n",
      "31/31 [==============================] - 0s 1ms/step - loss: 0.5004 - accuracy: 0.8094 - val_loss: 0.2073 - val_accuracy: 0.9590\n",
      "\n",
      "Epoch 00182: saving model to model/keypoint_classifier\\keypoint_classifier.hdf5\n",
      "Epoch 183/1000\n",
      "31/31 [==============================] - 0s 1ms/step - loss: 0.5032 - accuracy: 0.8099 - val_loss: 0.2031 - val_accuracy: 0.9613\n"
     ]
    },
    {
     "name": "stdout",
     "output_type": "stream",
     "text": [
      "\n",
      "Epoch 00183: saving model to model/keypoint_classifier\\keypoint_classifier.hdf5\n",
      "Epoch 184/1000\n",
      "31/31 [==============================] - 0s 1ms/step - loss: 0.4992 - accuracy: 0.8092 - val_loss: 0.2088 - val_accuracy: 0.9598\n",
      "\n",
      "Epoch 00184: saving model to model/keypoint_classifier\\keypoint_classifier.hdf5\n",
      "Epoch 185/1000\n",
      "31/31 [==============================] - 0s 1ms/step - loss: 0.4954 - accuracy: 0.8180 - val_loss: 0.2107 - val_accuracy: 0.9537\n",
      "\n",
      "Epoch 00185: saving model to model/keypoint_classifier\\keypoint_classifier.hdf5\n",
      "Epoch 186/1000\n",
      "31/31 [==============================] - 0s 1ms/step - loss: 0.5069 - accuracy: 0.8036 - val_loss: 0.2091 - val_accuracy: 0.9567\n",
      "\n",
      "Epoch 00186: saving model to model/keypoint_classifier\\keypoint_classifier.hdf5\n",
      "Epoch 187/1000\n",
      "31/31 [==============================] - 0s 2ms/step - loss: 0.5062 - accuracy: 0.8094 - val_loss: 0.2088 - val_accuracy: 0.9582\n",
      "\n",
      "Epoch 00187: saving model to model/keypoint_classifier\\keypoint_classifier.hdf5\n",
      "Epoch 188/1000\n",
      "31/31 [==============================] - 0s 1ms/step - loss: 0.4962 - accuracy: 0.8114 - val_loss: 0.2068 - val_accuracy: 0.9575\n",
      "\n",
      "Epoch 00188: saving model to model/keypoint_classifier\\keypoint_classifier.hdf5\n",
      "Epoch 189/1000\n",
      "31/31 [==============================] - 0s 1ms/step - loss: 0.4923 - accuracy: 0.8150 - val_loss: 0.2036 - val_accuracy: 0.9590\n",
      "\n",
      "Epoch 00189: saving model to model/keypoint_classifier\\keypoint_classifier.hdf5\n",
      "Epoch 190/1000\n",
      "31/31 [==============================] - 0s 1ms/step - loss: 0.4881 - accuracy: 0.8157 - val_loss: 0.2033 - val_accuracy: 0.9590\n",
      "\n",
      "Epoch 00190: saving model to model/keypoint_classifier\\keypoint_classifier.hdf5\n",
      "Epoch 191/1000\n",
      "31/31 [==============================] - 0s 1ms/step - loss: 0.4885 - accuracy: 0.8180 - val_loss: 0.2091 - val_accuracy: 0.9575\n",
      "\n",
      "Epoch 00191: saving model to model/keypoint_classifier\\keypoint_classifier.hdf5\n",
      "Epoch 192/1000\n",
      "31/31 [==============================] - 0s 1ms/step - loss: 0.5010 - accuracy: 0.8122 - val_loss: 0.2059 - val_accuracy: 0.9620\n",
      "\n",
      "Epoch 00192: saving model to model/keypoint_classifier\\keypoint_classifier.hdf5\n",
      "Epoch 193/1000\n",
      "31/31 [==============================] - 0s 1ms/step - loss: 0.4797 - accuracy: 0.8127 - val_loss: 0.2017 - val_accuracy: 0.9582\n",
      "\n",
      "Epoch 00193: saving model to model/keypoint_classifier\\keypoint_classifier.hdf5\n",
      "Epoch 194/1000\n",
      "31/31 [==============================] - 0s 1ms/step - loss: 0.5012 - accuracy: 0.8094 - val_loss: 0.2010 - val_accuracy: 0.9613\n",
      "\n",
      "Epoch 00194: saving model to model/keypoint_classifier\\keypoint_classifier.hdf5\n",
      "Epoch 195/1000\n",
      "31/31 [==============================] - 0s 1ms/step - loss: 0.4856 - accuracy: 0.8150 - val_loss: 0.2050 - val_accuracy: 0.9544\n",
      "\n",
      "Epoch 00195: saving model to model/keypoint_classifier\\keypoint_classifier.hdf5\n",
      "Epoch 196/1000\n",
      "31/31 [==============================] - 0s 1ms/step - loss: 0.5077 - accuracy: 0.8092 - val_loss: 0.2069 - val_accuracy: 0.9643\n",
      "\n",
      "Epoch 00196: saving model to model/keypoint_classifier\\keypoint_classifier.hdf5\n",
      "Epoch 197/1000\n",
      "31/31 [==============================] - 0s 1ms/step - loss: 0.4715 - accuracy: 0.8195 - val_loss: 0.2012 - val_accuracy: 0.9575\n",
      "\n",
      "Epoch 00197: saving model to model/keypoint_classifier\\keypoint_classifier.hdf5\n",
      "Epoch 198/1000\n",
      "31/31 [==============================] - 0s 1ms/step - loss: 0.4910 - accuracy: 0.8102 - val_loss: 0.2013 - val_accuracy: 0.9613\n",
      "\n",
      "Epoch 00198: saving model to model/keypoint_classifier\\keypoint_classifier.hdf5\n",
      "Epoch 199/1000\n",
      "31/31 [==============================] - 0s 1ms/step - loss: 0.4711 - accuracy: 0.8193 - val_loss: 0.2034 - val_accuracy: 0.9598\n",
      "\n",
      "Epoch 00199: saving model to model/keypoint_classifier\\keypoint_classifier.hdf5\n",
      "Epoch 200/1000\n",
      "31/31 [==============================] - 0s 1ms/step - loss: 0.4799 - accuracy: 0.8195 - val_loss: 0.2034 - val_accuracy: 0.9544\n",
      "\n",
      "Epoch 00200: saving model to model/keypoint_classifier\\keypoint_classifier.hdf5\n",
      "Epoch 201/1000\n",
      "31/31 [==============================] - 0s 1ms/step - loss: 0.5086 - accuracy: 0.8109 - val_loss: 0.2111 - val_accuracy: 0.9575\n",
      "\n",
      "Epoch 00201: saving model to model/keypoint_classifier\\keypoint_classifier.hdf5\n",
      "Epoch 202/1000\n",
      "31/31 [==============================] - 0s 1ms/step - loss: 0.4893 - accuracy: 0.8175 - val_loss: 0.2098 - val_accuracy: 0.9544\n",
      "\n",
      "Epoch 00202: saving model to model/keypoint_classifier\\keypoint_classifier.hdf5\n",
      "Epoch 203/1000\n",
      "31/31 [==============================] - 0s 1ms/step - loss: 0.4864 - accuracy: 0.8165 - val_loss: 0.2047 - val_accuracy: 0.9590\n",
      "\n",
      "Epoch 00203: saving model to model/keypoint_classifier\\keypoint_classifier.hdf5\n",
      "Epoch 204/1000\n",
      "31/31 [==============================] - 0s 1ms/step - loss: 0.4698 - accuracy: 0.8221 - val_loss: 0.2051 - val_accuracy: 0.9620\n",
      "\n",
      "Epoch 00204: saving model to model/keypoint_classifier\\keypoint_classifier.hdf5\n",
      "Epoch 205/1000\n",
      "31/31 [==============================] - 0s 1ms/step - loss: 0.4866 - accuracy: 0.8228 - val_loss: 0.2037 - val_accuracy: 0.9620\n",
      "\n",
      "Epoch 00205: saving model to model/keypoint_classifier\\keypoint_classifier.hdf5\n",
      "Epoch 206/1000\n",
      "31/31 [==============================] - 0s 1ms/step - loss: 0.5004 - accuracy: 0.8099 - val_loss: 0.2027 - val_accuracy: 0.9613\n",
      "\n",
      "Epoch 00206: saving model to model/keypoint_classifier\\keypoint_classifier.hdf5\n",
      "Epoch 207/1000\n",
      "31/31 [==============================] - 0s 1ms/step - loss: 0.5065 - accuracy: 0.8026 - val_loss: 0.2086 - val_accuracy: 0.9590\n",
      "\n",
      "Epoch 00207: saving model to model/keypoint_classifier\\keypoint_classifier.hdf5\n",
      "Epoch 208/1000\n",
      "31/31 [==============================] - 0s 1ms/step - loss: 0.5044 - accuracy: 0.8135 - val_loss: 0.2038 - val_accuracy: 0.9636\n",
      "\n",
      "Epoch 00208: saving model to model/keypoint_classifier\\keypoint_classifier.hdf5\n",
      "Epoch 209/1000\n",
      "31/31 [==============================] - 0s 2ms/step - loss: 0.4845 - accuracy: 0.8117 - val_loss: 0.2163 - val_accuracy: 0.9514\n",
      "\n",
      "Epoch 00209: saving model to model/keypoint_classifier\\keypoint_classifier.hdf5\n",
      "Epoch 210/1000\n",
      "31/31 [==============================] - 0s 1ms/step - loss: 0.5179 - accuracy: 0.7978 - val_loss: 0.2119 - val_accuracy: 0.9552\n",
      "\n",
      "Epoch 00210: saving model to model/keypoint_classifier\\keypoint_classifier.hdf5\n",
      "Epoch 211/1000\n",
      "31/31 [==============================] - 0s 1ms/step - loss: 0.4755 - accuracy: 0.8208 - val_loss: 0.2130 - val_accuracy: 0.9567\n",
      "\n",
      "Epoch 00211: saving model to model/keypoint_classifier\\keypoint_classifier.hdf5\n",
      "Epoch 212/1000\n",
      "31/31 [==============================] - 0s 1ms/step - loss: 0.4802 - accuracy: 0.8155 - val_loss: 0.2061 - val_accuracy: 0.9575\n",
      "\n",
      "Epoch 00212: saving model to model/keypoint_classifier\\keypoint_classifier.hdf5\n",
      "Epoch 213/1000\n",
      "31/31 [==============================] - 0s 1ms/step - loss: 0.4700 - accuracy: 0.8223 - val_loss: 0.2019 - val_accuracy: 0.9575\n",
      "\n",
      "Epoch 00213: saving model to model/keypoint_classifier\\keypoint_classifier.hdf5\n",
      "Epoch 214/1000\n",
      "31/31 [==============================] - 0s 1ms/step - loss: 0.4786 - accuracy: 0.8233 - val_loss: 0.2059 - val_accuracy: 0.9598\n",
      "\n",
      "Epoch 00214: saving model to model/keypoint_classifier\\keypoint_classifier.hdf5\n",
      "Epoch 00214: early stopping\n"
     ]
    },
    {
     "data": {
      "text/plain": [
       "<tensorflow.python.keras.callbacks.History at 0x232375000a0>"
      ]
     },
     "execution_count": 21,
     "metadata": {},
     "output_type": "execute_result"
    }
   ],
   "source": [
    "model.fit(\n",
    "    X_train,\n",
    "    y_train,\n",
    "    epochs=1000,\n",
    "    batch_size=128,\n",
    "    validation_data=(X_test, y_test),\n",
    "    callbacks=[cp_callback, es_callback]\n",
    ")"
   ]
  },
  {
   "cell_type": "code",
   "execution_count": 22,
   "metadata": {
    "colab": {
     "base_uri": "https://localhost:8080/"
    },
    "id": "pxvb2Y299hE3",
    "outputId": "59eb3185-2e37-4b9e-bc9d-ab1b8ac29b7f"
   },
   "outputs": [
    {
     "name": "stdout",
     "output_type": "stream",
     "text": [
      "11/11 [==============================] - 0s 600us/step - loss: 0.2059 - accuracy: 0.9598\n"
     ]
    }
   ],
   "source": [
    "# Model evaluation\n",
    "val_loss, val_acc = model.evaluate(X_test, y_test, batch_size=128)"
   ]
  },
  {
   "cell_type": "code",
   "execution_count": 23,
   "metadata": {
    "id": "RBkmDeUW9hE4"
   },
   "outputs": [],
   "source": [
    "# Loading the saved model\n",
    "model = tf.keras.models.load_model(model_save_path)"
   ]
  },
  {
   "cell_type": "code",
   "execution_count": 24,
   "metadata": {
    "colab": {
     "base_uri": "https://localhost:8080/"
    },
    "id": "tFz9Tb0I9hE4",
    "outputId": "1c3b3528-54ae-4ee2-ab04-77429211cbef"
   },
   "outputs": [
    {
     "name": "stdout",
     "output_type": "stream",
     "text": [
      "[0.01484891 0.00568005 0.01244421 0.00332539 0.9637015 ]\n",
      "4\n"
     ]
    }
   ],
   "source": [
    "# Inference test\n",
    "predict_result = model.predict(np.array([X_test[0]]))\n",
    "print(np.squeeze(predict_result))\n",
    "print(np.argmax(np.squeeze(predict_result)))"
   ]
  },
  {
   "cell_type": "markdown",
   "metadata": {
    "id": "S3U4yNWx9hE4"
   },
   "source": [
    "# Confusion matrix"
   ]
  },
  {
   "cell_type": "code",
   "execution_count": 27,
   "metadata": {
    "colab": {
     "base_uri": "https://localhost:8080/",
     "height": 582
    },
    "id": "AP1V6SCk9hE5",
    "outputId": "08e41a80-7a4a-4619-8125-ecc371368d19"
   },
   "outputs": [
    {
     "data": {
      "image/png": "[encoded data removed]",
      "text/plain": [
       "<Figure size 504x432 with 2 Axes>"
      ]
     },
     "metadata": {
      "needs_background": "light"
     },
     "output_type": "display_data"
    },
    {
     "name": "stdout",
     "output_type": "stream",
     "text": [
      "Classification Report\n",
      "              precision    recall  f1-score   support\n",
      "\n",
      "           0       0.97      0.97      0.97       408\n",
      "           1       0.98      0.94      0.96       378\n",
      "           2       0.92      0.96      0.94       330\n",
      "           3       0.93      0.93      0.93        74\n",
      "           4       0.98      1.00      0.99       127\n",
      "\n",
      "    accuracy                           0.96      1317\n",
      "   macro avg       0.96      0.96      0.96      1317\n",
      "weighted avg       0.96      0.96      0.96      1317\n",
      "\n"
     ]
    }
   ],
   "source": [
    "import pandas as pd\n",
    "import seaborn as sns\n",
    "import matplotlib.pyplot as plt\n",
    "from sklearn.metrics import confusion_matrix, classification_report\n",
    "\n",
    "def print_confusion_matrix(y_true, y_pred, report=True):\n",
    "    labels = sorted(list(set(y_true)))\n",
    "    cmx_data = confusion_matrix(y_true, y_pred, labels=labels)\n",
    "    \n",
    "    df_cmx = pd.DataFrame(cmx_data, index=labels, columns=labels)\n",
    " \n",
    "    fig, ax = plt.subplots(figsize=(7, 6))\n",
    "    sns.heatmap(df_cmx, annot=True, fmt='g' ,square=False)\n",
    "    ax.set_ylim(len(set(y_true)), 0)\n",
    "    plt.show()\n",
    "    \n",
    "    if report:\n",
    "        print('Classification Report')\n",
    "        print(classification_report(y_test, y_pred))\n",
    "\n",
    "Y_pred = model.predict(X_test)\n",
    "y_pred = np.argmax(Y_pred, axis=1)\n",
    "\n",
    "print_confusion_matrix(y_test, y_pred)"
   ]
  },
  {
   "cell_type": "markdown",
   "metadata": {
    "id": "FNP6aqzc9hE5"
   },
   "source": [
    "# Convert to model for Tensorflow-Lite"
   ]
  },
  {
   "cell_type": "code",
   "execution_count": 28,
   "metadata": {
    "id": "ODjnYyld9hE6"
   },
   "outputs": [],
   "source": [
    "# Save as a model dedicated to inference\n",
    "model.save(model_save_path, include_optimizer=False)"
   ]
  },
  {
   "cell_type": "code",
   "execution_count": 29,
   "metadata": {
    "colab": {
     "base_uri": "https://localhost:8080/"
    },
    "id": "zRfuK8Y59hE6",
    "outputId": "a4ca585c-b5d5-4244-8291-8674063209bb"
   },
   "outputs": [
    {
     "name": "stdout",
     "output_type": "stream",
     "text": [
      "INFO:tensorflow:Assets written to: C:\\Users\\offic\\AppData\\Local\\Temp\\tmpl_6ez15h\\assets\n"
     ]
    },
    {
     "data": {
      "text/plain": [
       "6448"
      ]
     },
     "execution_count": 29,
     "metadata": {},
     "output_type": "execute_result"
    }
   ],
   "source": [
    "# Transform model (quantization)\n",
    "\n",
    "converter = tf.lite.TFLiteConverter.from_keras_model(model)\n",
    "converter.optimizations = [tf.lite.Optimize.DEFAULT]\n",
    "tflite_quantized_model = converter.convert()\n",
    "\n",
    "open(tflite_save_path, 'wb').write(tflite_quantized_model)"
   ]
  },
  {
   "cell_type": "markdown",
   "metadata": {
    "id": "CHBPBXdx9hE6"
   },
   "source": [
    "# Inference test"
   ]
  },
  {
   "cell_type": "code",
   "execution_count": 30,
   "metadata": {
    "id": "mGAzLocO9hE7"
   },
   "outputs": [],
   "source": [
    "interpreter = tf.lite.Interpreter(model_path=tflite_save_path)\n",
    "interpreter.allocate_tensors()"
   ]
  },
  {
   "cell_type": "code",
   "execution_count": 31,
   "metadata": {
    "id": "oQuDK8YS9hE7"
   },
   "outputs": [],
   "source": [
    "# Get I / O tensor\n",
    "input_details = interpreter.get_input_details()\n",
    "output_details = interpreter.get_output_details()"
   ]
  },
  {
   "cell_type": "code",
   "execution_count": 32,
   "metadata": {
    "id": "2_ixAf_l9hE7"
   },
   "outputs": [],
   "source": [
    "interpreter.set_tensor(input_details[0]['index'], np.array([X_test[0]]))"
   ]
  },
  {
   "cell_type": "code",
   "execution_count": 34,
   "metadata": {
    "colab": {
     "base_uri": "https://localhost:8080/"
    },
    "id": "s4FoAnuc9hE7",
    "outputId": "91f18257-8d8b-4ef3-c558-e9b5f94fabbf",
    "scrolled": true
   },
   "outputs": [
    {
     "name": "stdout",
     "output_type": "stream",
     "text": [
      "Wall time: 0 ns\n"
     ]
    }
   ],
   "source": [
    "%%time\n",
    "# Inference implementation\n",
    "interpreter.invoke()\n",
    "tflite_results = interpreter.get_tensor(output_details[0]['index'])"
   ]
  },
  {
   "cell_type": "code",
   "execution_count": 35,
   "metadata": {
    "colab": {
     "base_uri": "https://localhost:8080/"
    },
    "id": "vONjp19J9hE8",
    "outputId": "77205e24-fd00-42c4-f7b6-e06e527c2cba"
   },
   "outputs": [
    {
     "name": "stdout",
     "output_type": "stream",
     "text": [
      "[0.0148489  0.00568005 0.01244421 0.00332538 0.9637015 ]\n",
      "4\n"
     ]
    }
   ],
   "source": [
    "print(np.squeeze(tflite_results))\n",
    "print(np.argmax(np.squeeze(tflite_results)))"
   ]
  },
  {
   "cell_type": "code",
   "execution_count": null,
   "metadata": {},
   "outputs": [],
   "source": []
  }
 ],
 "metadata": {
  "accelerator": "GPU",
  "colab": {
   "collapsed_sections": [],
   "name": "keypoint_classification_EN.ipynb",
   "provenance": [],
   "toc_visible": true
  },
  "kernelspec": {
   "display_name": "Python 3",
   "language": "python",
   "name": "python3"
  },
  "language_info": {
   "codemirror_mode": {
    "name": "ipython",
    "version": 3
   },
   "file_extension": ".py",
   "mimetype": "text/x-python",
   "name": "python",
   "nbconvert_exporter": "python",
   "pygments_lexer": "ipython3",
   "version": "3.9.5"
  }
 },
 "nbformat": 4,
 "nbformat_minor": 1
}
