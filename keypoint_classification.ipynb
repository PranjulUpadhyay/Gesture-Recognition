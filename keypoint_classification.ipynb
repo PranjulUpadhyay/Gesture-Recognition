{
 "cells": [
  {
   "cell_type": "code",
   "execution_count": 28,
   "metadata": {},
   "outputs": [],
   "source": [
    "import csv\n",
    "\n",
    "import numpy as np\n",
    "import tensorflow as tf\n",
    "from sklearn.model_selection import train_test_split\n",
    "\n",
    "RANDOM_SEED = 42"
   ]
  },
  {
   "cell_type": "markdown",
   "metadata": {},
   "source": [
    "# 各パス指定"
   ]
  },
  {
   "cell_type": "code",
   "execution_count": 29,
   "metadata": {},
   "outputs": [],
   "source": [
    "dataset = 'model/keypoint_classifier/keypoint.csv'\n",
    "model_save_path = 'model/keypoint_classifier/keypoint_classifier.hdf5'"
   ]
  },
  {
   "cell_type": "markdown",
   "metadata": {},
   "source": [
    "# 分類数設定"
   ]
  },
  {
   "cell_type": "code",
   "execution_count": 30,
   "metadata": {},
   "outputs": [],
   "source": [
    "NUM_CLASSES = 6"
   ]
  },
  {
   "cell_type": "markdown",
   "metadata": {},
   "source": [
    "# 学習データ読み込み"
   ]
  },
  {
   "cell_type": "code",
   "execution_count": 31,
   "metadata": {},
   "outputs": [],
   "source": [
    "X_dataset = np.loadtxt(dataset, delimiter=',', dtype='float32', usecols=list(range(1, (21 * 2) + 1)))"
   ]
  },
  {
   "cell_type": "code",
   "execution_count": 32,
   "metadata": {},
   "outputs": [],
   "source": [
    "y_dataset = np.loadtxt(dataset, delimiter=',', dtype='int32', usecols=(0))"
   ]
  },
  {
   "cell_type": "code",
   "execution_count": 33,
   "metadata": {},
   "outputs": [],
   "source": [
    "X_train, X_test, y_train, y_test = train_test_split(X_dataset, y_dataset, train_size=0.75, random_state=RANDOM_SEED)"
   ]
  },
  {
   "cell_type": "markdown",
   "metadata": {},
   "source": [
    "# モデル構築"
   ]
  },
  {
   "cell_type": "code",
   "execution_count": 34,
   "metadata": {},
   "outputs": [],
   "source": [
    "model = tf.keras.models.Sequential([\n",
    "    tf.keras.layers.Input((21 * 2, )),\n",
    "    tf.keras.layers.Dropout(0.2),\n",
    "    tf.keras.layers.Dense(20, activation='relu'),\n",
    "    tf.keras.layers.Dropout(0.4),\n",
    "    tf.keras.layers.Dense(10, activation='relu'),\n",
    "    tf.keras.layers.Dense(NUM_CLASSES, activation='softmax')\n",
    "])"
   ]
  },
  {
   "cell_type": "code",
   "execution_count": 35,
   "metadata": {},
   "outputs": [
    {
     "name": "stdout",
     "output_type": "stream",
     "text": [
      "Model: \"sequential_2\"\n",
      "_________________________________________________________________\n",
      " Layer (type)                Output Shape              Param #   \n",
      "=================================================================\n",
      " dropout_4 (Dropout)         (None, 42)                0         \n",
      "                                                                 \n",
      " dense_6 (Dense)             (None, 20)                860       \n",
      "                                                                 \n",
      " dropout_5 (Dropout)         (None, 20)                0         \n",
      "                                                                 \n",
      " dense_7 (Dense)             (None, 10)                210       \n",
      "                                                                 \n",
      " dense_8 (Dense)             (None, 6)                 66        \n",
      "                                                                 \n",
      "=================================================================\n",
      "Total params: 1136 (4.44 KB)\n",
      "Trainable params: 1136 (4.44 KB)\n",
      "Non-trainable params: 0 (0.00 Byte)\n",
      "_________________________________________________________________\n"
     ]
    }
   ],
   "source": [
    "model.summary()  # tf.keras.utils.plot_model(model, show_shapes=True)"
   ]
  },
  {
   "cell_type": "code",
   "execution_count": 36,
   "metadata": {},
   "outputs": [],
   "source": [
    "# モデルチェックポイントのコールバック\n",
    "cp_callback = tf.keras.callbacks.ModelCheckpoint(\n",
    "    model_save_path, verbose=1, save_weights_only=False)\n",
    "# 早期打ち切り用コールバック\n",
    "es_callback = tf.keras.callbacks.EarlyStopping(patience=20, verbose=1)"
   ]
  },
  {
   "cell_type": "code",
   "execution_count": 37,
   "metadata": {},
   "outputs": [],
   "source": [
    "# モデルコンパイル\n",
    "model.compile(\n",
    "    optimizer='adam',\n",
    "    loss='sparse_categorical_crossentropy',\n",
    "    metrics=['accuracy']\n",
    ")"
   ]
  },
  {
   "cell_type": "markdown",
   "metadata": {},
   "source": [
    "# モデル訓練"
   ]
  },
  {
   "cell_type": "code",
   "execution_count": null,
   "metadata": {
    "scrolled": true
   },
   "outputs": [
    {
     "name": "stdout",
     "output_type": "stream",
     "text": [
      "Epoch 1/1000\n",
      "27/30 [==========================>...] - ETA: 0s - loss: 1.8104 - accuracy: 0.1820 \n",
      "Epoch 1: saving model to model/keypoint_classifier/keypoint_classifier.hdf5\n",
      "30/30 [==============================] - 1s 9ms/step - loss: 1.8060 - accuracy: 0.1890 - val_loss: 1.7034 - val_accuracy: 0.3619\n",
      "Epoch 2/1000\n",
      "15/30 [==============>...............] - ETA: 0s - loss: 1.7082 - accuracy: 0.3078\n",
      "Epoch 2: saving model to model/keypoint_classifier/keypoint_classifier.hdf5\n",
      "30/30 [==============================] - 0s 5ms/step - loss: 1.6865 - accuracy: 0.3281 - val_loss: 1.6089 - val_accuracy: 0.4123\n",
      "Epoch 3/1000\n",
      " 1/30 [>.............................] - ETA: 0s - loss: 1.6768 - accuracy: 0.2969"
     ]
    },
    {
     "name": "stderr",
     "output_type": "stream",
     "text": [
      "/usr/local/lib/python3.11/site-packages/keras/src/engine/training.py:3079: UserWarning: You are saving your model as an HDF5 file via `model.save()`. This file format is considered legacy. We recommend using instead the native Keras format, e.g. `model.save('my_model.keras')`.\n",
      "  saving_api.save_model(\n"
     ]
    },
    {
     "name": "stdout",
     "output_type": "stream",
     "text": [
      "16/30 [===============>..............] - ETA: 0s - loss: 1.6237 - accuracy: 0.3618\n",
      "Epoch 3: saving model to model/keypoint_classifier/keypoint_classifier.hdf5\n",
      "30/30 [==============================] - 0s 5ms/step - loss: 1.6064 - accuracy: 0.3664 - val_loss: 1.5132 - val_accuracy: 0.4241\n",
      "Epoch 4/1000\n",
      "25/30 [========================>.....] - ETA: 0s - loss: 1.5275 - accuracy: 0.3947\n",
      "Epoch 4: saving model to model/keypoint_classifier/keypoint_classifier.hdf5\n",
      "30/30 [==============================] - 0s 4ms/step - loss: 1.5232 - accuracy: 0.3945 - val_loss: 1.4233 - val_accuracy: 0.4548\n",
      "Epoch 5/1000\n",
      " 1/30 [>.............................] - ETA: 0s - loss: 1.5100 - accuracy: 0.3906\n",
      "Epoch 5: saving model to model/keypoint_classifier/keypoint_classifier.hdf5\n",
      "30/30 [==============================] - 0s 3ms/step - loss: 1.4518 - accuracy: 0.4171 - val_loss: 1.3438 - val_accuracy: 0.4831\n",
      "Epoch 6/1000\n",
      " 1/30 [>.............................] - ETA: 0s - loss: 1.3846 - accuracy: 0.4688\n",
      "Epoch 6: saving model to model/keypoint_classifier/keypoint_classifier.hdf5\n",
      "30/30 [==============================] - 0s 3ms/step - loss: 1.4098 - accuracy: 0.4155 - val_loss: 1.2800 - val_accuracy: 0.5051\n",
      "Epoch 7/1000\n",
      " 1/30 [>.............................] - ETA: 0s - loss: 1.3270 - accuracy: 0.4062\n",
      "Epoch 7: saving model to model/keypoint_classifier/keypoint_classifier.hdf5\n",
      "30/30 [==============================] - 0s 3ms/step - loss: 1.3521 - accuracy: 0.4360 - val_loss: 1.2247 - val_accuracy: 0.5232\n",
      "Epoch 8/1000\n",
      " 1/30 [>.............................] - ETA: 0s - loss: 1.2426 - accuracy: 0.5469\n",
      "Epoch 8: saving model to model/keypoint_classifier/keypoint_classifier.hdf5\n",
      "30/30 [==============================] - 0s 3ms/step - loss: 1.3223 - accuracy: 0.4549 - val_loss: 1.1776 - val_accuracy: 0.5570\n",
      "Epoch 9/1000\n",
      " 1/30 [>.............................] - ETA: 0s - loss: 1.2209 - accuracy: 0.5234\n",
      "Epoch 9: saving model to model/keypoint_classifier/keypoint_classifier.hdf5\n",
      "30/30 [==============================] - 0s 3ms/step - loss: 1.2674 - accuracy: 0.4709 - val_loss: 1.1293 - val_accuracy: 0.5806\n",
      "Epoch 10/1000\n",
      " 1/30 [>.............................] - ETA: 0s - loss: 1.1875 - accuracy: 0.5078\n",
      "Epoch 10: saving model to model/keypoint_classifier/keypoint_classifier.hdf5\n",
      "30/30 [==============================] - 0s 3ms/step - loss: 1.2286 - accuracy: 0.4848 - val_loss: 1.0881 - val_accuracy: 0.5932\n",
      "Epoch 11/1000\n",
      " 1/30 [>.............................] - ETA: 0s - loss: 1.2091 - accuracy: 0.5000\n",
      "Epoch 11: saving model to model/keypoint_classifier/keypoint_classifier.hdf5\n",
      "30/30 [==============================] - 0s 3ms/step - loss: 1.1942 - accuracy: 0.5113 - val_loss: 1.0411 - val_accuracy: 0.6326\n",
      "Epoch 12/1000\n",
      " 1/30 [>.............................] - ETA: 0s - loss: 1.1820 - accuracy: 0.5000\n",
      "Epoch 12: saving model to model/keypoint_classifier/keypoint_classifier.hdf5\n",
      "30/30 [==============================] - 0s 3ms/step - loss: 1.1816 - accuracy: 0.5268 - val_loss: 1.0039 - val_accuracy: 0.6829\n",
      "Epoch 13/1000\n",
      " 1/30 [>.............................] - ETA: 0s - loss: 1.1051 - accuracy: 0.5078\n",
      "Epoch 13: saving model to model/keypoint_classifier/keypoint_classifier.hdf5\n",
      "30/30 [==============================] - 0s 4ms/step - loss: 1.1462 - accuracy: 0.5446 - val_loss: 0.9633 - val_accuracy: 0.7530\n",
      "Epoch 14/1000\n",
      " 1/30 [>.............................] - ETA: 0s - loss: 1.1515 - accuracy: 0.4766\n",
      "Epoch 14: saving model to model/keypoint_classifier/keypoint_classifier.hdf5\n",
      "30/30 [==============================] - 0s 3ms/step - loss: 1.1202 - accuracy: 0.5496 - val_loss: 0.9277 - val_accuracy: 0.7671\n",
      "Epoch 15/1000\n",
      " 1/30 [>.............................] - ETA: 0s - loss: 1.0579 - accuracy: 0.6172\n",
      "Epoch 15: saving model to model/keypoint_classifier/keypoint_classifier.hdf5\n",
      "30/30 [==============================] - 0s 3ms/step - loss: 1.0816 - accuracy: 0.5696 - val_loss: 0.8913 - val_accuracy: 0.7836\n",
      "Epoch 16/1000\n",
      " 1/30 [>.............................] - ETA: 0s - loss: 1.0017 - accuracy: 0.6016\n",
      "Epoch 16: saving model to model/keypoint_classifier/keypoint_classifier.hdf5\n",
      "30/30 [==============================] - 0s 3ms/step - loss: 1.0574 - accuracy: 0.5887 - val_loss: 0.8557 - val_accuracy: 0.7836\n",
      "Epoch 17/1000\n",
      " 1/30 [>.............................] - ETA: 0s - loss: 1.0991 - accuracy: 0.5859\n",
      "Epoch 17: saving model to model/keypoint_classifier/keypoint_classifier.hdf5\n",
      "30/30 [==============================] - 0s 3ms/step - loss: 1.0447 - accuracy: 0.5882 - val_loss: 0.8248 - val_accuracy: 0.7986\n",
      "Epoch 18/1000\n",
      " 1/30 [>.............................] - ETA: 0s - loss: 1.0494 - accuracy: 0.5703\n",
      "Epoch 18: saving model to model/keypoint_classifier/keypoint_classifier.hdf5\n",
      "30/30 [==============================] - 0s 3ms/step - loss: 1.0099 - accuracy: 0.6094 - val_loss: 0.7903 - val_accuracy: 0.8025\n",
      "Epoch 19/1000\n",
      "27/30 [==========================>...] - ETA: 0s - loss: 1.0072 - accuracy: 0.6045\n",
      "Epoch 19: saving model to model/keypoint_classifier/keypoint_classifier.hdf5\n",
      "30/30 [==============================] - 0s 4ms/step - loss: 1.0049 - accuracy: 0.6050 - val_loss: 0.7688 - val_accuracy: 0.8041\n",
      "Epoch 20/1000\n",
      " 1/30 [>.............................] - ETA: 0s - loss: 1.0602 - accuracy: 0.5391\n",
      "Epoch 20: saving model to model/keypoint_classifier/keypoint_classifier.hdf5\n",
      "30/30 [==============================] - 0s 3ms/step - loss: 0.9975 - accuracy: 0.5948 - val_loss: 0.7538 - val_accuracy: 0.8096\n",
      "Epoch 21/1000\n",
      " 1/30 [>.............................] - ETA: 0s - loss: 0.9823 - accuracy: 0.6172\n",
      "Epoch 21: saving model to model/keypoint_classifier/keypoint_classifier.hdf5\n",
      "30/30 [==============================] - 0s 3ms/step - loss: 0.9655 - accuracy: 0.6270 - val_loss: 0.7265 - val_accuracy: 0.8206\n",
      "Epoch 22/1000\n",
      " 1/30 [>.............................] - ETA: 0s - loss: 0.9838 - accuracy: 0.6406\n",
      "Epoch 22: saving model to model/keypoint_classifier/keypoint_classifier.hdf5\n",
      "30/30 [==============================] - 0s 3ms/step - loss: 0.9665 - accuracy: 0.6362 - val_loss: 0.7057 - val_accuracy: 0.8301\n",
      "Epoch 23/1000\n",
      " 1/30 [>.............................] - ETA: 0s - loss: 0.9259 - accuracy: 0.6172\n",
      "Epoch 23: saving model to model/keypoint_classifier/keypoint_classifier.hdf5\n",
      "30/30 [==============================] - 0s 3ms/step - loss: 0.9379 - accuracy: 0.6294 - val_loss: 0.6871 - val_accuracy: 0.8356\n",
      "Epoch 24/1000\n",
      " 1/30 [>.............................] - ETA: 0s - loss: 0.9333 - accuracy: 0.6406\n",
      "Epoch 24: saving model to model/keypoint_classifier/keypoint_classifier.hdf5\n",
      "30/30 [==============================] - 0s 3ms/step - loss: 0.9243 - accuracy: 0.6425 - val_loss: 0.6702 - val_accuracy: 0.8371\n",
      "Epoch 25/1000\n",
      " 1/30 [>.............................] - ETA: 0s - loss: 0.9623 - accuracy: 0.6172\n",
      "Epoch 25: saving model to model/keypoint_classifier/keypoint_classifier.hdf5\n",
      "30/30 [==============================] - 0s 3ms/step - loss: 0.9349 - accuracy: 0.6451 - val_loss: 0.6630 - val_accuracy: 0.8411\n",
      "Epoch 26/1000\n",
      "28/30 [===========================>..] - ETA: 0s - loss: 0.9222 - accuracy: 0.6401\n",
      "Epoch 26: saving model to model/keypoint_classifier/keypoint_classifier.hdf5\n",
      "30/30 [==============================] - 0s 4ms/step - loss: 0.9228 - accuracy: 0.6388 - val_loss: 0.6472 - val_accuracy: 0.8419\n",
      "Epoch 27/1000\n",
      "26/30 [=========================>....] - ETA: 0s - loss: 0.9117 - accuracy: 0.6460\n",
      "Epoch 27: saving model to model/keypoint_classifier/keypoint_classifier.hdf5\n",
      "30/30 [==============================] - 0s 4ms/step - loss: 0.9147 - accuracy: 0.6465 - val_loss: 0.6379 - val_accuracy: 0.8411\n",
      "Epoch 28/1000\n",
      "30/30 [==============================] - ETA: 0s - loss: 0.8974 - accuracy: 0.6583\n",
      "Epoch 28: saving model to model/keypoint_classifier/keypoint_classifier.hdf5\n",
      "30/30 [==============================] - 0s 3ms/step - loss: 0.8974 - accuracy: 0.6583 - val_loss: 0.6250 - val_accuracy: 0.8450\n",
      "Epoch 29/1000\n",
      "21/30 [====================>.........] - ETA: 0s - loss: 0.8930 - accuracy: 0.6704\n",
      "Epoch 29: saving model to model/keypoint_classifier/keypoint_classifier.hdf5\n",
      "30/30 [==============================] - 0s 8ms/step - loss: 0.8846 - accuracy: 0.6690 - val_loss: 0.6055 - val_accuracy: 0.8497\n",
      "Epoch 30/1000\n",
      "27/30 [==========================>...] - ETA: 0s - loss: 0.8895 - accuracy: 0.6661\n",
      "Epoch 30: saving model to model/keypoint_classifier/keypoint_classifier.hdf5\n",
      "30/30 [==============================] - 0s 4ms/step - loss: 0.8863 - accuracy: 0.6667 - val_loss: 0.6060 - val_accuracy: 0.8513\n",
      "Epoch 31/1000\n",
      "26/30 [=========================>....] - ETA: 0s - loss: 0.8605 - accuracy: 0.6755\n",
      "Epoch 31: saving model to model/keypoint_classifier/keypoint_classifier.hdf5\n",
      "30/30 [==============================] - 0s 4ms/step - loss: 0.8570 - accuracy: 0.6743 - val_loss: 0.5876 - val_accuracy: 0.8568\n",
      "Epoch 32/1000\n",
      "29/30 [============================>.] - ETA: 0s - loss: 0.8644 - accuracy: 0.6756\n",
      "Epoch 32: saving model to model/keypoint_classifier/keypoint_classifier.hdf5\n",
      "30/30 [==============================] - 0s 3ms/step - loss: 0.8649 - accuracy: 0.6745 - val_loss: 0.5778 - val_accuracy: 0.8568\n",
      "Epoch 33/1000\n",
      "16/30 [===============>..............] - ETA: 0s - loss: 0.8483 - accuracy: 0.6831\n",
      "Epoch 33: saving model to model/keypoint_classifier/keypoint_classifier.hdf5\n",
      "30/30 [==============================] - 0s 5ms/step - loss: 0.8712 - accuracy: 0.6727 - val_loss: 0.5738 - val_accuracy: 0.8607\n",
      "Epoch 34/1000\n",
      "20/30 [===================>..........] - ETA: 0s - loss: 0.8491 - accuracy: 0.6746\n",
      "Epoch 34: saving model to model/keypoint_classifier/keypoint_classifier.hdf5\n",
      "30/30 [==============================] - 0s 7ms/step - loss: 0.8542 - accuracy: 0.6719 - val_loss: 0.5624 - val_accuracy: 0.8600\n",
      "Epoch 35/1000\n",
      "25/30 [========================>.....] - ETA: 0s - loss: 0.8475 - accuracy: 0.6809\n",
      "Epoch 35: saving model to model/keypoint_classifier/keypoint_classifier.hdf5\n",
      "30/30 [==============================] - 0s 9ms/step - loss: 0.8480 - accuracy: 0.6766 - val_loss: 0.5592 - val_accuracy: 0.8702\n",
      "Epoch 36/1000\n",
      "21/30 [====================>.........] - ETA: 0s - loss: 0.8503 - accuracy: 0.6767\n",
      "Epoch 36: saving model to model/keypoint_classifier/keypoint_classifier.hdf5\n",
      "30/30 [==============================] - 0s 5ms/step - loss: 0.8504 - accuracy: 0.6801 - val_loss: 0.5522 - val_accuracy: 0.8607\n",
      "Epoch 37/1000\n",
      "26/30 [=========================>....] - ETA: 0s - loss: 0.8324 - accuracy: 0.6875\n",
      "Epoch 37: saving model to model/keypoint_classifier/keypoint_classifier.hdf5\n",
      "30/30 [==============================] - 0s 5ms/step - loss: 0.8279 - accuracy: 0.6900 - val_loss: 0.5542 - val_accuracy: 0.8631\n",
      "Epoch 38/1000\n",
      "26/30 [=========================>....] - ETA: 0s - loss: 0.8172 - accuracy: 0.6920\n",
      "Epoch 38: saving model to model/keypoint_classifier/keypoint_classifier.hdf5\n",
      "30/30 [==============================] - 0s 6ms/step - loss: 0.8243 - accuracy: 0.6882 - val_loss: 0.5411 - val_accuracy: 0.8710\n",
      "Epoch 39/1000\n",
      " 1/30 [>.............................] - ETA: 0s - loss: 0.8714 - accuracy: 0.6641\n",
      "Epoch 39: saving model to model/keypoint_classifier/keypoint_classifier.hdf5\n",
      "30/30 [==============================] - 0s 3ms/step - loss: 0.8325 - accuracy: 0.6871 - val_loss: 0.5330 - val_accuracy: 0.8702\n",
      "Epoch 40/1000\n",
      " 1/30 [>.............................] - ETA: 0s - loss: 0.9665 - accuracy: 0.6406\n",
      "Epoch 40: saving model to model/keypoint_classifier/keypoint_classifier.hdf5\n",
      "30/30 [==============================] - 0s 3ms/step - loss: 0.8223 - accuracy: 0.6945 - val_loss: 0.5248 - val_accuracy: 0.8733\n",
      "Epoch 41/1000\n",
      "26/30 [=========================>....] - ETA: 0s - loss: 0.7982 - accuracy: 0.7019\n",
      "Epoch 41: saving model to model/keypoint_classifier/keypoint_classifier.hdf5\n",
      "30/30 [==============================] - 0s 4ms/step - loss: 0.7922 - accuracy: 0.7047 - val_loss: 0.5137 - val_accuracy: 0.8741\n",
      "Epoch 42/1000\n",
      "27/30 [==========================>...] - ETA: 0s - loss: 0.8263 - accuracy: 0.6936\n",
      "Epoch 42: saving model to model/keypoint_classifier/keypoint_classifier.hdf5\n",
      "30/30 [==============================] - 0s 4ms/step - loss: 0.8195 - accuracy: 0.6969 - val_loss: 0.5215 - val_accuracy: 0.8678\n",
      "Epoch 43/1000\n",
      "29/30 [============================>.] - ETA: 0s - loss: 0.8072 - accuracy: 0.7039\n",
      "Epoch 43: saving model to model/keypoint_classifier/keypoint_classifier.hdf5\n",
      "30/30 [==============================] - 0s 4ms/step - loss: 0.8074 - accuracy: 0.7045 - val_loss: 0.5066 - val_accuracy: 0.8725\n",
      "Epoch 44/1000\n",
      " 1/30 [>.............................] - ETA: 0s - loss: 0.8436 - accuracy: 0.6875\n",
      "Epoch 44: saving model to model/keypoint_classifier/keypoint_classifier.hdf5\n",
      "30/30 [==============================] - 0s 3ms/step - loss: 0.8275 - accuracy: 0.6934 - val_loss: 0.5247 - val_accuracy: 0.8670\n",
      "Epoch 45/1000\n",
      "25/30 [========================>.....] - ETA: 0s - loss: 0.8052 - accuracy: 0.7003"
     ]
    }
   ],
   "source": [
    "model.fit(\n",
    "    X_train,\n",
    "    y_train,\n",
    "    epochs=1000,\n",
    "    batch_size=128,\n",
    "    validation_data=(X_test, y_test),\n",
    "    callbacks=[cp_callback, es_callback]\n",
    ")"
   ]
  },
  {
   "cell_type": "code",
   "execution_count": null,
   "metadata": {},
   "outputs": [],
   "source": [
    "# モデル評価\n",
    "val_loss, val_acc = model.evaluate(X_test, y_test, batch_size=128)"
   ]
  },
  {
   "cell_type": "code",
   "execution_count": null,
   "metadata": {},
   "outputs": [],
   "source": [
    "# 保存したモデルのロード\n",
    "model = tf.keras.models.load_model(model_save_path)"
   ]
  },
  {
   "cell_type": "code",
   "execution_count": null,
   "metadata": {},
   "outputs": [],
   "source": [
    "# 推論テスト\n",
    "predict_result = model.predict(np.array([X_test[0]]))\n",
    "print(np.squeeze(predict_result))\n",
    "print(np.argmax(np.squeeze(predict_result)))"
   ]
  },
  {
   "cell_type": "markdown",
   "metadata": {},
   "source": [
    "# 混同行列"
   ]
  },
  {
   "cell_type": "code",
   "execution_count": null,
   "metadata": {},
   "outputs": [],
   "source": [
    "import pandas as pd\n",
    "import seaborn as sns\n",
    "import matplotlib.pyplot as plt\n",
    "from sklearn.metrics import confusion_matrix, classification_report\n",
    "\n",
    "def print_confusion_matrix(y_true, y_pred, report=True):\n",
    "    labels = sorted(list(set(y_true)))\n",
    "    cmx_data = confusion_matrix(y_true, y_pred, labels=labels)\n",
    "    \n",
    "    df_cmx = pd.DataFrame(cmx_data, index=labels, columns=labels)\n",
    " \n",
    "    fig, ax = plt.subplots(figsize=(7, 6))\n",
    "    sns.heatmap(df_cmx, annot=True, fmt='g' ,square=False)\n",
    "    ax.set_ylim(len(set(y_true)), 0)\n",
    "    plt.show()\n",
    "    \n",
    "    if report:\n",
    "        print('Classification Report')\n",
    "        print(classification_report(y_test, y_pred))\n",
    "\n",
    "Y_pred = model.predict(X_test)\n",
    "y_pred = np.argmax(Y_pred, axis=1)\n",
    "\n",
    "print_confusion_matrix(y_test, y_pred)"
   ]
  },
  {
   "cell_type": "markdown",
   "metadata": {},
   "source": [
    "# Tensorflow-Lite用のモデルへ変換"
   ]
  },
  {
   "cell_type": "code",
   "execution_count": null,
   "metadata": {},
   "outputs": [],
   "source": [
    "# 推論専用のモデルとして保存\n",
    "model.save(model_save_path, include_optimizer=False)"
   ]
  },
  {
   "cell_type": "code",
   "execution_count": null,
   "metadata": {},
   "outputs": [],
   "source": [
    "# モデルを変換(量子化)\n",
    "tflite_save_path = 'model/keypoint_classifier/keypoint_classifier.tflite'\n",
    "\n",
    "converter = tf.lite.TFLiteConverter.from_keras_model(model)\n",
    "converter.optimizations = [tf.lite.Optimize.DEFAULT]\n",
    "tflite_quantized_model = converter.convert()\n",
    "\n",
    "open(tflite_save_path, 'wb').write(tflite_quantized_model)"
   ]
  },
  {
   "cell_type": "markdown",
   "metadata": {},
   "source": [
    "# 推論テスト"
   ]
  },
  {
   "cell_type": "code",
   "execution_count": null,
   "metadata": {},
   "outputs": [],
   "source": [
    "interpreter = tf.lite.Interpreter(model_path=tflite_save_path)\n",
    "interpreter.allocate_tensors()"
   ]
  },
  {
   "cell_type": "code",
   "execution_count": null,
   "metadata": {},
   "outputs": [],
   "source": [
    "# 入出力テンソルを取得\n",
    "input_details = interpreter.get_input_details()\n",
    "output_details = interpreter.get_output_details()"
   ]
  },
  {
   "cell_type": "code",
   "execution_count": null,
   "metadata": {},
   "outputs": [],
   "source": [
    "interpreter.set_tensor(input_details[0]['index'], np.array([X_test[0]]))"
   ]
  },
  {
   "cell_type": "code",
   "execution_count": null,
   "metadata": {
    "scrolled": true
   },
   "outputs": [],
   "source": [
    "%%time\n",
    "# 推論実施\n",
    "interpreter.invoke()\n",
    "tflite_results = interpreter.get_tensor(output_details[0]['index'])"
   ]
  },
  {
   "cell_type": "code",
   "execution_count": null,
   "metadata": {},
   "outputs": [],
   "source": [
    "print(np.squeeze(tflite_results))\n",
    "print(np.argmax(np.squeeze(tflite_results)))"
   ]
  }
 ],
 "metadata": {
  "kernelspec": {
   "display_name": "Python 3 (ipykernel)",
   "language": "python",
   "name": "python3"
  },
  "language_info": {
   "codemirror_mode": {
    "name": "ipython",
    "version": 3
   },
   "file_extension": ".py",
   "mimetype": "text/x-python",
   "name": "python",
   "nbconvert_exporter": "python",
   "pygments_lexer": "ipython3",
   "version": "3.11.6"
  }
 },
 "nbformat": 4,
 "nbformat_minor": 4
}
